{
  "nbformat": 4,
  "nbformat_minor": 0,
  "metadata": {
    "colab": {
      "provenance": [],
      "mount_file_id": "1urL1JOqVjdYNJ3ajdaS4ch4lftqNNxPb",
      "authorship_tag": "ABX9TyM8Iiy2HcNYjUHC6MZJhkTu",
      "include_colab_link": true
    },
    "kernelspec": {
      "name": "python3",
      "display_name": "Python 3"
    },
    "language_info": {
      "name": "python"
    },
    "accelerator": "GPU",
    "gpuClass": "premium"
  },
  "cells": [
    {
      "cell_type": "markdown",
      "metadata": {
        "id": "view-in-github",
        "colab_type": "text"
      },
      "source": [
        "<a href=\"https://colab.research.google.com/github/mgetsova/kaggle/blob/main/IceCube.ipynb\" target=\"_parent\"><img src=\"https://colab.research.google.com/assets/colab-badge.svg\" alt=\"Open In Colab\"/></a>"
      ]
    },
    {
      "cell_type": "code",
      "source": [
        "# Install required packages.\n",
        "import os\n",
        "import torch\n",
        "os.environ['TORCH'] = torch.__version__\n",
        "print(torch.__version__)\n",
        "\n",
        "!pip install -q torch-scatter -f https://data.pyg.org/whl/torch-${TORCH}.html\n",
        "!pip install -q torch-sparse -f https://data.pyg.org/whl/torch-${TORCH}.html\n",
        "!pip install -q torch-cluster -f https://data.pyg.org/whl/torch-${TORCH}.html\n",
        "!pip install -q git+https://github.com/pyg-team/pytorch_geometric.git\n",
        "\n",
        "# Helper functions for visualization.\n",
        "%matplotlib inline\n",
        "import matplotlib.pyplot as plt\n",
        "from mpl_toolkits.mplot3d import Axes3D\n",
        "\n",
        "!pip install opendatasets\n",
        "!pip install pandas"
      ],
      "metadata": {
        "colab": {
          "base_uri": "https://localhost:8080/"
        },
        "id": "noGaJIteUAY0",
        "outputId": "1d0bfcd8-4b9a-4b3f-fbcd-68ea17f0c2a0"
      },
      "execution_count": 2,
      "outputs": [
        {
          "output_type": "stream",
          "name": "stdout",
          "text": [
            "2.0.0+cu118\n",
            "\u001b[2K     \u001b[90m━━━━━━━━━━━━━━━━━━━━━━━━━━━━━━━━━━━━━━━━\u001b[0m \u001b[32m10.2/10.2 MB\u001b[0m \u001b[31m53.8 MB/s\u001b[0m eta \u001b[36m0:00:00\u001b[0m\n",
            "\u001b[2K     \u001b[90m━━━━━━━━━━━━━━━━━━━━━━━━━━━━━━━━━━━━━━━━\u001b[0m \u001b[32m4.8/4.8 MB\u001b[0m \u001b[31m39.1 MB/s\u001b[0m eta \u001b[36m0:00:00\u001b[0m\n",
            "\u001b[2K     \u001b[90m━━━━━━━━━━━━━━━━━━━━━━━━━━━━━━━━━━━━━━━━\u001b[0m \u001b[32m3.3/3.3 MB\u001b[0m \u001b[31m28.4 MB/s\u001b[0m eta \u001b[36m0:00:00\u001b[0m\n",
            "\u001b[?25h  Installing build dependencies ... \u001b[?25l\u001b[?25hdone\n",
            "  Getting requirements to build wheel ... \u001b[?25l\u001b[?25hdone\n",
            "  Preparing metadata (pyproject.toml) ... \u001b[?25l\u001b[?25hdone\n",
            "  Building wheel for torch_geometric (pyproject.toml) ... \u001b[?25l\u001b[?25hdone\n",
            "Looking in indexes: https://pypi.org/simple, https://us-python.pkg.dev/colab-wheels/public/simple/\n",
            "Collecting opendatasets\n",
            "  Downloading opendatasets-0.1.22-py3-none-any.whl (15 kB)\n",
            "Requirement already satisfied: kaggle in /usr/local/lib/python3.9/dist-packages (from opendatasets) (1.5.13)\n",
            "Requirement already satisfied: tqdm in /usr/local/lib/python3.9/dist-packages (from opendatasets) (4.65.0)\n",
            "Requirement already satisfied: click in /usr/local/lib/python3.9/dist-packages (from opendatasets) (8.1.3)\n",
            "Requirement already satisfied: requests in /usr/local/lib/python3.9/dist-packages (from kaggle->opendatasets) (2.27.1)\n",
            "Requirement already satisfied: python-dateutil in /usr/local/lib/python3.9/dist-packages (from kaggle->opendatasets) (2.8.2)\n",
            "Requirement already satisfied: certifi in /usr/local/lib/python3.9/dist-packages (from kaggle->opendatasets) (2022.12.7)\n",
            "Requirement already satisfied: six>=1.10 in /usr/local/lib/python3.9/dist-packages (from kaggle->opendatasets) (1.16.0)\n",
            "Requirement already satisfied: python-slugify in /usr/local/lib/python3.9/dist-packages (from kaggle->opendatasets) (8.0.1)\n",
            "Requirement already satisfied: urllib3 in /usr/local/lib/python3.9/dist-packages (from kaggle->opendatasets) (1.26.15)\n",
            "Requirement already satisfied: text-unidecode>=1.3 in /usr/local/lib/python3.9/dist-packages (from python-slugify->kaggle->opendatasets) (1.3)\n",
            "Requirement already satisfied: charset-normalizer~=2.0.0 in /usr/local/lib/python3.9/dist-packages (from requests->kaggle->opendatasets) (2.0.12)\n",
            "Requirement already satisfied: idna<4,>=2.5 in /usr/local/lib/python3.9/dist-packages (from requests->kaggle->opendatasets) (3.4)\n",
            "Installing collected packages: opendatasets\n",
            "Successfully installed opendatasets-0.1.22\n",
            "Looking in indexes: https://pypi.org/simple, https://us-python.pkg.dev/colab-wheels/public/simple/\n",
            "Requirement already satisfied: pandas in /usr/local/lib/python3.9/dist-packages (1.5.3)\n",
            "Requirement already satisfied: numpy>=1.20.3 in /usr/local/lib/python3.9/dist-packages (from pandas) (1.22.4)\n",
            "Requirement already satisfied: pytz>=2020.1 in /usr/local/lib/python3.9/dist-packages (from pandas) (2022.7.1)\n",
            "Requirement already satisfied: python-dateutil>=2.8.1 in /usr/local/lib/python3.9/dist-packages (from pandas) (2.8.2)\n",
            "Requirement already satisfied: six>=1.5 in /usr/local/lib/python3.9/dist-packages (from python-dateutil>=2.8.1->pandas) (1.16.0)\n"
          ]
        }
      ]
    },
    {
      "cell_type": "code",
      "execution_count": 3,
      "metadata": {
        "id": "uePnTh2ARDw3",
        "colab": {
          "base_uri": "https://localhost:8080/",
          "height": 206
        },
        "outputId": "f4300257-defe-457f-a125-8b317b54e613"
      },
      "outputs": [
        {
          "output_type": "execute_result",
          "data": {
            "text/plain": [
              "     zenith   azimuth     dir_x     dir_y     dir_z\n",
              "0  2.087498  5.029555  0.271161 -0.826088 -0.494015\n",
              "1  1.549686  0.417742  0.913804  0.405607  0.021108\n",
              "2  2.401942  1.160466  0.268879  0.618078 -0.738704\n",
              "3  0.759054  5.845952  0.623491 -0.291423  0.725488\n",
              "4  0.939117  0.653719  0.640648  0.490794  0.590501"
            ],
            "text/html": [
              "\n",
              "  <div id=\"df-48fd6b1e-199e-4b02-b91c-4c06bfee4b89\">\n",
              "    <div class=\"colab-df-container\">\n",
              "      <div>\n",
              "<style scoped>\n",
              "    .dataframe tbody tr th:only-of-type {\n",
              "        vertical-align: middle;\n",
              "    }\n",
              "\n",
              "    .dataframe tbody tr th {\n",
              "        vertical-align: top;\n",
              "    }\n",
              "\n",
              "    .dataframe thead th {\n",
              "        text-align: right;\n",
              "    }\n",
              "</style>\n",
              "<table border=\"1\" class=\"dataframe\">\n",
              "  <thead>\n",
              "    <tr style=\"text-align: right;\">\n",
              "      <th></th>\n",
              "      <th>zenith</th>\n",
              "      <th>azimuth</th>\n",
              "      <th>dir_x</th>\n",
              "      <th>dir_y</th>\n",
              "      <th>dir_z</th>\n",
              "    </tr>\n",
              "  </thead>\n",
              "  <tbody>\n",
              "    <tr>\n",
              "      <th>0</th>\n",
              "      <td>2.087498</td>\n",
              "      <td>5.029555</td>\n",
              "      <td>0.271161</td>\n",
              "      <td>-0.826088</td>\n",
              "      <td>-0.494015</td>\n",
              "    </tr>\n",
              "    <tr>\n",
              "      <th>1</th>\n",
              "      <td>1.549686</td>\n",
              "      <td>0.417742</td>\n",
              "      <td>0.913804</td>\n",
              "      <td>0.405607</td>\n",
              "      <td>0.021108</td>\n",
              "    </tr>\n",
              "    <tr>\n",
              "      <th>2</th>\n",
              "      <td>2.401942</td>\n",
              "      <td>1.160466</td>\n",
              "      <td>0.268879</td>\n",
              "      <td>0.618078</td>\n",
              "      <td>-0.738704</td>\n",
              "    </tr>\n",
              "    <tr>\n",
              "      <th>3</th>\n",
              "      <td>0.759054</td>\n",
              "      <td>5.845952</td>\n",
              "      <td>0.623491</td>\n",
              "      <td>-0.291423</td>\n",
              "      <td>0.725488</td>\n",
              "    </tr>\n",
              "    <tr>\n",
              "      <th>4</th>\n",
              "      <td>0.939117</td>\n",
              "      <td>0.653719</td>\n",
              "      <td>0.640648</td>\n",
              "      <td>0.490794</td>\n",
              "      <td>0.590501</td>\n",
              "    </tr>\n",
              "  </tbody>\n",
              "</table>\n",
              "</div>\n",
              "      <button class=\"colab-df-convert\" onclick=\"convertToInteractive('df-48fd6b1e-199e-4b02-b91c-4c06bfee4b89')\"\n",
              "              title=\"Convert this dataframe to an interactive table.\"\n",
              "              style=\"display:none;\">\n",
              "        \n",
              "  <svg xmlns=\"http://www.w3.org/2000/svg\" height=\"24px\"viewBox=\"0 0 24 24\"\n",
              "       width=\"24px\">\n",
              "    <path d=\"M0 0h24v24H0V0z\" fill=\"none\"/>\n",
              "    <path d=\"M18.56 5.44l.94 2.06.94-2.06 2.06-.94-2.06-.94-.94-2.06-.94 2.06-2.06.94zm-11 1L8.5 8.5l.94-2.06 2.06-.94-2.06-.94L8.5 2.5l-.94 2.06-2.06.94zm10 10l.94 2.06.94-2.06 2.06-.94-2.06-.94-.94-2.06-.94 2.06-2.06.94z\"/><path d=\"M17.41 7.96l-1.37-1.37c-.4-.4-.92-.59-1.43-.59-.52 0-1.04.2-1.43.59L10.3 9.45l-7.72 7.72c-.78.78-.78 2.05 0 2.83L4 21.41c.39.39.9.59 1.41.59.51 0 1.02-.2 1.41-.59l7.78-7.78 2.81-2.81c.8-.78.8-2.07 0-2.86zM5.41 20L4 18.59l7.72-7.72 1.47 1.35L5.41 20z\"/>\n",
              "  </svg>\n",
              "      </button>\n",
              "      \n",
              "  <style>\n",
              "    .colab-df-container {\n",
              "      display:flex;\n",
              "      flex-wrap:wrap;\n",
              "      gap: 12px;\n",
              "    }\n",
              "\n",
              "    .colab-df-convert {\n",
              "      background-color: #E8F0FE;\n",
              "      border: none;\n",
              "      border-radius: 50%;\n",
              "      cursor: pointer;\n",
              "      display: none;\n",
              "      fill: #1967D2;\n",
              "      height: 32px;\n",
              "      padding: 0 0 0 0;\n",
              "      width: 32px;\n",
              "    }\n",
              "\n",
              "    .colab-df-convert:hover {\n",
              "      background-color: #E2EBFA;\n",
              "      box-shadow: 0px 1px 2px rgba(60, 64, 67, 0.3), 0px 1px 3px 1px rgba(60, 64, 67, 0.15);\n",
              "      fill: #174EA6;\n",
              "    }\n",
              "\n",
              "    [theme=dark] .colab-df-convert {\n",
              "      background-color: #3B4455;\n",
              "      fill: #D2E3FC;\n",
              "    }\n",
              "\n",
              "    [theme=dark] .colab-df-convert:hover {\n",
              "      background-color: #434B5C;\n",
              "      box-shadow: 0px 1px 3px 1px rgba(0, 0, 0, 0.15);\n",
              "      filter: drop-shadow(0px 1px 2px rgba(0, 0, 0, 0.3));\n",
              "      fill: #FFFFFF;\n",
              "    }\n",
              "  </style>\n",
              "\n",
              "      <script>\n",
              "        const buttonEl =\n",
              "          document.querySelector('#df-48fd6b1e-199e-4b02-b91c-4c06bfee4b89 button.colab-df-convert');\n",
              "        buttonEl.style.display =\n",
              "          google.colab.kernel.accessAllowed ? 'block' : 'none';\n",
              "\n",
              "        async function convertToInteractive(key) {\n",
              "          const element = document.querySelector('#df-48fd6b1e-199e-4b02-b91c-4c06bfee4b89');\n",
              "          const dataTable =\n",
              "            await google.colab.kernel.invokeFunction('convertToInteractive',\n",
              "                                                     [key], {});\n",
              "          if (!dataTable) return;\n",
              "\n",
              "          const docLinkHtml = 'Like what you see? Visit the ' +\n",
              "            '<a target=\"_blank\" href=https://colab.research.google.com/notebooks/data_table.ipynb>data table notebook</a>'\n",
              "            + ' to learn more about interactive tables.';\n",
              "          element.innerHTML = '';\n",
              "          dataTable['output_type'] = 'display_data';\n",
              "          await google.colab.output.renderOutput(dataTable, element);\n",
              "          const docLink = document.createElement('div');\n",
              "          docLink.innerHTML = docLinkHtml;\n",
              "          element.appendChild(docLink);\n",
              "        }\n",
              "      </script>\n",
              "    </div>\n",
              "  </div>\n",
              "  "
            ]
          },
          "metadata": {},
          "execution_count": 3
        }
      ],
      "source": [
        "from pathlib import Path\n",
        "from typing import Any, Callable, List, Optional, Sequence, Tuple, Union\n",
        "import numpy as np\n",
        "import pandas as pd\n",
        "import torch\n",
        "\n",
        "from drive.MyDrive.IceCube.ice_transparency import ice_transparency\n",
        "from drive.MyDrive.IceCube.prepare_sensors import prepare_sensors\n",
        "\n",
        "INPUT_PATH = Path(\"drive/MyDrive/IceCube\")\n",
        "TRANSPARENCY_PATH = INPUT_PATH / \"ice_transperancy.txt\"\n",
        "#FULL_TRAIN_META_PATH = INPUT_PATH / \"train_meta.parquet\"\n",
        "TRAIN_PATH = INPUT_PATH / \"train\"\n",
        "STARTER_PULSE_PATH = TRAIN_PATH / 'pulses'\n",
        "STARTER_META_PATH = TRAIN_PATH / 'meta'\n",
        "\n",
        "BATCH_FILE = 1\n",
        "\n",
        "meta = pd.read_parquet(STARTER_META_PATH / f\"batch_{BATCH_FILE}.parquet\", columns=[\"event_id\", 'azimuth', 'zenith'], engine=\"pyarrow\", use_threads=True)\n",
        "sensor_df = prepare_sensors(INPUT_PATH / \"sensor_geometry.csv\")\n",
        "f_scattering, f_absorption = ice_transparency(TRANSPARENCY_PATH)\n",
        "event_ids = meta.event_id\n",
        "y = meta[['zenith', 'azimuth']].reset_index(drop=True)\n",
        "xx = np.cos(y['azimuth']) * np.sin(y['zenith'])\n",
        "yy = np.sin(y['azimuth']) * np.sin(y['zenith'])\n",
        "zz = np.cos(y['zenith'])\n",
        "y['dir_x'] = xx\n",
        "y['dir_y'] = yy\n",
        "y['dir_z'] = zz\n",
        "\n",
        "\n",
        "y.head()"
      ]
    },
    {
      "cell_type": "code",
      "source": [
        "y.loc[0][2:].values\n",
        "#y.loc[0,:].values"
      ],
      "metadata": {
        "colab": {
          "base_uri": "https://localhost:8080/"
        },
        "id": "nViBr172pAQG",
        "outputId": "b2516fda-41d1-4f78-c3a7-9ff376bfb850"
      },
      "execution_count": 14,
      "outputs": [
        {
          "output_type": "execute_result",
          "data": {
            "text/plain": [
              "array([ 0.27116069, -0.82608801, -0.49401465])"
            ]
          },
          "metadata": {},
          "execution_count": 14
        }
      ]
    },
    {
      "cell_type": "markdown",
      "source": [
        "Zenith ranges from 0 to pi. \n",
        "<br>\n",
        "Azimuth ranges from 0 to 2pi.\n",
        "\n",
        "**for sensors:**\n",
        "<br>\n",
        "118 x coords \n",
        "<br>\n",
        "117 y coords\n",
        "<br>\n",
        "4975 z coords\n",
        "<br>\n",
        "86 strings (as described in paper)\n",
        "<br>\n",
        "qe is assumed to be the same as relative DOM efficiency (where bottom 50 detectors have a higher value) \n",
        "<br> <br>\n",
        "above are scaled as in graphnet model for IceCube86 ...coords divided by 500, strings go from 0-85 (presumably, also don't use in training) and eq is two numbers, either -1 or 0.4 "
      ],
      "metadata": {
        "id": "6sB_G1F6XkUc"
      }
    },
    {
      "cell_type": "code",
      "source": [
        "sensor_df['qe'].value_counts()"
      ],
      "metadata": {
        "colab": {
          "base_uri": "https://localhost:8080/"
        },
        "id": "DAyOAPk-W-lO",
        "outputId": "d406947b-56ba-4ddc-a49f-26a927f511ad"
      },
      "execution_count": 3,
      "outputs": [
        {
          "output_type": "execute_result",
          "data": {
            "text/plain": [
              "-1.0    4761\n",
              " 0.4     399\n",
              "Name: qe, dtype: int64"
            ]
          },
          "metadata": {},
          "execution_count": 3
        }
      ]
    },
    {
      "cell_type": "code",
      "source": [
        "import torch\n",
        "#from torch.utils.data import Dataset\n",
        "from torch_geometric.nn import knn_graph\n",
        "from torch_geometric.data import Data, Dataset\n",
        "from torch_geometric.loader import DataLoader\n",
        "\n",
        "class IceCubeDataset(Dataset):\n",
        "    def __init__(\n",
        "        self,\n",
        "        batch_id,\n",
        "        event_ids,\n",
        "        PATH_TO_BATCH_FILES,\n",
        "        f_scattering,\n",
        "        f_absorption,\n",
        "        sensor_df,\n",
        "        y,\n",
        "        pulse_limit=300,\n",
        "        transform=None,\n",
        "        pre_transform=None,\n",
        "        pre_filter=None,\n",
        "    ):\n",
        "        super().__init__(transform, pre_transform, pre_filter)\n",
        "        self.event_ids = event_ids\n",
        "        self.batch_df = pd.read_parquet(PATH_TO_BATCH_FILES / f\"batch_{batch_id}.parquet\")\n",
        "        self.sensor_df = sensor_df\n",
        "        self.pulse_limit = pulse_limit\n",
        "        self.f_scattering = f_scattering\n",
        "        self.f_absorption = f_absorption\n",
        "        self.y = y\n",
        "        #ice_transparency(TRANSPARENCY_PATH)\n",
        "\n",
        "        self.batch_df[\"time\"] = (self.batch_df[\"time\"] - 1.0e04) / 3.0e4\n",
        "        self.batch_df[\"charge\"] = np.log10(self.batch_df[\"charge\"]) / 3.0\n",
        "        self.batch_df[\"auxiliary\"] = self.batch_df[\"auxiliary\"].astype(int) - 0.5\n",
        "\n",
        "    def len(self):\n",
        "        return len(self.event_ids)\n",
        "\n",
        "    def get(self, idx):\n",
        "        event_id = self.event_ids[idx]\n",
        "        event = self.batch_df.loc[event_id]\n",
        "\n",
        "        event = pd.merge(event, self.sensor_df, on=\"sensor_id\")\n",
        "\n",
        "        x = event[[\"x\", \"y\", \"z\", \"time\", \"charge\", \"qe\", \"auxiliary\"]].values\n",
        "        x = torch.tensor(x, dtype=torch.float32)\n",
        "        data = Data(x=x, n_pulses=torch.tensor(x.shape[0], dtype=torch.int32))\n",
        "\n",
        "        # Add ice transparency data\n",
        "        z = data.x[:, 2].numpy()\n",
        "        scattering = torch.tensor(self.f_scattering(z), dtype=torch.float32).view(-1, 1)\n",
        "        # absorption = torch.tensor(self.f_absorption(z), dtype=torch.float32).view(-1, 1)\n",
        "\n",
        "        data.x = torch.cat([data.x, scattering], dim=1)\n",
        "\n",
        "        # Downsample the large events\n",
        "        if data.n_pulses > self.pulse_limit:\n",
        "            data.x = data.x[np.random.choice(data.n_pulses, self.pulse_limit)]\n",
        "            data.n_pulses = torch.tensor(self.pulse_limit, dtype=torch.int32)\n",
        "\n",
        "         # Builds graph from the k-nearest neighbours.\n",
        "        data.edge_index = knn_graph(\n",
        "            data.x[:, [0, 1, 2]],  # x, y, z\n",
        "            k=8,\n",
        "            batch=None,\n",
        "            loop=False\n",
        "        )\n",
        "\n",
        "        if self.y is not None:\n",
        "            #y = self.y.loc[idx, :].values\n",
        "            y = self.y.loc[idx][2:].values # directions\n",
        "            y = torch.tensor(y, dtype=torch.float32)\n",
        "            data.y = y\n",
        "\n",
        "        return data"
      ],
      "metadata": {
        "id": "zxt0rGhqVAhD"
      },
      "execution_count": 4,
      "outputs": []
    },
    {
      "cell_type": "code",
      "source": [
        "dataset = IceCubeDataset(BATCH_FILE, list(event_ids), STARTER_PULSE_PATH, f_scattering, f_absorption, sensor_df, y)\n",
        "#dataset.len()\n",
        "dataset.get(0).x.shape\n",
        "#dataset.get(0).x.shape[1]"
      ],
      "metadata": {
        "colab": {
          "base_uri": "https://localhost:8080/"
        },
        "id": "Ecb6qXQoVLTC",
        "outputId": "2804fc92-8381-4499-e59e-d3f6d6038c44"
      },
      "execution_count": 5,
      "outputs": [
        {
          "output_type": "execute_result",
          "data": {
            "text/plain": [
              "torch.Size([61, 8])"
            ]
          },
          "metadata": {},
          "execution_count": 5
        }
      ]
    },
    {
      "cell_type": "code",
      "source": [
        "from torch_geometric.utils.homophily import homophily\n",
        "\n",
        "def calculate_xyzt_homophily(x, edge_index, batch):\n",
        "    \"\"\"Calculate xyzt-homophily from a batch of graphs.\n",
        "\n",
        "    Homophily is a graph scalar quantity that measures the likeness of\n",
        "    variables in nodes. Notice that this calculator assumes a special order of\n",
        "    input features in x.\n",
        "\n",
        "    Returns:\n",
        "        Tuple, each element with shape [batch_size,1].\n",
        "    \"\"\"\n",
        "    hx = homophily(edge_index, x[:, 0], batch).reshape(-1, 1)\n",
        "    hy = homophily(edge_index, x[:, 1], batch).reshape(-1, 1)\n",
        "    hz = homophily(edge_index, x[:, 2], batch).reshape(-1, 1)\n",
        "    ht = homophily(edge_index, x[:, 3], batch).reshape(-1, 1)\n",
        "    return hx, hy, hz, ht"
      ],
      "metadata": {
        "id": "Qt8HGDIY9Aez"
      },
      "execution_count": 6,
      "outputs": []
    },
    {
      "cell_type": "code",
      "source": [
        "from torch_geometric.nn import EdgeConv\n",
        "from torch_geometric.nn.pool import knn_graph # differtent from one above????\n",
        "from typing import Any, Callable, List, Optional, Sequence, Tuple, Union\n",
        "from torch import LongTensor, Tensor\n",
        "from torch_geometric.typing import Adj\n",
        "\n",
        "class DynEdgeConv(EdgeConv):\n",
        "    \"\"\"Dynamical edge convolution layer.\"\"\"\n",
        "\n",
        "    def __init__(\n",
        "        self,\n",
        "        nn: Callable,\n",
        "        device,\n",
        "        aggr: str = \"max\",\n",
        "        nb_neighbors: int = 8,\n",
        "        features_subset: Optional[Union[Sequence[int], slice]] = None,\n",
        "        **kwargs: Any,\n",
        "    ):\n",
        "        \"\"\"Construct `DynEdgeConv`.\n",
        "        Args:\n",
        "            nn: The MLP/torch.Module to be used within the `EdgeConv`.\n",
        "            aggr: Aggregation method to be used with `EdgeConv`.\n",
        "            nb_neighbors: Number of neighbours to be clustered after the\n",
        "                `EdgeConv` operation.\n",
        "            features_subset: Subset of features in `Data.x` that should be used\n",
        "                when dynamically performing the new graph clustering after the\n",
        "                `EdgeConv` operation. Defaults to all features.\n",
        "            **kwargs: Additional features to be passed to `EdgeConv`.\n",
        "        \"\"\"\n",
        "        # Check(s)\n",
        "        if features_subset is None:\n",
        "            features_subset = slice(None)  # Use all features\n",
        "        assert isinstance(features_subset, (list, slice))\n",
        "\n",
        "        # Base class constructor\n",
        "        super().__init__(nn=nn, aggr=aggr, **kwargs)\n",
        "\n",
        "        # Additional member variables\n",
        "        self.device = device\n",
        "        self.nb_neighbors = nb_neighbors\n",
        "        self.features_subset = features_subset\n",
        "\n",
        "    def forward(\n",
        "        self, x: Tensor, edge_index: Adj, batch: Optional[Tensor] = None\n",
        "    ) -> Tensor:\n",
        "\n",
        "        \"\"\"Forward pass.\"\"\"\n",
        "        # Standard EdgeConv forward pass\n",
        "        x = super().forward(x, edge_index)\n",
        "        # Recompute adjacency\n",
        "        edge_index = knn_graph(x=x[:, self.features_subset], k=self.nb_neighbors, \n",
        "                               batch=batch).to(self.device)\n",
        "\n",
        "        return x, edge_index"
      ],
      "metadata": {
        "id": "PX-rhtuxyquZ"
      },
      "execution_count": 7,
      "outputs": []
    },
    {
      "cell_type": "code",
      "source": [
        "def define_mlp(nb_in, nb_hidden, nb_out, activation):\n",
        "    return torch.nn.Sequential(torch.nn.Linear(nb_in, nb_hidden),\n",
        "                               activation,\n",
        "                               torch.nn.Linear(nb_hidden, nb_out),\n",
        "                               activation)\n",
        "    "
      ],
      "metadata": {
        "id": "PZ8PGm97_YdI"
      },
      "execution_count": 8,
      "outputs": []
    },
    {
      "cell_type": "code",
      "source": [
        "import torch.nn as nn\n",
        "from torch_scatter import scatter_max, scatter_mean, scatter_min, scatter_sum\n",
        "\n",
        "GLOBAL_POOLINGS = {\n",
        "    \"min\": scatter_min,\n",
        "    \"max\": scatter_max,\n",
        "    \"sum\": scatter_sum,\n",
        "    \"mean\": scatter_mean,\n",
        "}\n",
        "\n",
        "class MyGNN(nn.Module):\n",
        "    def __init__(self, nb_inputs, features_subset, out_dim, device = 'cpu', nb_neighbors = 8, global_pooling_schemes = ['mean', 'min', 'max', 'sum'], \n",
        "                 add_global_variables_after_pooling = True, num_global_variables = 5):\n",
        "        super().__init__()\n",
        "        self.activation = torch.nn.LeakyReLU()\n",
        "        self.device = device\n",
        "\n",
        "        self.conv_layer1 = DynEdgeConv(define_mlp(nb_inputs*2, 128, 256, self.activation), self.device, aggr=\"add\", nb_neighbors=8, features_subset=features_subset)\n",
        "        self.conv_layer2 = DynEdgeConv(define_mlp(256*2, 336, 256, self.activation), self.device, aggr=\"add\", nb_neighbors=8, features_subset=features_subset)\n",
        "        self.conv_layer3 = DynEdgeConv(define_mlp(256*2, 336, 256, self.activation), self.device, aggr=\"add\", nb_neighbors=8, features_subset=features_subset)\n",
        "        self.conv_layer4 = DynEdgeConv(define_mlp(256*2, 336, 256, self.activation), self.device, aggr=\"add\", nb_neighbors=8, features_subset=features_subset)\n",
        "\n",
        "        self.post_processing = define_mlp(256*4 + nb_inputs, 336, 256, self.activation)\n",
        "\n",
        "        nb_poolings = (len(global_pooling_schemes) if global_pooling_schemes else 1)\n",
        "        nb_latent_features = 256 * nb_poolings\n",
        "        if add_global_variables_after_pooling:\n",
        "            nb_latent_features += num_global_variables\n",
        "\n",
        "        #self.readout = torch.nn.Sequential(torch.nn.Linear(nb_latent_features, 128), self.activation)\n",
        "        self.readout = define_mlp(nb_latent_features, 128, out_dim, self.activation)\n",
        "        \n",
        "        self._global_pooling_schemes = global_pooling_schemes\n",
        "        self._add_global_variables_after_pooling = add_global_variables_after_pooling\n",
        "\n",
        "    def _global_pooling(self, x: Tensor, batch: LongTensor) -> Tensor:\n",
        "      \"\"\"Perform global pooling.\"\"\"\n",
        "      assert self._global_pooling_schemes\n",
        "      pooled = []\n",
        "      for pooling_scheme in self._global_pooling_schemes:\n",
        "        pooling_fn = GLOBAL_POOLINGS[pooling_scheme]\n",
        "        pooled_x = pooling_fn(x, index=batch, dim=0)\n",
        "        if isinstance(pooled_x, tuple) and len(pooled_x) == 2:\n",
        "          pooled_x, _ = pooled_x\n",
        "        pooled.append(pooled_x)\n",
        "\n",
        "      return torch.cat(pooled, dim=1)\n",
        "\n",
        "    def _calculate_global_variables(self, x: Tensor, edge_index: LongTensor, batch: LongTensor, \n",
        "                                    *additional_attributes: Tensor,) -> Tensor:\n",
        "      \"\"\"Calculate global variables.\"\"\"\n",
        "      # Calculate homophily (scalar variables)\n",
        "      h_x, h_y, h_z, h_t = calculate_xyzt_homophily(x, edge_index, batch)\n",
        "      # Calculate mean features\n",
        "      global_means = scatter_mean(x, batch, dim=0)\n",
        "      # Add global variables\n",
        "      # global_variables = torch.cat([global_means, h_x, h_y, h_z, h_t] + [attr.unsqueeze(dim=1) for attr in additional_attributes], dim=1,)\n",
        "      global_variables = torch.cat([h_x, h_y, h_z, h_t] + [attr.unsqueeze(dim=1) for attr in additional_attributes], dim=1,)\n",
        "\n",
        "\n",
        "      return global_variables\n",
        "\n",
        "    def forward(self, data: Data) -> Tensor:\n",
        "      \"\"\"Apply learnable forward pass.\"\"\"\n",
        "      # Convenience variables\n",
        "      x, edge_index, batch = data.x, data.edge_index, data.batch\n",
        "      global_variables = self._calculate_global_variables(x, edge_index, \n",
        "                                                          batch, torch.log10(data.n_pulses))\n",
        "\n",
        "      # Distribute global variables out to each node\n",
        "      if not self._add_global_variables_after_pooling:\n",
        "        distribute = (batch.unsqueeze(dim=1) == torch.unique(batch).unsqueeze(dim=0)).type(torch.float) \n",
        "        global_variables_distributed = torch.sum(distribute.unsqueeze(dim=2) * \n",
        "                                                 global_variables.unsqueeze(dim=0), dim=1)\n",
        "        x = torch.cat((x, global_variables_distributed), dim=1)\n",
        "\n",
        "      # convolutions\n",
        "      state_graphs = [x]\n",
        "      conv_layers = [self.conv_layer1, self.conv_layer2, self.conv_layer3, self.conv_layer4]\n",
        "      for layer in conv_layers:\n",
        "        x, edge_index = layer(x, edge_index, batch)\n",
        "        state_graphs.append(x)\n",
        "\n",
        "      x = torch.cat(state_graphs, dim=1)\n",
        "      # post processing\n",
        "      x = self.post_processing(x)\n",
        "\n",
        "      # global pooling\n",
        "      if self._global_pooling_schemes:\n",
        "        x = self._global_pooling(x, batch=batch)\n",
        "        if self._add_global_variables_after_pooling:\n",
        "          x = torch.cat([x, global_variables], dim=1)\n",
        "\n",
        "      # readout layer\n",
        "      x = self.readout(x)\n",
        "      #x = torch.sigmoid(x) * np.pi\n",
        "      return x\n",
        "\n"
      ],
      "metadata": {
        "id": "6o7aFyYHRlvO"
      },
      "execution_count": 9,
      "outputs": []
    },
    {
      "cell_type": "code",
      "source": [
        "def vMF_loss(n_pred, n_true, eps = 1e-8):\n",
        "    \"\"\"  von Mises-Fisher Loss: n_true is unit vector ! \"\"\"\n",
        "    kappa = torch.norm(n_pred, dim=0)        \n",
        "    logC  = -kappa + torch.log( ( kappa+eps )/( 1-torch.exp(-2*kappa)+2*eps ) )\n",
        "    return -((n_true*n_pred).sum(dim=0) + logC).mean()\n",
        "\n",
        "def make_coord_vec(angles):\n",
        "    azimuth = angles[0]\n",
        "    zenith = angles[1]\n",
        "\n",
        "    x = torch.cos(azimuth) + torch.sin(zenith)\n",
        "    y = torch.sin(azimuth) + torch.sin(zenith)\n",
        "    z = torch.cos(zenith)\n",
        "    return torch.cat([x, y, z], 0)"
      ],
      "metadata": {
        "id": "I_Pa1UQLo9sM"
      },
      "execution_count": 10,
      "outputs": []
    },
    {
      "cell_type": "code",
      "source": [
        "compute_knn_with = [0, 1, 2] # x, y, z\n",
        "model = MyGNN(8, compute_knn_with, 3, device='cuda')\n",
        "model"
      ],
      "metadata": {
        "colab": {
          "base_uri": "https://localhost:8080/"
        },
        "id": "RCjywDCypPCL",
        "outputId": "dfcad923-5173-4cca-c6f7-3aa762ca6742"
      },
      "execution_count": 11,
      "outputs": [
        {
          "output_type": "execute_result",
          "data": {
            "text/plain": [
              "MyGNN(\n",
              "  (activation): LeakyReLU(negative_slope=0.01)\n",
              "  (conv_layer1): DynEdgeConv(nn=Sequential(\n",
              "    (0): Linear(in_features=16, out_features=128, bias=True)\n",
              "    (1): LeakyReLU(negative_slope=0.01)\n",
              "    (2): Linear(in_features=128, out_features=256, bias=True)\n",
              "    (3): LeakyReLU(negative_slope=0.01)\n",
              "  ))\n",
              "  (conv_layer2): DynEdgeConv(nn=Sequential(\n",
              "    (0): Linear(in_features=512, out_features=336, bias=True)\n",
              "    (1): LeakyReLU(negative_slope=0.01)\n",
              "    (2): Linear(in_features=336, out_features=256, bias=True)\n",
              "    (3): LeakyReLU(negative_slope=0.01)\n",
              "  ))\n",
              "  (conv_layer3): DynEdgeConv(nn=Sequential(\n",
              "    (0): Linear(in_features=512, out_features=336, bias=True)\n",
              "    (1): LeakyReLU(negative_slope=0.01)\n",
              "    (2): Linear(in_features=336, out_features=256, bias=True)\n",
              "    (3): LeakyReLU(negative_slope=0.01)\n",
              "  ))\n",
              "  (conv_layer4): DynEdgeConv(nn=Sequential(\n",
              "    (0): Linear(in_features=512, out_features=336, bias=True)\n",
              "    (1): LeakyReLU(negative_slope=0.01)\n",
              "    (2): Linear(in_features=336, out_features=256, bias=True)\n",
              "    (3): LeakyReLU(negative_slope=0.01)\n",
              "  ))\n",
              "  (post_processing): Sequential(\n",
              "    (0): Linear(in_features=1032, out_features=336, bias=True)\n",
              "    (1): LeakyReLU(negative_slope=0.01)\n",
              "    (2): Linear(in_features=336, out_features=256, bias=True)\n",
              "    (3): LeakyReLU(negative_slope=0.01)\n",
              "  )\n",
              "  (readout): Sequential(\n",
              "    (0): Linear(in_features=1029, out_features=128, bias=True)\n",
              "    (1): LeakyReLU(negative_slope=0.01)\n",
              "    (2): Linear(in_features=128, out_features=3, bias=True)\n",
              "    (3): LeakyReLU(negative_slope=0.01)\n",
              "  )\n",
              ")"
            ]
          },
          "metadata": {},
          "execution_count": 11
        }
      ]
    },
    {
      "cell_type": "code",
      "source": [
        "epochs = 1\n",
        "batchsize = 200\n",
        "#loss_fn = vMF_loss()\n",
        "optimizer = torch.optim.AdamW(model.parameters(), lr=0.001)\n",
        "device = torch.device('cuda' if torch.cuda.is_available() else 'cpu')\n",
        "print('using ', device)\n",
        "model = model.to(device)"
      ],
      "metadata": {
        "id": "FsTnmrM7swNs",
        "colab": {
          "base_uri": "https://localhost:8080/"
        },
        "outputId": "d5740acc-790a-490e-c9c8-34b800da69c2"
      },
      "execution_count": 17,
      "outputs": [
        {
          "output_type": "stream",
          "name": "stdout",
          "text": [
            "using  cuda\n"
          ]
        }
      ]
    },
    {
      "cell_type": "code",
      "source": [
        "batch_ids = [BATCH_FILE, BATCH_FILE] # for now\n",
        "\n",
        "from tqdm import tqdm\n",
        "from torch_geometric.loader import DataLoader\n",
        "for i, b in enumerate(batch_ids):\n",
        "    ##### for more general training later:\n",
        "\n",
        "    # event_ids = meta[meta[\"batch_id\"] == b][\"event_id\"].tolist()\n",
        "    # y = meta[meta[\"batch_id\"] == b][['zenith', 'azimuth']].reset_index(drop=True)\n",
        "    # dataset = IceCubeDataset(\n",
        "    #    b, event_ids, sensors, mode='train', y=y,\n",
        "    # )\n",
        "\n",
        "    ##### already constructed a dataset for one batch further up\n",
        "\n",
        "    # just one batch dataset\n",
        "    if i >= 1:\n",
        "        break\n",
        "\n",
        "    train_len = int(0.7*dataset.len())\n",
        "    train_loader = DataLoader(dataset[:train_len], batch_size=batchsize, shuffle=True) # shuffle data every epoch\n",
        "    val_loader = DataLoader(dataset[train_len:], batch_size=batchsize, shuffle=False)\n",
        "    \n",
        "    print(f'batch file = {i}')\n",
        "    for epoch_num in range(epochs):\n",
        "        print(f'epoch = {epoch_num}')\n",
        "        total_loss_train = 0\n",
        "        model.train()\n",
        "        for sample_batched in tqdm(train_loader, desc='train'):\n",
        "            sample_batched = sample_batched.to(device)\n",
        "            # do one forward pass\n",
        "            outputs = model(sample_batched)\n",
        "            # label = sample_batched.y.reshape(-1, 2).to(device)\n",
        "            label = sample_batched.y.reshape(-1, 3).to(device)\n",
        "            #break\n",
        "            # calculate loss (per sample batch)\n",
        "            \n",
        "            loss = vMF_loss(outputs, label)\n",
        "            #loss = nn.L1Loss(outputs, label)\n",
        "            total_loss_train += loss.cpu().item()\n",
        "            optimizer.zero_grad()\n",
        "            loss.backward()\n",
        "            optimizer.step()\n",
        "        \n",
        "        total_loss_val = 0\n",
        "        model.eval()\n",
        "        with torch.no_grad():\n",
        "            for sample_batched in tqdm(val_loader, desc='val'):\n",
        "                sample_batched = sample_batched.to(device)\n",
        "                outputs = model(sample_batched)\n",
        "                # label = sample_batched.y.reshape(-1, 2).to(device)\n",
        "                label = sample_batched.y.reshape(-1, 3).to(device)\n",
        "                loss = vMF_loss(outputs, label)\n",
        "                #loss = nn.L1Loss(outputs, label)\n",
        "                total_loss_val += loss.cpu().item()\n",
        "\n",
        "        print(f'epoch[{epoch_num}]', total_loss_train / train_len, total_loss_val / (dataset.len() - train_len))\n",
        "        torch.save(model, f\"drive/MyDrive/IceCube/models/third_model_epoch{epoch_num}.pt\")\n",
        "        \n",
        "        \n",
        "\n",
        "torch.save(model, \"drive/MyDrive/IceCube/models/third_model.pt\")"
      ],
      "metadata": {
        "colab": {
          "base_uri": "https://localhost:8080/"
        },
        "id": "rQgaoK0zuI3L",
        "outputId": "82195658-70cb-4eb2-945d-7ec1db862b10"
      },
      "execution_count": 18,
      "outputs": [
        {
          "output_type": "stream",
          "name": "stdout",
          "text": [
            "batch file = 0\n",
            "epoch = 0\n"
          ]
        },
        {
          "output_type": "stream",
          "name": "stderr",
          "text": [
            "train: 100%|██████████| 700/700 [11:10<00:00,  1.04it/s]\n",
            "val: 100%|██████████| 300/300 [04:44<00:00,  1.05it/s]"
          ]
        },
        {
          "output_type": "stream",
          "name": "stdout",
          "text": [
            "epoch[0] 0.0029979367303096557 0.0017303050362194577\n"
          ]
        },
        {
          "output_type": "stream",
          "name": "stderr",
          "text": [
            "\n"
          ]
        }
      ]
    },
    {
      "cell_type": "code",
      "source": [
        "def infer(model, loader, device=\"cpu\"):\n",
        "    model.to(device)\n",
        "    model.eval()\n",
        "\n",
        "    predictions = []\n",
        "    with torch.no_grad():\n",
        "      for batch in loader:\n",
        "        batch = batch.to(device)\n",
        "        pred_angles = model(batch)\n",
        "        predictions.append(pred_angles.cpu())\n",
        "\n",
        "    return torch.cat(predictions, 0)"
      ],
      "metadata": {
        "id": "WLzKCxYv0Ubr"
      },
      "execution_count": null,
      "outputs": []
    }
  ]
}