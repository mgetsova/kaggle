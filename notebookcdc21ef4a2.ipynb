{
 "cells": [
  {
   "cell_type": "markdown",
   "id": "2911559a",
   "metadata": {
    "papermill": {
     "duration": 0.005254,
     "end_time": "2022-12-10T01:19:28.462051",
     "exception": false,
     "start_time": "2022-12-10T01:19:28.456797",
     "status": "completed"
    },
    "tags": []
   },
   "source": [
    "**This notebook is an exercise in the [Computer Vision](https://www.kaggle.com/learn/computer-vision) course.  You can reference the tutorial at [this link](https://www.kaggle.com/ryanholbrook/the-convolutional-classifier).**\n",
    "\n",
    "---\n"
   ]
  },
  {
   "cell_type": "markdown",
   "id": "d674212b",
   "metadata": {
    "papermill": {
     "duration": 0.004295,
     "end_time": "2022-12-10T01:19:28.470954",
     "exception": false,
     "start_time": "2022-12-10T01:19:28.466659",
     "status": "completed"
    },
    "tags": []
   },
   "source": [
    "<blockquote style=\"margin-right:auto; margin-left:auto; background-color: #ebf9ff; padding: 1em; margin:24px;\">\n",
    "    <strong>Accelerate Training with a Kaggle GPU!</strong><br>\n",
    "Did you know Kaggle offers free time with a GPU accelerator? You can speed up training neural networks in this course by switching to <strong>GPU</strong> in the <em>Accelerator</em> option on the right. (It may already be turned on.) Two things to be aware of:\n",
    "<ul>\n",
    "<li>Changing the <em>Accelerator</em> option will cause the notebook session to restart. You'll need to rerun any setup code.\n",
    "<li>You can have only one GPU session at a time, so be sure to shut the notebook down after you've finished the exercise.\n",
    "</ul>\n",
    "</blockquote>"
   ]
  },
  {
   "cell_type": "markdown",
   "id": "9ac5d9a8",
   "metadata": {
    "papermill": {
     "duration": 0.004134,
     "end_time": "2022-12-10T01:19:28.479582",
     "exception": false,
     "start_time": "2022-12-10T01:19:28.475448",
     "status": "completed"
    },
    "tags": []
   },
   "source": [
    "# Introduction #\n",
    "\n",
    "In the tutorial, we saw how to build an image classifier by attaching a head of dense layers to a pretrained base. The base we used was from a model called **VGG16**. We saw that the VGG16 architecture was prone to overfitting this dataset. Over this course, you'll learn a number of ways you can improve upon this initial attempt.\n",
    "\n",
    "The first way you'll see is to use a base more appropriate to the dataset. The base this model comes from is called **InceptionV1** (also known as GoogLeNet). InceptionV1 was one of the early winners of the ImageNet competition. One of its successors, InceptionV4, is among the state of the art today.\n",
    "\n",
    "To get started, run the code cell below to set everything up."
   ]
  },
  {
   "cell_type": "code",
   "execution_count": 1,
   "id": "3b83e8be",
   "metadata": {
    "execution": {
     "iopub.execute_input": "2022-12-10T01:19:28.490310Z",
     "iopub.status.busy": "2022-12-10T01:19:28.489838Z",
     "iopub.status.idle": "2022-12-10T01:19:41.318893Z",
     "shell.execute_reply": "2022-12-10T01:19:41.317785Z"
    },
    "lines_to_next_cell": 2,
    "papermill": {
     "duration": 12.837209,
     "end_time": "2022-12-10T01:19:41.321184",
     "exception": false,
     "start_time": "2022-12-10T01:19:28.483975",
     "status": "completed"
    },
    "tags": []
   },
   "outputs": [
    {
     "name": "stdout",
     "output_type": "stream",
     "text": [
      "Found 5117 files belonging to 2 classes.\n"
     ]
    },
    {
     "name": "stderr",
     "output_type": "stream",
     "text": [
      "2022-12-10 01:19:37.815600: I tensorflow/core/common_runtime/process_util.cc:146] Creating new thread pool with default inter op setting: 2. Tune using inter_op_parallelism_threads for best performance.\n"
     ]
    },
    {
     "name": "stdout",
     "output_type": "stream",
     "text": [
      "Found 5051 files belonging to 2 classes.\n"
     ]
    }
   ],
   "source": [
    "# Setup feedback system\n",
    "from learntools.core import binder\n",
    "binder.bind(globals())\n",
    "from learntools.computer_vision.ex1 import *\n",
    "\n",
    "# Imports\n",
    "import os, warnings\n",
    "import matplotlib.pyplot as plt\n",
    "from matplotlib import gridspec\n",
    "\n",
    "import numpy as np\n",
    "import tensorflow as tf\n",
    "from tensorflow.keras.preprocessing import image_dataset_from_directory\n",
    "\n",
    "# Reproducability\n",
    "def set_seed(seed=31415):\n",
    "    np.random.seed(seed)\n",
    "    tf.random.set_seed(seed)\n",
    "    os.environ['PYTHONHASHSEED'] = str(seed)\n",
    "    os.environ['TF_DETERMINISTIC_OPS'] = '1'\n",
    "set_seed()\n",
    "\n",
    "# Set Matplotlib defaults\n",
    "plt.rc('figure', autolayout=True)\n",
    "plt.rc('axes', labelweight='bold', labelsize='large',\n",
    "       titleweight='bold', titlesize=18, titlepad=10)\n",
    "plt.rc('image', cmap='magma')\n",
    "warnings.filterwarnings(\"ignore\") # to clean up output cells\n",
    "\n",
    "\n",
    "# Load training and validation sets\n",
    "ds_train_ = image_dataset_from_directory(\n",
    "    '../input/car-or-truck/train',\n",
    "    labels='inferred',\n",
    "    label_mode='binary',\n",
    "    image_size=[128, 128],\n",
    "    interpolation='nearest',\n",
    "    batch_size=64,\n",
    "    shuffle=True,\n",
    ")\n",
    "ds_valid_ = image_dataset_from_directory(\n",
    "    '../input/car-or-truck/valid',\n",
    "    labels='inferred',\n",
    "    label_mode='binary',\n",
    "    image_size=[128, 128],\n",
    "    interpolation='nearest',\n",
    "    batch_size=64,\n",
    "    shuffle=False,\n",
    ")\n",
    "\n",
    "# Data Pipeline\n",
    "def convert_to_float(image, label):\n",
    "    image = tf.image.convert_image_dtype(image, dtype=tf.float32)\n",
    "    return image, label\n",
    "\n",
    "AUTOTUNE = tf.data.experimental.AUTOTUNE\n",
    "ds_train = (\n",
    "    ds_train_\n",
    "    .map(convert_to_float)\n",
    "    .cache()\n",
    "    .prefetch(buffer_size=AUTOTUNE)\n",
    ")\n",
    "ds_valid = (\n",
    "    ds_valid_\n",
    "    .map(convert_to_float)\n",
    "    .cache()\n",
    "    .prefetch(buffer_size=AUTOTUNE)\n",
    ")\n"
   ]
  },
  {
   "cell_type": "markdown",
   "id": "d9d476ed",
   "metadata": {
    "papermill": {
     "duration": 0.004568,
     "end_time": "2022-12-10T01:19:41.330984",
     "exception": false,
     "start_time": "2022-12-10T01:19:41.326416",
     "status": "completed"
    },
    "tags": []
   },
   "source": [
    "The **InceptionV1** model pretrained on ImageNet is available in the [TensorFlow Hub](https://www.tensorflow.org/hub/) repository, but we'll load it from a local copy. Run this cell to load InceptionV1 for your base."
   ]
  },
  {
   "cell_type": "code",
   "execution_count": 2,
   "id": "d37f1afb",
   "metadata": {
    "execution": {
     "iopub.execute_input": "2022-12-10T01:19:41.342913Z",
     "iopub.status.busy": "2022-12-10T01:19:41.341820Z",
     "iopub.status.idle": "2022-12-10T01:19:44.482422Z",
     "shell.execute_reply": "2022-12-10T01:19:44.481466Z"
    },
    "lines_to_next_cell": 0,
    "papermill": {
     "duration": 3.156878,
     "end_time": "2022-12-10T01:19:44.492699",
     "exception": false,
     "start_time": "2022-12-10T01:19:41.335821",
     "status": "completed"
    },
    "tags": []
   },
   "outputs": [],
   "source": [
    "import tensorflow_hub as hub\n",
    "\n",
    "pretrained_base = tf.keras.models.load_model(\n",
    "    '../input/cv-course-models/cv-course-models/inceptionv1'\n",
    ")"
   ]
  },
  {
   "cell_type": "markdown",
   "id": "d72671e2",
   "metadata": {
    "papermill": {
     "duration": 0.004362,
     "end_time": "2022-12-10T01:19:44.501839",
     "exception": false,
     "start_time": "2022-12-10T01:19:44.497477",
     "status": "completed"
    },
    "tags": []
   },
   "source": [
    "# 1) Define Pretrained Base #\n",
    "\n",
    "Now that you have a pretrained base to do our feature extraction, decide whether this base should be trainable or not."
   ]
  },
  {
   "cell_type": "code",
   "execution_count": 3,
   "id": "d5b965dd",
   "metadata": {
    "execution": {
     "iopub.execute_input": "2022-12-10T01:19:44.512344Z",
     "iopub.status.busy": "2022-12-10T01:19:44.511960Z",
     "iopub.status.idle": "2022-12-10T01:19:44.523114Z",
     "shell.execute_reply": "2022-12-10T01:19:44.522015Z"
    },
    "lines_to_next_cell": 0,
    "papermill": {
     "duration": 0.01875,
     "end_time": "2022-12-10T01:19:44.524975",
     "exception": false,
     "start_time": "2022-12-10T01:19:44.506225",
     "status": "completed"
    },
    "tags": []
   },
   "outputs": [
    {
     "data": {
      "application/javascript": [
       "parent.postMessage({\"jupyterEvent\": \"custom.exercise_interaction\", \"data\": {\"outcomeType\": 1, \"valueTowardsCompletion\": 0.25, \"interactionType\": 1, \"questionType\": 2, \"questionId\": \"1_Q1\", \"learnToolsVersion\": \"0.3.4\", \"failureMessage\": \"\", \"exceptionClass\": \"\", \"trace\": \"\"}}, \"*\")"
      ],
      "text/plain": [
       "<IPython.core.display.Javascript object>"
      ]
     },
     "metadata": {},
     "output_type": "display_data"
    },
    {
     "data": {
      "text/markdown": [
       "<span style=\"color:#33cc33\">Correct:</span> When doing transfer learning, it's generally not a good idea to retrain the entire base -- at least not without some care. The reason is that the random weights in the head will initially create large gradient updates, which propogate back into the base layers and destroy much of the pretraining. Using techniques known as **fine tuning** it's possible to further train the base on new data, but this requires some care to do well."
      ],
      "text/plain": [
       "Correct: When doing transfer learning, it's generally not a good idea to retrain the entire base -- at least not without some care. The reason is that the random weights in the head will initially create large gradient updates, which propogate back into the base layers and destroy much of the pretraining. Using techniques known as **fine tuning** it's possible to further train the base on new data, but this requires some care to do well."
      ]
     },
     "metadata": {},
     "output_type": "display_data"
    }
   ],
   "source": [
    "# YOUR_CODE_HERE\n",
    "pretrained_base.trainable = False\n",
    "\n",
    "# Check your answer\n",
    "q_1.check()"
   ]
  },
  {
   "cell_type": "code",
   "execution_count": 4,
   "id": "8e59d511",
   "metadata": {
    "execution": {
     "iopub.execute_input": "2022-12-10T01:19:44.537304Z",
     "iopub.status.busy": "2022-12-10T01:19:44.536995Z",
     "iopub.status.idle": "2022-12-10T01:19:44.541013Z",
     "shell.execute_reply": "2022-12-10T01:19:44.540181Z"
    },
    "papermill": {
     "duration": 0.011433,
     "end_time": "2022-12-10T01:19:44.542765",
     "exception": false,
     "start_time": "2022-12-10T01:19:44.531332",
     "status": "completed"
    },
    "tags": []
   },
   "outputs": [],
   "source": [
    "# Lines below will give you a hint or solution code\n",
    "#q_1.hint()\n",
    "#q_1.solution()"
   ]
  },
  {
   "cell_type": "markdown",
   "id": "501abfc5",
   "metadata": {
    "papermill": {
     "duration": 0.004534,
     "end_time": "2022-12-10T01:19:44.552129",
     "exception": false,
     "start_time": "2022-12-10T01:19:44.547595",
     "status": "completed"
    },
    "tags": []
   },
   "source": [
    "# 2) Attach Head #\n",
    "\n",
    "Now that the base is defined to do the feature extraction, create a head of `Dense` layers to perform the classification, following this diagram:\n",
    "\n",
    "<figure>\n",
    "<img src=\"https://i.imgur.com/i5VU7Ry.png\" alt=\"Diagram of the dense head.\">\n",
    "</figure>\n"
   ]
  },
  {
   "cell_type": "code",
   "execution_count": 5,
   "id": "7edff219",
   "metadata": {
    "execution": {
     "iopub.execute_input": "2022-12-10T01:19:44.562705Z",
     "iopub.status.busy": "2022-12-10T01:19:44.562442Z",
     "iopub.status.idle": "2022-12-10T01:19:44.580214Z",
     "shell.execute_reply": "2022-12-10T01:19:44.579169Z"
    },
    "lines_to_next_cell": 0,
    "papermill": {
     "duration": 0.025471,
     "end_time": "2022-12-10T01:19:44.582401",
     "exception": false,
     "start_time": "2022-12-10T01:19:44.556930",
     "status": "completed"
    },
    "tags": []
   },
   "outputs": [
    {
     "data": {
      "application/javascript": [
       "parent.postMessage({\"jupyterEvent\": \"custom.exercise_interaction\", \"data\": {\"outcomeType\": 1, \"valueTowardsCompletion\": 0.25, \"interactionType\": 1, \"questionType\": 2, \"questionId\": \"2_Q2\", \"learnToolsVersion\": \"0.3.4\", \"failureMessage\": \"\", \"exceptionClass\": \"\", \"trace\": \"\"}}, \"*\")"
      ],
      "text/plain": [
       "<IPython.core.display.Javascript object>"
      ]
     },
     "metadata": {},
     "output_type": "display_data"
    },
    {
     "data": {
      "text/markdown": [
       "<span style=\"color:#33cc33\">Correct</span>"
      ],
      "text/plain": [
       "Correct"
      ]
     },
     "metadata": {},
     "output_type": "display_data"
    }
   ],
   "source": [
    "from tensorflow import keras\n",
    "from tensorflow.keras import layers\n",
    "\n",
    "model = keras.Sequential([\n",
    "    pretrained_base,\n",
    "    layers.Flatten(),\n",
    "    layers.Dense(6, activation='relu'),\n",
    "    layers.Dense(1, activation='sigmoid'),\n",
    "])\n",
    "\n",
    "# Check your answer\n",
    "q_2.check()"
   ]
  },
  {
   "cell_type": "code",
   "execution_count": 6,
   "id": "bd4cd3d9",
   "metadata": {
    "execution": {
     "iopub.execute_input": "2022-12-10T01:19:44.593891Z",
     "iopub.status.busy": "2022-12-10T01:19:44.593593Z",
     "iopub.status.idle": "2022-12-10T01:19:44.597386Z",
     "shell.execute_reply": "2022-12-10T01:19:44.596548Z"
    },
    "papermill": {
     "duration": 0.011337,
     "end_time": "2022-12-10T01:19:44.599066",
     "exception": false,
     "start_time": "2022-12-10T01:19:44.587729",
     "status": "completed"
    },
    "tags": []
   },
   "outputs": [],
   "source": [
    "# Lines below will give you a hint or solution code\n",
    "#q_2.hint()\n",
    "#q_2.solution()"
   ]
  },
  {
   "cell_type": "markdown",
   "id": "49c082d6",
   "metadata": {
    "papermill": {
     "duration": 0.004818,
     "end_time": "2022-12-10T01:19:44.608846",
     "exception": false,
     "start_time": "2022-12-10T01:19:44.604028",
     "status": "completed"
    },
    "tags": []
   },
   "source": [
    "# 3) Train #\n",
    "\n",
    "Before training a model in Keras, you need to specify an *optimizer* to perform the gradient descent, a *loss function* to be minimized, and (optionally) any *performance metrics*. The optimization algorithm we'll use for this course is called [\"Adam\"](https://keras.io/api/optimizers/adam/), which generally performs well regardless of what kind of problem you're trying to solve.\n",
    "\n",
    "The loss and the metrics, however, need to match the kind of problem you're trying to solve. Our problem is a **binary classification** problem: `Car` coded as 0, and `Truck` coded as 1. Choose an appropriate loss and an appropriate accuracy metric for binary classification."
   ]
  },
  {
   "cell_type": "code",
   "execution_count": 7,
   "id": "84f57c6f",
   "metadata": {
    "execution": {
     "iopub.execute_input": "2022-12-10T01:19:44.620581Z",
     "iopub.status.busy": "2022-12-10T01:19:44.619624Z",
     "iopub.status.idle": "2022-12-10T01:19:44.639883Z",
     "shell.execute_reply": "2022-12-10T01:19:44.639225Z"
    },
    "lines_to_next_cell": 0,
    "papermill": {
     "duration": 0.028004,
     "end_time": "2022-12-10T01:19:44.641723",
     "exception": false,
     "start_time": "2022-12-10T01:19:44.613719",
     "status": "completed"
    },
    "tags": []
   },
   "outputs": [
    {
     "data": {
      "application/javascript": [
       "parent.postMessage({\"jupyterEvent\": \"custom.exercise_interaction\", \"data\": {\"outcomeType\": 1, \"valueTowardsCompletion\": 0.25, \"interactionType\": 1, \"questionType\": 2, \"questionId\": \"3_Q3\", \"learnToolsVersion\": \"0.3.4\", \"failureMessage\": \"\", \"exceptionClass\": \"\", \"trace\": \"\"}}, \"*\")"
      ],
      "text/plain": [
       "<IPython.core.display.Javascript object>"
      ]
     },
     "metadata": {},
     "output_type": "display_data"
    },
    {
     "data": {
      "text/markdown": [
       "<span style=\"color:#33cc33\">Correct</span>"
      ],
      "text/plain": [
       "Correct"
      ]
     },
     "metadata": {},
     "output_type": "display_data"
    }
   ],
   "source": [
    "# YOUR CODE HERE: what loss function should you use for a binary\n",
    "# classification problem? (Your answer for each should be a string.)\n",
    "optimizer = tf.keras.optimizers.Adam(epsilon=0.01)\n",
    "model.compile(\n",
    "    optimizer=optimizer,\n",
    "    loss = 'binary_crossentropy',\n",
    "    metrics=['binary_accuracy'],\n",
    ")\n",
    "\n",
    "# Check your answer\n",
    "q_3.check()"
   ]
  },
  {
   "cell_type": "code",
   "execution_count": 8,
   "id": "6e32b356",
   "metadata": {
    "execution": {
     "iopub.execute_input": "2022-12-10T01:19:44.653720Z",
     "iopub.status.busy": "2022-12-10T01:19:44.653370Z",
     "iopub.status.idle": "2022-12-10T01:19:44.656714Z",
     "shell.execute_reply": "2022-12-10T01:19:44.656108Z"
    },
    "lines_to_next_cell": 0,
    "papermill": {
     "duration": 0.011305,
     "end_time": "2022-12-10T01:19:44.658361",
     "exception": false,
     "start_time": "2022-12-10T01:19:44.647056",
     "status": "completed"
    },
    "tags": []
   },
   "outputs": [],
   "source": [
    "# Lines below will give you a hint or solution code\n",
    "#q_3.hint()\n",
    "#q_3.solution()"
   ]
  },
  {
   "cell_type": "code",
   "execution_count": 9,
   "id": "3b83b5b8",
   "metadata": {
    "execution": {
     "iopub.execute_input": "2022-12-10T01:19:44.671060Z",
     "iopub.status.busy": "2022-12-10T01:19:44.670437Z",
     "iopub.status.idle": "2022-12-10T02:01:26.748335Z",
     "shell.execute_reply": "2022-12-10T02:01:26.747411Z"
    },
    "papermill": {
     "duration": 2502.221529,
     "end_time": "2022-12-10T02:01:26.885417",
     "exception": false,
     "start_time": "2022-12-10T01:19:44.663888",
     "status": "completed"
    },
    "tags": []
   },
   "outputs": [
    {
     "name": "stderr",
     "output_type": "stream",
     "text": [
      "2022-12-10 01:19:44.710401: I tensorflow/compiler/mlir/mlir_graph_optimization_pass.cc:185] None of the MLIR Optimization Passes are enabled (registered 2)\n"
     ]
    },
    {
     "name": "stdout",
     "output_type": "stream",
     "text": [
      "Epoch 1/30\n",
      "80/80 [==============================] - 90s 1s/step - loss: 0.7006 - binary_accuracy: 0.5419 - val_loss: 0.6893 - val_binary_accuracy: 0.6003\n",
      "Epoch 2/30\n",
      "80/80 [==============================] - 78s 985ms/step - loss: 0.6814 - binary_accuracy: 0.6490 - val_loss: 0.6632 - val_binary_accuracy: 0.7468\n",
      "Epoch 3/30\n",
      "80/80 [==============================] - 80s 1s/step - loss: 0.6384 - binary_accuracy: 0.7340 - val_loss: 0.6062 - val_binary_accuracy: 0.7854\n",
      "Epoch 4/30\n",
      "80/80 [==============================] - 80s 1s/step - loss: 0.5872 - binary_accuracy: 0.7799 - val_loss: 0.5632 - val_binary_accuracy: 0.8125\n",
      "Epoch 5/30\n",
      "80/80 [==============================] - 77s 972ms/step - loss: 0.5522 - binary_accuracy: 0.8013 - val_loss: 0.5348 - val_binary_accuracy: 0.8284\n",
      "Epoch 6/30\n",
      "80/80 [==============================] - 79s 992ms/step - loss: 0.5273 - binary_accuracy: 0.8165 - val_loss: 0.5126 - val_binary_accuracy: 0.8313\n",
      "Epoch 7/30\n",
      "80/80 [==============================] - 79s 991ms/step - loss: 0.5072 - binary_accuracy: 0.8247 - val_loss: 0.4958 - val_binary_accuracy: 0.8363\n",
      "Epoch 8/30\n",
      "80/80 [==============================] - 77s 972ms/step - loss: 0.4908 - binary_accuracy: 0.8306 - val_loss: 0.4818 - val_binary_accuracy: 0.8386\n",
      "Epoch 9/30\n",
      "80/80 [==============================] - 78s 987ms/step - loss: 0.4760 - binary_accuracy: 0.8355 - val_loss: 0.4697 - val_binary_accuracy: 0.8416\n",
      "Epoch 10/30\n",
      "80/80 [==============================] - 80s 1s/step - loss: 0.4629 - binary_accuracy: 0.8409 - val_loss: 0.4592 - val_binary_accuracy: 0.8412\n",
      "Epoch 11/30\n",
      "80/80 [==============================] - 80s 1s/step - loss: 0.4511 - binary_accuracy: 0.8456 - val_loss: 0.4491 - val_binary_accuracy: 0.8434\n",
      "Epoch 12/30\n",
      "80/80 [==============================] - 79s 995ms/step - loss: 0.4404 - binary_accuracy: 0.8493 - val_loss: 0.4406 - val_binary_accuracy: 0.8450\n",
      "Epoch 13/30\n",
      "80/80 [==============================] - 79s 990ms/step - loss: 0.4307 - binary_accuracy: 0.8521 - val_loss: 0.4323 - val_binary_accuracy: 0.8474\n",
      "Epoch 14/30\n",
      "80/80 [==============================] - 79s 992ms/step - loss: 0.4215 - binary_accuracy: 0.8556 - val_loss: 0.4250 - val_binary_accuracy: 0.8489\n",
      "Epoch 15/30\n",
      "80/80 [==============================] - 79s 992ms/step - loss: 0.4132 - binary_accuracy: 0.8581 - val_loss: 0.4182 - val_binary_accuracy: 0.8487\n",
      "Epoch 16/30\n",
      "80/80 [==============================] - 79s 990ms/step - loss: 0.4054 - binary_accuracy: 0.8593 - val_loss: 0.4123 - val_binary_accuracy: 0.8501\n",
      "Epoch 17/30\n",
      "80/80 [==============================] - 78s 984ms/step - loss: 0.3978 - binary_accuracy: 0.8624 - val_loss: 0.4065 - val_binary_accuracy: 0.8497\n",
      "Epoch 18/30\n",
      "80/80 [==============================] - 80s 1s/step - loss: 0.3904 - binary_accuracy: 0.8648 - val_loss: 0.4015 - val_binary_accuracy: 0.8509\n",
      "Epoch 19/30\n",
      "80/80 [==============================] - 78s 985ms/step - loss: 0.3838 - binary_accuracy: 0.8663 - val_loss: 0.3968 - val_binary_accuracy: 0.8511\n",
      "Epoch 20/30\n",
      "80/80 [==============================] - 79s 993ms/step - loss: 0.3773 - binary_accuracy: 0.8677 - val_loss: 0.3930 - val_binary_accuracy: 0.8513\n",
      "Epoch 21/30\n",
      "80/80 [==============================] - 78s 986ms/step - loss: 0.3713 - binary_accuracy: 0.8677 - val_loss: 0.3885 - val_binary_accuracy: 0.8505\n",
      "Epoch 22/30\n",
      "80/80 [==============================] - 79s 998ms/step - loss: 0.3654 - binary_accuracy: 0.8687 - val_loss: 0.3846 - val_binary_accuracy: 0.8515\n",
      "Epoch 23/30\n",
      "80/80 [==============================] - 79s 997ms/step - loss: 0.3599 - binary_accuracy: 0.8716 - val_loss: 0.3811 - val_binary_accuracy: 0.8521\n",
      "Epoch 24/30\n",
      "80/80 [==============================] - 79s 992ms/step - loss: 0.3542 - binary_accuracy: 0.8726 - val_loss: 0.3786 - val_binary_accuracy: 0.8527\n",
      "Epoch 25/30\n",
      "80/80 [==============================] - 79s 993ms/step - loss: 0.3488 - binary_accuracy: 0.8741 - val_loss: 0.3758 - val_binary_accuracy: 0.8517\n",
      "Epoch 26/30\n",
      "80/80 [==============================] - 79s 994ms/step - loss: 0.3440 - binary_accuracy: 0.8741 - val_loss: 0.3730 - val_binary_accuracy: 0.8511\n",
      "Epoch 27/30\n",
      "80/80 [==============================] - 80s 1s/step - loss: 0.3396 - binary_accuracy: 0.8767 - val_loss: 0.3697 - val_binary_accuracy: 0.8523\n",
      "Epoch 28/30\n",
      "80/80 [==============================] - 79s 999ms/step - loss: 0.3350 - binary_accuracy: 0.8782 - val_loss: 0.3672 - val_binary_accuracy: 0.8535\n",
      "Epoch 29/30\n",
      "80/80 [==============================] - 79s 998ms/step - loss: 0.3304 - binary_accuracy: 0.8800 - val_loss: 0.3636 - val_binary_accuracy: 0.8549\n",
      "Epoch 30/30\n",
      "80/80 [==============================] - 78s 984ms/step - loss: 0.3258 - binary_accuracy: 0.8802 - val_loss: 0.3613 - val_binary_accuracy: 0.8547\n"
     ]
    }
   ],
   "source": [
    "history = model.fit(\n",
    "    ds_train,\n",
    "    validation_data=ds_valid,\n",
    "    epochs=30,\n",
    ")"
   ]
  },
  {
   "cell_type": "markdown",
   "id": "fb32b847",
   "metadata": {
    "papermill": {
     "duration": 0.136325,
     "end_time": "2022-12-10T02:01:27.157922",
     "exception": false,
     "start_time": "2022-12-10T02:01:27.021597",
     "status": "completed"
    },
    "tags": []
   },
   "source": [
    "Run the cell below to plot the loss and metric curves for this training run."
   ]
  },
  {
   "cell_type": "code",
   "execution_count": 10,
   "id": "a8d95eec",
   "metadata": {
    "execution": {
     "iopub.execute_input": "2022-12-10T02:01:27.430470Z",
     "iopub.status.busy": "2022-12-10T02:01:27.430136Z",
     "iopub.status.idle": "2022-12-10T02:01:27.868816Z",
     "shell.execute_reply": "2022-12-10T02:01:27.867542Z"
    },
    "papermill": {
     "duration": 0.578056,
     "end_time": "2022-12-10T02:01:27.871525",
     "exception": false,
     "start_time": "2022-12-10T02:01:27.293469",
     "status": "completed"
    },
    "tags": []
   },
   "outputs": [
    {
     "data": {
      "image/png": "[encoded data removed]",
      "text/plain": [
       "<Figure size 432x288 with 1 Axes>"
      ]
     },
     "metadata": {
      "needs_background": "light"
     },
     "output_type": "display_data"
    },
    {
     "data": {
      "image/png": "[encoded data removed]",
      "text/plain": [
       "<Figure size 432x288 with 1 Axes>"
      ]
     },
     "metadata": {
      "needs_background": "light"
     },
     "output_type": "display_data"
    }
   ],
   "source": [
    "import pandas as pd\n",
    "history_frame = pd.DataFrame(history.history)\n",
    "history_frame.loc[:, ['loss', 'val_loss']].plot()\n",
    "history_frame.loc[:, ['binary_accuracy', 'val_binary_accuracy']].plot();"
   ]
  },
  {
   "cell_type": "markdown",
   "id": "a581bcc6",
   "metadata": {
    "papermill": {
     "duration": 0.189179,
     "end_time": "2022-12-10T02:01:28.197716",
     "exception": false,
     "start_time": "2022-12-10T02:01:28.008537",
     "status": "completed"
    },
    "tags": []
   },
   "source": [
    "# 4) Examine Loss and Accuracy #\n",
    "\n",
    "Do you notice a difference between these learning curves and the curves for VGG16 from the tutorial? What does this difference tell you about what this model (InceptionV2) learned compared to VGG16? Are there ways in which one is better than the other? Worse?\n",
    "\n",
    "After you've thought about it, run the cell below to see the answer."
   ]
  },
  {
   "cell_type": "code",
   "execution_count": 11,
   "id": "c2167c82",
   "metadata": {
    "execution": {
     "iopub.execute_input": "2022-12-10T02:01:28.472952Z",
     "iopub.status.busy": "2022-12-10T02:01:28.472652Z",
     "iopub.status.idle": "2022-12-10T02:01:28.479390Z",
     "shell.execute_reply": "2022-12-10T02:01:28.478566Z"
    },
    "papermill": {
     "duration": 0.145757,
     "end_time": "2022-12-10T02:01:28.481038",
     "exception": false,
     "start_time": "2022-12-10T02:01:28.335281",
     "status": "completed"
    },
    "tags": []
   },
   "outputs": [
    {
     "data": {
      "application/javascript": [
       "parent.postMessage({\"jupyterEvent\": \"custom.exercise_interaction\", \"data\": {\"outcomeType\": 1, \"valueTowardsCompletion\": 0.25, \"interactionType\": 1, \"questionType\": 4, \"questionId\": \"4_Q4\", \"learnToolsVersion\": \"0.3.4\", \"failureMessage\": \"\", \"exceptionClass\": \"\", \"trace\": \"\"}}, \"*\")"
      ],
      "text/plain": [
       "<IPython.core.display.Javascript object>"
      ]
     },
     "metadata": {},
     "output_type": "display_data"
    },
    {
     "data": {
      "text/markdown": [
       "<span style=\"color:#33cc33\">Correct:</span> \n",
       "\n",
       "That the training loss and validation loss stay fairly close is evidence that the model isn't just memorizing the training data, but rather learning general properties of the two classes. But, because this model converges at a loss greater than the VGG16 model, it's likely that it is underfitting some, and could benefit from some extra capacity.\n"
      ],
      "text/plain": [
       "Correct: \n",
       "\n",
       "That the training loss and validation loss stay fairly close is evidence that the model isn't just memorizing the training data, but rather learning general properties of the two classes. But, because this model converges at a loss greater than the VGG16 model, it's likely that it is underfitting some, and could benefit from some extra capacity."
      ]
     },
     "metadata": {},
     "output_type": "display_data"
    }
   ],
   "source": [
    "# View the solution (Run this code cell to receive credit!)\n",
    "q_4.check()"
   ]
  },
  {
   "cell_type": "markdown",
   "id": "ed3f7314",
   "metadata": {
    "papermill": {
     "duration": 0.13575,
     "end_time": "2022-12-10T02:01:28.752558",
     "exception": false,
     "start_time": "2022-12-10T02:01:28.616808",
     "status": "completed"
    },
    "tags": []
   },
   "source": [
    "# Conclusion #\n",
    "\n",
    "In this first lesson, you learned the basics of **convolutional image classifiers**, that they consist of a **base** for extracting features from images, and a **head** which uses the features to decide the image's class. You also saw how to build a classifier with **transfer learning** on pretrained base. "
   ]
  },
  {
   "cell_type": "markdown",
   "id": "2e047af7",
   "metadata": {
    "papermill": {
     "duration": 0.139468,
     "end_time": "2022-12-10T02:01:29.032717",
     "exception": false,
     "start_time": "2022-12-10T02:01:28.893249",
     "status": "completed"
    },
    "tags": []
   },
   "source": [
    "# Keep Going #\n",
    "\n",
    "Move on to [**Lesson 2**](https://www.kaggle.com/ryanholbrook/convolution-and-relu) for a detailed look at how the base does this feature extraction. (It's really cool!)"
   ]
  },
  {
   "cell_type": "markdown",
   "id": "b7a7651a",
   "metadata": {
    "papermill": {
     "duration": 0.140034,
     "end_time": "2022-12-10T02:01:29.313763",
     "exception": false,
     "start_time": "2022-12-10T02:01:29.173729",
     "status": "completed"
    },
    "tags": []
   },
   "source": [
    "---\n",
    "\n",
    "\n",
    "\n",
    "\n",
    "*Have questions or comments? Visit the [course discussion forum](https://www.kaggle.com/learn/computer-vision/discussion) to chat with other learners.*"
   ]
  }
 ],
 "metadata": {
  "kernelspec": {
   "display_name": "Python 3",
   "language": "python",
   "name": "python3"
  },
  "language_info": {
   "codemirror_mode": {
    "name": "ipython",
    "version": 3
   },
   "file_extension": ".py",
   "mimetype": "text/x-python",
   "name": "python",
   "nbconvert_exporter": "python",
   "pygments_lexer": "ipython3",
   "version": "3.7.12"
  },
  "papermill": {
   "default_parameters": {},
   "duration": 2531.651322,
   "end_time": "2022-12-10T02:01:32.763947",
   "environment_variables": {},
   "exception": null,
   "input_path": "__notebook__.ipynb",
   "output_path": "__notebook__.ipynb",
   "parameters": {},
   "start_time": "2022-12-10T01:19:21.112625",
   "version": "2.3.4"
  }
 },
 "nbformat": 4,
 "nbformat_minor": 5
}
