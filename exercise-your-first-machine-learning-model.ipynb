{
 "cells": [
  {
   "cell_type": "markdown",
   "id": "72bcf107",
   "metadata": {
    "papermill": {
     "duration": 0.006651,
     "end_time": "2022-12-07T02:01:14.113626",
     "exception": false,
     "start_time": "2022-12-07T02:01:14.106975",
     "status": "completed"
    },
    "tags": []
   },
   "source": [
    "**This notebook is an exercise in the [Introduction to Machine Learning](https://www.kaggle.com/learn/intro-to-machine-learning) course.  You can reference the tutorial at [this link](https://www.kaggle.com/dansbecker/your-first-machine-learning-model).**\n",
    "\n",
    "---\n"
   ]
  },
  {
   "cell_type": "markdown",
   "id": "cc0c309f",
   "metadata": {
    "papermill": {
     "duration": 0.004858,
     "end_time": "2022-12-07T02:01:14.123736",
     "exception": false,
     "start_time": "2022-12-07T02:01:14.118878",
     "status": "completed"
    },
    "tags": []
   },
   "source": [
    "## Recap\n",
    "So far, you have loaded your data and reviewed it with the following code. Run this cell to set up your coding environment where the previous step left off."
   ]
  },
  {
   "cell_type": "code",
   "execution_count": 1,
   "id": "c44d99e0",
   "metadata": {
    "execution": {
     "iopub.execute_input": "2022-12-07T02:01:14.136834Z",
     "iopub.status.busy": "2022-12-07T02:01:14.136164Z",
     "iopub.status.idle": "2022-12-07T02:01:15.599009Z",
     "shell.execute_reply": "2022-12-07T02:01:15.597623Z"
    },
    "papermill": {
     "duration": 1.472881,
     "end_time": "2022-12-07T02:01:15.601682",
     "exception": false,
     "start_time": "2022-12-07T02:01:14.128801",
     "status": "completed"
    },
    "tags": []
   },
   "outputs": [
    {
     "name": "stdout",
     "output_type": "stream",
     "text": [
      "Setup Complete\n"
     ]
    }
   ],
   "source": [
    "# Code you have previously used to load data\n",
    "import pandas as pd\n",
    "\n",
    "# Path of the file to read\n",
    "iowa_file_path = '../input/home-data-for-ml-course/train.csv'\n",
    "\n",
    "home_data = pd.read_csv(iowa_file_path)\n",
    "\n",
    "# Set up code checking\n",
    "from learntools.core import binder\n",
    "binder.bind(globals())\n",
    "from learntools.machine_learning.ex3 import *\n",
    "\n",
    "print(\"Setup Complete\")"
   ]
  },
  {
   "cell_type": "markdown",
   "id": "5fe8e0f0",
   "metadata": {
    "papermill": {
     "duration": 0.005018,
     "end_time": "2022-12-07T02:01:15.612119",
     "exception": false,
     "start_time": "2022-12-07T02:01:15.607101",
     "status": "completed"
    },
    "tags": []
   },
   "source": [
    "# Exercises\n",
    "\n",
    "## Step 1: Specify Prediction Target\n",
    "Select the target variable, which corresponds to the sales price. Save this to a new variable called `y`. You'll need to print a list of the columns to find the name of the column you need.\n"
   ]
  },
  {
   "cell_type": "code",
   "execution_count": 2,
   "id": "f0824a79",
   "metadata": {
    "execution": {
     "iopub.execute_input": "2022-12-07T02:01:15.624158Z",
     "iopub.status.busy": "2022-12-07T02:01:15.623728Z",
     "iopub.status.idle": "2022-12-07T02:01:15.633593Z",
     "shell.execute_reply": "2022-12-07T02:01:15.632367Z"
    },
    "papermill": {
     "duration": 0.018597,
     "end_time": "2022-12-07T02:01:15.635959",
     "exception": false,
     "start_time": "2022-12-07T02:01:15.617362",
     "status": "completed"
    },
    "tags": []
   },
   "outputs": [
    {
     "data": {
      "text/plain": [
       "Index(['Id', 'MSSubClass', 'MSZoning', 'LotFrontage', 'LotArea', 'Street',\n",
       "       'Alley', 'LotShape', 'LandContour', 'Utilities', 'LotConfig',\n",
       "       'LandSlope', 'Neighborhood', 'Condition1', 'Condition2', 'BldgType',\n",
       "       'HouseStyle', 'OverallQual', 'OverallCond', 'YearBuilt', 'YearRemodAdd',\n",
       "       'RoofStyle', 'RoofMatl', 'Exterior1st', 'Exterior2nd', 'MasVnrType',\n",
       "       'MasVnrArea', 'ExterQual', 'ExterCond', 'Foundation', 'BsmtQual',\n",
       "       'BsmtCond', 'BsmtExposure', 'BsmtFinType1', 'BsmtFinSF1',\n",
       "       'BsmtFinType2', 'BsmtFinSF2', 'BsmtUnfSF', 'TotalBsmtSF', 'Heating',\n",
       "       'HeatingQC', 'CentralAir', 'Electrical', '1stFlrSF', '2ndFlrSF',\n",
       "       'LowQualFinSF', 'GrLivArea', 'BsmtFullBath', 'BsmtHalfBath', 'FullBath',\n",
       "       'HalfBath', 'BedroomAbvGr', 'KitchenAbvGr', 'KitchenQual',\n",
       "       'TotRmsAbvGrd', 'Functional', 'Fireplaces', 'FireplaceQu', 'GarageType',\n",
       "       'GarageYrBlt', 'GarageFinish', 'GarageCars', 'GarageArea', 'GarageQual',\n",
       "       'GarageCond', 'PavedDrive', 'WoodDeckSF', 'OpenPorchSF',\n",
       "       'EnclosedPorch', '3SsnPorch', 'ScreenPorch', 'PoolArea', 'PoolQC',\n",
       "       'Fence', 'MiscFeature', 'MiscVal', 'MoSold', 'YrSold', 'SaleType',\n",
       "       'SaleCondition', 'SalePrice'],\n",
       "      dtype='object')"
      ]
     },
     "execution_count": 2,
     "metadata": {},
     "output_type": "execute_result"
    }
   ],
   "source": [
    "# print the list of columns in the dataset to find the name of the prediction target\n",
    "home_data.columns"
   ]
  },
  {
   "cell_type": "code",
   "execution_count": 3,
   "id": "a5e5c6cb",
   "metadata": {
    "execution": {
     "iopub.execute_input": "2022-12-07T02:01:15.648615Z",
     "iopub.status.busy": "2022-12-07T02:01:15.648222Z",
     "iopub.status.idle": "2022-12-07T02:01:15.662990Z",
     "shell.execute_reply": "2022-12-07T02:01:15.661793Z"
    },
    "papermill": {
     "duration": 0.023699,
     "end_time": "2022-12-07T02:01:15.665147",
     "exception": false,
     "start_time": "2022-12-07T02:01:15.641448",
     "status": "completed"
    },
    "tags": []
   },
   "outputs": [
    {
     "data": {
      "application/javascript": [
       "parent.postMessage({\"jupyterEvent\": \"custom.exercise_interaction\", \"data\": {\"outcomeType\": 1, \"valueTowardsCompletion\": 0.25, \"interactionType\": 1, \"questionType\": 2, \"questionId\": \"1_SetTarget\", \"learnToolsVersion\": \"0.3.4\", \"failureMessage\": \"\", \"exceptionClass\": \"\", \"trace\": \"\"}}, \"*\")"
      ],
      "text/plain": [
       "<IPython.core.display.Javascript object>"
      ]
     },
     "metadata": {},
     "output_type": "display_data"
    },
    {
     "data": {
      "text/markdown": [
       "<span style=\"color:#33cc33\">Correct</span>"
      ],
      "text/plain": [
       "Correct"
      ]
     },
     "metadata": {},
     "output_type": "display_data"
    }
   ],
   "source": [
    "y = home_data.SalePrice\n",
    "\n",
    "# Check your answer\n",
    "step_1.check()"
   ]
  },
  {
   "cell_type": "code",
   "execution_count": 4,
   "id": "3708c639",
   "metadata": {
    "collapsed": true,
    "execution": {
     "iopub.execute_input": "2022-12-07T02:01:15.678070Z",
     "iopub.status.busy": "2022-12-07T02:01:15.677627Z",
     "iopub.status.idle": "2022-12-07T02:01:15.682989Z",
     "shell.execute_reply": "2022-12-07T02:01:15.681847Z"
    },
    "jupyter": {
     "outputs_hidden": true
    },
    "papermill": {
     "duration": 0.014747,
     "end_time": "2022-12-07T02:01:15.685413",
     "exception": false,
     "start_time": "2022-12-07T02:01:15.670666",
     "status": "completed"
    },
    "tags": []
   },
   "outputs": [],
   "source": [
    "# The lines below will show you a hint or the solution.\n",
    "# step_1.hint() \n",
    "# step_1.solution()"
   ]
  },
  {
   "cell_type": "markdown",
   "id": "95a3da20",
   "metadata": {
    "papermill": {
     "duration": 0.005815,
     "end_time": "2022-12-07T02:01:15.697152",
     "exception": false,
     "start_time": "2022-12-07T02:01:15.691337",
     "status": "completed"
    },
    "tags": []
   },
   "source": [
    "## Step 2: Create X\n",
    "Now you will create a DataFrame called `X` holding the predictive features.\n",
    "\n",
    "Since you want only some columns from the original data, you'll first create a list with the names of the columns you want in `X`.\n",
    "\n",
    "You'll use just the following columns in the list (you can copy and paste the whole list to save some typing, though you'll still need to add quotes):\n",
    "  * LotArea\n",
    "  * YearBuilt\n",
    "  * 1stFlrSF\n",
    "  * 2ndFlrSF\n",
    "  * FullBath\n",
    "  * BedroomAbvGr\n",
    "  * TotRmsAbvGrd\n",
    "\n",
    "After you've created that list of features, use it to create the DataFrame that you'll use to fit the model."
   ]
  },
  {
   "cell_type": "code",
   "execution_count": 5,
   "id": "dce08fbb",
   "metadata": {
    "execution": {
     "iopub.execute_input": "2022-12-07T02:01:15.713676Z",
     "iopub.status.busy": "2022-12-07T02:01:15.711674Z",
     "iopub.status.idle": "2022-12-07T02:01:15.729147Z",
     "shell.execute_reply": "2022-12-07T02:01:15.727956Z"
    },
    "papermill": {
     "duration": 0.026895,
     "end_time": "2022-12-07T02:01:15.731498",
     "exception": false,
     "start_time": "2022-12-07T02:01:15.704603",
     "status": "completed"
    },
    "tags": []
   },
   "outputs": [
    {
     "data": {
      "application/javascript": [
       "parent.postMessage({\"jupyterEvent\": \"custom.exercise_interaction\", \"data\": {\"outcomeType\": 1, \"valueTowardsCompletion\": 0.25, \"interactionType\": 1, \"questionType\": 2, \"questionId\": \"2_SelectPredictionData\", \"learnToolsVersion\": \"0.3.4\", \"failureMessage\": \"\", \"exceptionClass\": \"\", \"trace\": \"\"}}, \"*\")"
      ],
      "text/plain": [
       "<IPython.core.display.Javascript object>"
      ]
     },
     "metadata": {},
     "output_type": "display_data"
    },
    {
     "data": {
      "text/markdown": [
       "<span style=\"color:#33cc33\">Correct</span>"
      ],
      "text/plain": [
       "Correct"
      ]
     },
     "metadata": {},
     "output_type": "display_data"
    }
   ],
   "source": [
    "# Create the list of features below\n",
    "feature_names = ['LotArea', 'YearBuilt', '1stFlrSF', '2ndFlrSF', 'FullBath', 'BedroomAbvGr', 'TotRmsAbvGrd']\n",
    "\n",
    "# Select data corresponding to features in feature_names\n",
    "X = home_data[feature_names]\n",
    "\n",
    "# Check your answer\n",
    "step_2.check()"
   ]
  },
  {
   "cell_type": "code",
   "execution_count": 6,
   "id": "706c6b28",
   "metadata": {
    "collapsed": true,
    "execution": {
     "iopub.execute_input": "2022-12-07T02:01:15.745815Z",
     "iopub.status.busy": "2022-12-07T02:01:15.744982Z",
     "iopub.status.idle": "2022-12-07T02:01:15.749991Z",
     "shell.execute_reply": "2022-12-07T02:01:15.748949Z"
    },
    "jupyter": {
     "outputs_hidden": true
    },
    "papermill": {
     "duration": 0.015193,
     "end_time": "2022-12-07T02:01:15.752641",
     "exception": false,
     "start_time": "2022-12-07T02:01:15.737448",
     "status": "completed"
    },
    "tags": []
   },
   "outputs": [],
   "source": [
    "# step_2.hint()\n",
    "# step_2.solution()"
   ]
  },
  {
   "cell_type": "markdown",
   "id": "0cd77951",
   "metadata": {
    "papermill": {
     "duration": 0.005858,
     "end_time": "2022-12-07T02:01:15.764668",
     "exception": false,
     "start_time": "2022-12-07T02:01:15.758810",
     "status": "completed"
    },
    "tags": []
   },
   "source": [
    "## Review Data\n",
    "Before building a model, take a quick look at **X** to verify it looks sensible"
   ]
  },
  {
   "cell_type": "code",
   "execution_count": 7,
   "id": "2cf8b385",
   "metadata": {
    "execution": {
     "iopub.execute_input": "2022-12-07T02:01:15.779320Z",
     "iopub.status.busy": "2022-12-07T02:01:15.778586Z",
     "iopub.status.idle": "2022-12-07T02:01:15.793483Z",
     "shell.execute_reply": "2022-12-07T02:01:15.792238Z"
    },
    "papermill": {
     "duration": 0.026049,
     "end_time": "2022-12-07T02:01:15.796913",
     "exception": false,
     "start_time": "2022-12-07T02:01:15.770864",
     "status": "completed"
    },
    "tags": []
   },
   "outputs": [
    {
     "name": "stdout",
     "output_type": "stream",
     "text": [
      "<bound method NDFrame.describe of       LotArea  YearBuilt  1stFlrSF  2ndFlrSF  FullBath  BedroomAbvGr  \\\n",
      "0        8450       2003       856       854         2             3   \n",
      "1        9600       1976      1262         0         2             3   \n",
      "2       11250       2001       920       866         2             3   \n",
      "3        9550       1915       961       756         1             3   \n",
      "4       14260       2000      1145      1053         2             4   \n",
      "...       ...        ...       ...       ...       ...           ...   \n",
      "1455     7917       1999       953       694         2             3   \n",
      "1456    13175       1978      2073         0         2             3   \n",
      "1457     9042       1941      1188      1152         2             4   \n",
      "1458     9717       1950      1078         0         1             2   \n",
      "1459     9937       1965      1256         0         1             3   \n",
      "\n",
      "      TotRmsAbvGrd  \n",
      "0                8  \n",
      "1                6  \n",
      "2                6  \n",
      "3                7  \n",
      "4                9  \n",
      "...            ...  \n",
      "1455             7  \n",
      "1456             7  \n",
      "1457             9  \n",
      "1458             5  \n",
      "1459             6  \n",
      "\n",
      "[1460 rows x 7 columns]>\n",
      "   LotArea  YearBuilt  1stFlrSF  2ndFlrSF  FullBath  BedroomAbvGr  \\\n",
      "0     8450       2003       856       854         2             3   \n",
      "1     9600       1976      1262         0         2             3   \n",
      "2    11250       2001       920       866         2             3   \n",
      "3     9550       1915       961       756         1             3   \n",
      "4    14260       2000      1145      1053         2             4   \n",
      "\n",
      "   TotRmsAbvGrd  \n",
      "0             8  \n",
      "1             6  \n",
      "2             6  \n",
      "3             7  \n",
      "4             9  \n"
     ]
    }
   ],
   "source": [
    "# Review data\n",
    "# print description or statistics from X\n",
    "print(X.describe)\n",
    "\n",
    "# print the top few lines\n",
    "print(X.head())"
   ]
  },
  {
   "cell_type": "markdown",
   "id": "992b9336",
   "metadata": {
    "papermill": {
     "duration": 0.005789,
     "end_time": "2022-12-07T02:01:15.809919",
     "exception": false,
     "start_time": "2022-12-07T02:01:15.804130",
     "status": "completed"
    },
    "tags": []
   },
   "source": [
    "## Step 3: Specify and Fit Model\n",
    "Create a `DecisionTreeRegressor` and save it iowa_model. Ensure you've done the relevant import from sklearn to run this command.\n",
    "\n",
    "Then fit the model you just created using the data in `X` and `y` that you saved above."
   ]
  },
  {
   "cell_type": "code",
   "execution_count": 8,
   "id": "59bd81ca",
   "metadata": {
    "execution": {
     "iopub.execute_input": "2022-12-07T02:01:15.824328Z",
     "iopub.status.busy": "2022-12-07T02:01:15.823652Z",
     "iopub.status.idle": "2022-12-07T02:01:15.841363Z",
     "shell.execute_reply": "2022-12-07T02:01:15.840517Z"
    },
    "papermill": {
     "duration": 0.027879,
     "end_time": "2022-12-07T02:01:15.843837",
     "exception": false,
     "start_time": "2022-12-07T02:01:15.815958",
     "status": "completed"
    },
    "tags": []
   },
   "outputs": [
    {
     "data": {
      "application/javascript": [
       "parent.postMessage({\"jupyterEvent\": \"custom.exercise_interaction\", \"data\": {\"outcomeType\": 1, \"valueTowardsCompletion\": 0.25, \"interactionType\": 1, \"questionType\": 2, \"questionId\": \"3_CreateModel\", \"learnToolsVersion\": \"0.3.4\", \"failureMessage\": \"\", \"exceptionClass\": \"\", \"trace\": \"\"}}, \"*\")"
      ],
      "text/plain": [
       "<IPython.core.display.Javascript object>"
      ]
     },
     "metadata": {},
     "output_type": "display_data"
    },
    {
     "data": {
      "text/markdown": [
       "<span style=\"color:#33cc33\">Correct</span>"
      ],
      "text/plain": [
       "Correct"
      ]
     },
     "metadata": {},
     "output_type": "display_data"
    }
   ],
   "source": [
    "from sklearn.tree import DecisionTreeRegressor\n",
    "#specify the model. \n",
    "#For model reproducibility, set a numeric value for random_state when specifying the model\n",
    "iowa_model = DecisionTreeRegressor(random_state = 1)\n",
    "\n",
    "# Fit the model\n",
    "iowa_model.fit(X, y)\n",
    "\n",
    "# Check your answer\n",
    "step_3.check()"
   ]
  },
  {
   "cell_type": "code",
   "execution_count": 9,
   "id": "9e1a391a",
   "metadata": {
    "execution": {
     "iopub.execute_input": "2022-12-07T02:01:15.858886Z",
     "iopub.status.busy": "2022-12-07T02:01:15.858260Z",
     "iopub.status.idle": "2022-12-07T02:01:15.862675Z",
     "shell.execute_reply": "2022-12-07T02:01:15.861473Z"
    },
    "papermill": {
     "duration": 0.014603,
     "end_time": "2022-12-07T02:01:15.865007",
     "exception": false,
     "start_time": "2022-12-07T02:01:15.850404",
     "status": "completed"
    },
    "tags": []
   },
   "outputs": [],
   "source": [
    "#step_3.hint()\n",
    "# step_3.solution()"
   ]
  },
  {
   "cell_type": "markdown",
   "id": "46e82604",
   "metadata": {
    "papermill": {
     "duration": 0.006225,
     "end_time": "2022-12-07T02:01:15.877431",
     "exception": false,
     "start_time": "2022-12-07T02:01:15.871206",
     "status": "completed"
    },
    "tags": []
   },
   "source": [
    "## Step 4: Make Predictions\n",
    "Make predictions with the model's `predict` command using `X` as the data. Save the results to a variable called `predictions`."
   ]
  },
  {
   "cell_type": "code",
   "execution_count": 10,
   "id": "80f979c9",
   "metadata": {
    "execution": {
     "iopub.execute_input": "2022-12-07T02:01:15.891967Z",
     "iopub.status.busy": "2022-12-07T02:01:15.890883Z",
     "iopub.status.idle": "2022-12-07T02:01:15.906977Z",
     "shell.execute_reply": "2022-12-07T02:01:15.905204Z"
    },
    "papermill": {
     "duration": 0.026254,
     "end_time": "2022-12-07T02:01:15.909851",
     "exception": false,
     "start_time": "2022-12-07T02:01:15.883597",
     "status": "completed"
    },
    "tags": []
   },
   "outputs": [
    {
     "name": "stdout",
     "output_type": "stream",
     "text": [
      "[208500. 181500. 223500. ... 266500. 142125. 147500.]\n"
     ]
    },
    {
     "data": {
      "application/javascript": [
       "parent.postMessage({\"jupyterEvent\": \"custom.exercise_interaction\", \"data\": {\"outcomeType\": 1, \"valueTowardsCompletion\": 0.25, \"interactionType\": 1, \"questionType\": 2, \"questionId\": \"4_MakePredictions\", \"learnToolsVersion\": \"0.3.4\", \"failureMessage\": \"\", \"exceptionClass\": \"\", \"trace\": \"\"}}, \"*\")"
      ],
      "text/plain": [
       "<IPython.core.display.Javascript object>"
      ]
     },
     "metadata": {},
     "output_type": "display_data"
    },
    {
     "data": {
      "text/markdown": [
       "<span style=\"color:#33cc33\">Correct</span>"
      ],
      "text/plain": [
       "Correct"
      ]
     },
     "metadata": {},
     "output_type": "display_data"
    }
   ],
   "source": [
    "predictions = iowa_model.predict(X)\n",
    "print(predictions)\n",
    "\n",
    "# Check your answer\n",
    "step_4.check()"
   ]
  },
  {
   "cell_type": "code",
   "execution_count": 11,
   "id": "c9097067",
   "metadata": {
    "collapsed": true,
    "execution": {
     "iopub.execute_input": "2022-12-07T02:01:15.925301Z",
     "iopub.status.busy": "2022-12-07T02:01:15.924859Z",
     "iopub.status.idle": "2022-12-07T02:01:15.929096Z",
     "shell.execute_reply": "2022-12-07T02:01:15.928275Z"
    },
    "jupyter": {
     "outputs_hidden": true
    },
    "papermill": {
     "duration": 0.014573,
     "end_time": "2022-12-07T02:01:15.931221",
     "exception": false,
     "start_time": "2022-12-07T02:01:15.916648",
     "status": "completed"
    },
    "tags": []
   },
   "outputs": [],
   "source": [
    "# step_4.hint()\n",
    "# step_4.solution()"
   ]
  },
  {
   "cell_type": "markdown",
   "id": "2a44a9f3",
   "metadata": {
    "papermill": {
     "duration": 0.006342,
     "end_time": "2022-12-07T02:01:15.944077",
     "exception": false,
     "start_time": "2022-12-07T02:01:15.937735",
     "status": "completed"
    },
    "tags": []
   },
   "source": [
    "## Think About Your Results\n",
    "\n",
    "Use the `head` method to compare the top few predictions to the actual home values (in `y`) for those same homes. Anything surprising?\n"
   ]
  },
  {
   "cell_type": "code",
   "execution_count": 12,
   "id": "7790d7f2",
   "metadata": {
    "execution": {
     "iopub.execute_input": "2022-12-07T02:01:15.959324Z",
     "iopub.status.busy": "2022-12-07T02:01:15.958625Z",
     "iopub.status.idle": "2022-12-07T02:01:15.966132Z",
     "shell.execute_reply": "2022-12-07T02:01:15.964451Z"
    },
    "papermill": {
     "duration": 0.018932,
     "end_time": "2022-12-07T02:01:15.969486",
     "exception": false,
     "start_time": "2022-12-07T02:01:15.950554",
     "status": "completed"
    },
    "tags": []
   },
   "outputs": [
    {
     "name": "stdout",
     "output_type": "stream",
     "text": [
      "0       208500\n",
      "1       181500\n",
      "2       223500\n",
      "3       140000\n",
      "4       250000\n",
      "         ...  \n",
      "1455    175000\n",
      "1456    210000\n",
      "1457    266500\n",
      "1458    142125\n",
      "1459    147500\n",
      "Name: SalePrice, Length: 1460, dtype: int64\n"
     ]
    }
   ],
   "source": [
    "print(y)\n",
    "# yes it is suprising that the model seems to have 100% accuracy "
   ]
  },
  {
   "cell_type": "markdown",
   "id": "a4414990",
   "metadata": {
    "papermill": {
     "duration": 0.006351,
     "end_time": "2022-12-07T02:01:15.982809",
     "exception": false,
     "start_time": "2022-12-07T02:01:15.976458",
     "status": "completed"
    },
    "tags": []
   },
   "source": [
    "It's natural to ask how accurate the model's predictions will be and how you can improve that. That will be you're next step.\n",
    "\n",
    "# Keep Going\n",
    "\n",
    "You are ready for **[Model Validation](https://www.kaggle.com/dansbecker/model-validation).**\n"
   ]
  },
  {
   "cell_type": "markdown",
   "id": "810d95f7",
   "metadata": {
    "papermill": {
     "duration": 0.006539,
     "end_time": "2022-12-07T02:01:15.996152",
     "exception": false,
     "start_time": "2022-12-07T02:01:15.989613",
     "status": "completed"
    },
    "tags": []
   },
   "source": [
    "---\n",
    "\n",
    "\n",
    "\n",
    "\n",
    "*Have questions or comments? Visit the [course discussion forum](https://www.kaggle.com/learn/intro-to-machine-learning/discussion) to chat with other learners.*"
   ]
  }
 ],
 "metadata": {
  "kernelspec": {
   "display_name": "Python 3",
   "language": "python",
   "name": "python3"
  },
  "language_info": {
   "codemirror_mode": {
    "name": "ipython",
    "version": 3
   },
   "file_extension": ".py",
   "mimetype": "text/x-python",
   "name": "python",
   "nbconvert_exporter": "python",
   "pygments_lexer": "ipython3",
   "version": "3.7.12"
  },
  "papermill": {
   "default_parameters": {},
   "duration": 11.499909,
   "end_time": "2022-12-07T02:01:16.824424",
   "environment_variables": {},
   "exception": null,
   "input_path": "__notebook__.ipynb",
   "output_path": "__notebook__.ipynb",
   "parameters": {},
   "start_time": "2022-12-07T02:01:05.324515",
   "version": "2.3.4"
  }
 },
 "nbformat": 4,
 "nbformat_minor": 5
}
