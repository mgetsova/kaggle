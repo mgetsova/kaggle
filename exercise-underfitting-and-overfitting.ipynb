{
 "cells": [
  {
   "cell_type": "markdown",
   "id": "e48af82f",
   "metadata": {
    "papermill": {
     "duration": 0.004843,
     "end_time": "2022-12-07T02:02:15.133301",
     "exception": false,
     "start_time": "2022-12-07T02:02:15.128458",
     "status": "completed"
    },
    "tags": []
   },
   "source": [
    "**This notebook is an exercise in the [Introduction to Machine Learning](https://www.kaggle.com/learn/intro-to-machine-learning) course.  You can reference the tutorial at [this link](https://www.kaggle.com/dansbecker/underfitting-and-overfitting).**\n",
    "\n",
    "---\n"
   ]
  },
  {
   "cell_type": "markdown",
   "id": "0ee55e87",
   "metadata": {
    "papermill": {
     "duration": 0.003379,
     "end_time": "2022-12-07T02:02:15.140725",
     "exception": false,
     "start_time": "2022-12-07T02:02:15.137346",
     "status": "completed"
    },
    "tags": []
   },
   "source": [
    "## Recap\n",
    "You've built your first model, and now it's time to optimize the size of the tree to make better predictions. Run this cell to set up your coding environment where the previous step left off."
   ]
  },
  {
   "cell_type": "code",
   "execution_count": 1,
   "id": "cc1428a0",
   "metadata": {
    "execution": {
     "iopub.execute_input": "2022-12-07T02:02:15.150802Z",
     "iopub.status.busy": "2022-12-07T02:02:15.149767Z",
     "iopub.status.idle": "2022-12-07T02:02:16.553222Z",
     "shell.execute_reply": "2022-12-07T02:02:16.551953Z"
    },
    "papermill": {
     "duration": 1.412799,
     "end_time": "2022-12-07T02:02:16.557064",
     "exception": false,
     "start_time": "2022-12-07T02:02:15.144265",
     "status": "completed"
    },
    "tags": []
   },
   "outputs": [
    {
     "name": "stdout",
     "output_type": "stream",
     "text": [
      "Validation MAE: 29,653\n",
      "\n",
      "Setup complete\n"
     ]
    }
   ],
   "source": [
    "# Code you have previously used to load data\n",
    "import pandas as pd\n",
    "from sklearn.metrics import mean_absolute_error\n",
    "from sklearn.model_selection import train_test_split\n",
    "from sklearn.tree import DecisionTreeRegressor\n",
    "\n",
    "\n",
    "# Path of the file to read\n",
    "iowa_file_path = '../input/home-data-for-ml-course/train.csv'\n",
    "\n",
    "home_data = pd.read_csv(iowa_file_path)\n",
    "# Create target object and call it y\n",
    "y = home_data.SalePrice\n",
    "# Create X\n",
    "features = ['LotArea', 'YearBuilt', '1stFlrSF', '2ndFlrSF', 'FullBath', 'BedroomAbvGr', 'TotRmsAbvGrd']\n",
    "X = home_data[features]\n",
    "\n",
    "# Split into validation and training data\n",
    "train_X, val_X, train_y, val_y = train_test_split(X, y, random_state=1)\n",
    "\n",
    "# Specify Model\n",
    "iowa_model = DecisionTreeRegressor(random_state=1)\n",
    "# Fit Model\n",
    "iowa_model.fit(train_X, train_y)\n",
    "\n",
    "# Make validation predictions and calculate mean absolute error\n",
    "val_predictions = iowa_model.predict(val_X)\n",
    "val_mae = mean_absolute_error(val_predictions, val_y)\n",
    "print(\"Validation MAE: {:,.0f}\".format(val_mae))\n",
    "\n",
    "# Set up code checking\n",
    "from learntools.core import binder\n",
    "binder.bind(globals())\n",
    "from learntools.machine_learning.ex5 import *\n",
    "print(\"\\nSetup complete\")"
   ]
  },
  {
   "cell_type": "markdown",
   "id": "749c1ac8",
   "metadata": {
    "papermill": {
     "duration": 0.003687,
     "end_time": "2022-12-07T02:02:16.566551",
     "exception": false,
     "start_time": "2022-12-07T02:02:16.562864",
     "status": "completed"
    },
    "tags": []
   },
   "source": [
    "# Exercises\n",
    "You could write the function `get_mae` yourself. For now, we'll supply it. This is the same function you read about in the previous lesson. Just run the cell below."
   ]
  },
  {
   "cell_type": "code",
   "execution_count": 2,
   "id": "561ee30f",
   "metadata": {
    "execution": {
     "iopub.execute_input": "2022-12-07T02:02:16.575969Z",
     "iopub.status.busy": "2022-12-07T02:02:16.575583Z",
     "iopub.status.idle": "2022-12-07T02:02:16.581368Z",
     "shell.execute_reply": "2022-12-07T02:02:16.580480Z"
    },
    "papermill": {
     "duration": 0.012932,
     "end_time": "2022-12-07T02:02:16.583342",
     "exception": false,
     "start_time": "2022-12-07T02:02:16.570410",
     "status": "completed"
    },
    "tags": []
   },
   "outputs": [],
   "source": [
    "def get_mae(max_leaf_nodes, train_X, val_X, train_y, val_y):\n",
    "    model = DecisionTreeRegressor(max_leaf_nodes=max_leaf_nodes, random_state=0)\n",
    "    model.fit(train_X, train_y)\n",
    "    preds_val = model.predict(val_X)\n",
    "    mae = mean_absolute_error(val_y, preds_val)\n",
    "    return(mae)"
   ]
  },
  {
   "cell_type": "markdown",
   "id": "a81c9072",
   "metadata": {
    "papermill": {
     "duration": 0.00333,
     "end_time": "2022-12-07T02:02:16.590407",
     "exception": false,
     "start_time": "2022-12-07T02:02:16.587077",
     "status": "completed"
    },
    "tags": []
   },
   "source": [
    "## Step 1: Compare Different Tree Sizes\n",
    "Write a loop that tries the following values for *max_leaf_nodes* from a set of possible values.\n",
    "\n",
    "Call the *get_mae* function on each value of max_leaf_nodes. Store the output in some way that allows you to select the value of `max_leaf_nodes` that gives the most accurate model on your data."
   ]
  },
  {
   "cell_type": "code",
   "execution_count": 3,
   "id": "1cc0b4ae",
   "metadata": {
    "execution": {
     "iopub.execute_input": "2022-12-07T02:02:16.602092Z",
     "iopub.status.busy": "2022-12-07T02:02:16.601476Z",
     "iopub.status.idle": "2022-12-07T02:02:16.666722Z",
     "shell.execute_reply": "2022-12-07T02:02:16.665021Z"
    },
    "papermill": {
     "duration": 0.073897,
     "end_time": "2022-12-07T02:02:16.669729",
     "exception": false,
     "start_time": "2022-12-07T02:02:16.595832",
     "status": "completed"
    },
    "tags": []
   },
   "outputs": [
    {
     "data": {
      "application/javascript": [
       "parent.postMessage({\"jupyterEvent\": \"custom.exercise_interaction\", \"data\": {\"outcomeType\": 1, \"valueTowardsCompletion\": 0.5, \"interactionType\": 1, \"questionType\": 1, \"questionId\": \"1_BestTreeSize\", \"learnToolsVersion\": \"0.3.4\", \"failureMessage\": \"\", \"exceptionClass\": \"\", \"trace\": \"\"}}, \"*\")"
      ],
      "text/plain": [
       "<IPython.core.display.Javascript object>"
      ]
     },
     "metadata": {},
     "output_type": "display_data"
    },
    {
     "data": {
      "text/markdown": [
       "<span style=\"color:#33cc33\">Correct</span>"
      ],
      "text/plain": [
       "Correct"
      ]
     },
     "metadata": {},
     "output_type": "display_data"
    }
   ],
   "source": [
    "candidate_max_leaf_nodes = [5, 25, 50, 100, 250, 500]\n",
    "# Write loop to find the ideal tree size from candidate_max_leaf_nodes\n",
    "min_mae = 1000000\n",
    "ideal_max_leaf_nodes = 5\n",
    "for max_leaf_nodes in candidate_max_leaf_nodes:\n",
    "    my_mae = get_mae(max_leaf_nodes, train_X, val_X, train_y, val_y)\n",
    "    if(my_mae < min_mae):\n",
    "        min_mae = my_mae\n",
    "        ideal_max_leaf_nodes = max_leaf_nodes\n",
    "\n",
    "# Store the best value of max_leaf_nodes (it will be either 5, 25, 50, 100, 250 or 500)\n",
    "best_tree_size = ideal_max_leaf_nodes\n",
    "\n",
    "# Check your answer\n",
    "step_1.check()"
   ]
  },
  {
   "cell_type": "code",
   "execution_count": 4,
   "id": "8de57ee1",
   "metadata": {
    "execution": {
     "iopub.execute_input": "2022-12-07T02:02:16.679225Z",
     "iopub.status.busy": "2022-12-07T02:02:16.678816Z",
     "iopub.status.idle": "2022-12-07T02:02:16.683479Z",
     "shell.execute_reply": "2022-12-07T02:02:16.682420Z"
    },
    "papermill": {
     "duration": 0.012324,
     "end_time": "2022-12-07T02:02:16.686028",
     "exception": false,
     "start_time": "2022-12-07T02:02:16.673704",
     "status": "completed"
    },
    "tags": []
   },
   "outputs": [],
   "source": [
    "# The lines below will show you a hint or the solution.\n",
    "# step_1.hint() \n",
    "# step_1.solution()"
   ]
  },
  {
   "cell_type": "markdown",
   "id": "59d8fce9",
   "metadata": {
    "papermill": {
     "duration": 0.003785,
     "end_time": "2022-12-07T02:02:16.693908",
     "exception": false,
     "start_time": "2022-12-07T02:02:16.690123",
     "status": "completed"
    },
    "tags": []
   },
   "source": [
    "## Step 2: Fit Model Using All Data\n",
    "You know the best tree size. If you were going to deploy this model in practice, you would make it even more accurate by using all of the data and keeping that tree size.  That is, you don't need to hold out the validation data now that you've made all your modeling decisions."
   ]
  },
  {
   "cell_type": "code",
   "execution_count": 5,
   "id": "8703d353",
   "metadata": {
    "execution": {
     "iopub.execute_input": "2022-12-07T02:02:16.703921Z",
     "iopub.status.busy": "2022-12-07T02:02:16.702952Z",
     "iopub.status.idle": "2022-12-07T02:02:16.720397Z",
     "shell.execute_reply": "2022-12-07T02:02:16.719269Z"
    },
    "papermill": {
     "duration": 0.024712,
     "end_time": "2022-12-07T02:02:16.722584",
     "exception": false,
     "start_time": "2022-12-07T02:02:16.697872",
     "status": "completed"
    },
    "tags": []
   },
   "outputs": [
    {
     "data": {
      "application/javascript": [
       "parent.postMessage({\"jupyterEvent\": \"custom.exercise_interaction\", \"data\": {\"outcomeType\": 1, \"valueTowardsCompletion\": 0.5, \"interactionType\": 1, \"questionType\": 2, \"questionId\": \"2_FitModelWithAllData\", \"learnToolsVersion\": \"0.3.4\", \"failureMessage\": \"\", \"exceptionClass\": \"\", \"trace\": \"\"}}, \"*\")"
      ],
      "text/plain": [
       "<IPython.core.display.Javascript object>"
      ]
     },
     "metadata": {},
     "output_type": "display_data"
    },
    {
     "data": {
      "text/markdown": [
       "<span style=\"color:#33cc33\">Correct</span>"
      ],
      "text/plain": [
       "Correct"
      ]
     },
     "metadata": {},
     "output_type": "display_data"
    }
   ],
   "source": [
    "# Fill in argument to make optimal size and uncomment\n",
    "final_model = DecisionTreeRegressor(max_leaf_nodes = best_tree_size, random_state = 1)\n",
    "\n",
    "# fit the final model and uncomment the next two lines\n",
    "final_model.fit(X, y)\n",
    "\n",
    "# Check your answer\n",
    "step_2.check()"
   ]
  },
  {
   "cell_type": "code",
   "execution_count": 6,
   "id": "f505c930",
   "metadata": {
    "execution": {
     "iopub.execute_input": "2022-12-07T02:02:16.732653Z",
     "iopub.status.busy": "2022-12-07T02:02:16.731748Z",
     "iopub.status.idle": "2022-12-07T02:02:16.736513Z",
     "shell.execute_reply": "2022-12-07T02:02:16.735578Z"
    },
    "papermill": {
     "duration": 0.012156,
     "end_time": "2022-12-07T02:02:16.738757",
     "exception": false,
     "start_time": "2022-12-07T02:02:16.726601",
     "status": "completed"
    },
    "tags": []
   },
   "outputs": [],
   "source": [
    "# step_2.hint()\n",
    "# step_2.solution()"
   ]
  },
  {
   "cell_type": "markdown",
   "id": "c051a420",
   "metadata": {
    "papermill": {
     "duration": 0.003641,
     "end_time": "2022-12-07T02:02:16.746591",
     "exception": false,
     "start_time": "2022-12-07T02:02:16.742950",
     "status": "completed"
    },
    "tags": []
   },
   "source": [
    "You've tuned this model and improved your results. But we are still using Decision Tree models, which are not very sophisticated by modern machine learning standards. In the next step you will learn to use Random Forests to improve your models even more.\n",
    "\n",
    "# Keep Going\n",
    "\n",
    "You are ready for **[Random Forests](https://www.kaggle.com/dansbecker/random-forests).**\n"
   ]
  },
  {
   "cell_type": "markdown",
   "id": "38bb4bb7",
   "metadata": {
    "papermill": {
     "duration": 0.003561,
     "end_time": "2022-12-07T02:02:16.753964",
     "exception": false,
     "start_time": "2022-12-07T02:02:16.750403",
     "status": "completed"
    },
    "tags": []
   },
   "source": [
    "---\n",
    "\n",
    "\n",
    "\n",
    "\n",
    "*Have questions or comments? Visit the [course discussion forum](https://www.kaggle.com/learn/intro-to-machine-learning/discussion) to chat with other learners.*"
   ]
  }
 ],
 "metadata": {
  "kernelspec": {
   "display_name": "Python 3",
   "language": "python",
   "name": "python3"
  },
  "language_info": {
   "codemirror_mode": {
    "name": "ipython",
    "version": 3
   },
   "file_extension": ".py",
   "mimetype": "text/x-python",
   "name": "python",
   "nbconvert_exporter": "python",
   "pygments_lexer": "ipython3",
   "version": "3.7.12"
  },
  "papermill": {
   "default_parameters": {},
   "duration": 11.233268,
   "end_time": "2022-12-07T02:02:17.584153",
   "environment_variables": {},
   "exception": null,
   "input_path": "__notebook__.ipynb",
   "output_path": "__notebook__.ipynb",
   "parameters": {},
   "start_time": "2022-12-07T02:02:06.350885",
   "version": "2.3.4"
  }
 },
 "nbformat": 4,
 "nbformat_minor": 5
}
