{
 "cells": [
  {
   "cell_type": "markdown",
   "id": "1e8aa9a1",
   "metadata": {
    "papermill": {
     "duration": 0.007111,
     "end_time": "2023-02-28T04:13:13.691079",
     "exception": false,
     "start_time": "2023-02-28T04:13:13.683968",
     "status": "completed"
    },
    "tags": []
   },
   "source": [
    "**This notebook is an exercise in the [Intro to Game AI and Reinforcement Learning](https://www.kaggle.com/learn/intro-to-game-ai-and-reinforcement-learning) course.  You can reference the tutorial at [this link](https://www.kaggle.com/alexisbcook/n-step-lookahead).**\n",
    "\n",
    "---\n"
   ]
  },
  {
   "cell_type": "markdown",
   "id": "40f0321e",
   "metadata": {
    "papermill": {
     "duration": 0.00444,
     "end_time": "2023-02-28T04:13:13.700333",
     "exception": false,
     "start_time": "2023-02-28T04:13:13.695893",
     "status": "completed"
    },
    "tags": []
   },
   "source": [
    "# Introduction\n",
    "\n",
    "In the tutorial, you learned how to build a reasonably intelligent agent with the minimax algorithm.  In this exercise, you will check your understanding and submit your own agent to the competition."
   ]
  },
  {
   "cell_type": "code",
   "execution_count": 1,
   "id": "d5742448",
   "metadata": {
    "execution": {
     "iopub.execute_input": "2023-02-28T04:13:13.711434Z",
     "iopub.status.busy": "2023-02-28T04:13:13.710972Z",
     "iopub.status.idle": "2023-02-28T04:13:13.750022Z",
     "shell.execute_reply": "2023-02-28T04:13:13.748768Z"
    },
    "papermill": {
     "duration": 0.047683,
     "end_time": "2023-02-28T04:13:13.752633",
     "exception": false,
     "start_time": "2023-02-28T04:13:13.704950",
     "status": "completed"
    },
    "tags": []
   },
   "outputs": [],
   "source": [
    "from learntools.core import binder\n",
    "binder.bind(globals())\n",
    "from learntools.game_ai.ex3 import *"
   ]
  },
  {
   "cell_type": "markdown",
   "id": "c1e1570e",
   "metadata": {
    "papermill": {
     "duration": 0.004442,
     "end_time": "2023-02-28T04:13:13.762036",
     "exception": false,
     "start_time": "2023-02-28T04:13:13.757594",
     "status": "completed"
    },
    "tags": []
   },
   "source": [
    "### 1) A closer look\n",
    "\n",
    "The heuristic from the tutorial looks at all groups of four adjacent grid locations on the same row, column, or diagonal and assigns points for each occurrence of the following patterns:\n",
    "\n",
    "<center>\n",
    "<img src=\"https://i.imgur.com/3NvBEGL.png\" width=70%><br/>\n",
    "</center>\n",
    "\n",
    "Is it really necessary to use so many numbers to define the heuristic?  Consider simplifying it, as in the image below.\n",
    "\n",
    "<center>\n",
    "<img src=\"https://i.imgur.com/grViegG.png\" width=70%><br/>\n",
    "</center>\n",
    "\n",
    "How would each heuristic score the potential moves in the example below (where, in this case, the agent looks only one step ahead)?  Which heuristic would lead to the agent selecting the better move?\n",
    "\n",
    "<center>\n",
    "<img src=\"https://i.imgur.com/LWPLy7N.png\" width=100%><br/>\n",
    "</center>"
   ]
  },
  {
   "cell_type": "code",
   "execution_count": 2,
   "id": "ee6d8415",
   "metadata": {
    "execution": {
     "iopub.execute_input": "2023-02-28T04:13:13.773155Z",
     "iopub.status.busy": "2023-02-28T04:13:13.772531Z",
     "iopub.status.idle": "2023-02-28T04:13:13.775880Z",
     "shell.execute_reply": "2023-02-28T04:13:13.775280Z"
    },
    "papermill": {
     "duration": 0.011427,
     "end_time": "2023-02-28T04:13:13.778124",
     "exception": false,
     "start_time": "2023-02-28T04:13:13.766697",
     "status": "completed"
    },
    "tags": []
   },
   "outputs": [],
   "source": [
    "#q_1.hint()"
   ]
  },
  {
   "cell_type": "code",
   "execution_count": 3,
   "id": "2e391b18",
   "metadata": {
    "execution": {
     "iopub.execute_input": "2023-02-28T04:13:13.789257Z",
     "iopub.status.busy": "2023-02-28T04:13:13.788745Z",
     "iopub.status.idle": "2023-02-28T04:13:13.795447Z",
     "shell.execute_reply": "2023-02-28T04:13:13.794802Z"
    },
    "papermill": {
     "duration": 0.014602,
     "end_time": "2023-02-28T04:13:13.797651",
     "exception": false,
     "start_time": "2023-02-28T04:13:13.783049",
     "status": "completed"
    },
    "tags": []
   },
   "outputs": [
    {
     "data": {
      "application/javascript": [
       "parent.postMessage({\"jupyterEvent\": \"custom.exercise_interaction\", \"data\": {\"interactionType\": 3, \"questionType\": 4, \"questionId\": \"1_WorseHeuristic\", \"learnToolsVersion\": \"0.3.4\", \"valueTowardsCompletion\": 0.0, \"failureMessage\": \"\", \"exceptionClass\": \"\", \"trace\": \"\", \"outcomeType\": 4}}, \"*\")"
      ],
      "text/plain": [
       "<IPython.core.display.Javascript object>"
      ]
     },
     "metadata": {},
     "output_type": "display_data"
    },
    {
     "data": {
      "text/markdown": [
       "<span style=\"color:#33cc99\">Solution:</span> The first heuristic is guaranteed to select column 2 to block the opponent from winning.  The second heuristic selects either column 2 or column 3 (where it selects each with 50% probability). Thus, for this game board, the first heuristic is better. In general, we can expect that the first heuristic is a better heuristic, since we cannot trust the second heuristic to block the opponent from winning."
      ],
      "text/plain": [
       "Solution: The first heuristic is guaranteed to select column 2 to block the opponent from winning.  The second heuristic selects either column 2 or column 3 (where it selects each with 50% probability). Thus, for this game board, the first heuristic is better. In general, we can expect that the first heuristic is a better heuristic, since we cannot trust the second heuristic to block the opponent from winning."
      ]
     },
     "metadata": {},
     "output_type": "display_data"
    }
   ],
   "source": [
    "# Check your answer (Run this code cell to receive credit!)\n",
    "q_1.solution()"
   ]
  },
  {
   "cell_type": "markdown",
   "id": "be13fe1b",
   "metadata": {
    "papermill": {
     "duration": 0.004635,
     "end_time": "2023-02-28T04:13:13.807344",
     "exception": false,
     "start_time": "2023-02-28T04:13:13.802709",
     "status": "completed"
    },
    "tags": []
   },
   "source": [
    "### 2) Count the leaves\n",
    "\n",
    "In the tutorial, we worked with a small game tree.\n",
    "\n",
    "<center>\n",
    "<img src=\"https://i.imgur.com/BrRe7Bu.png\" width=90%><br/>\n",
    "</center>\n",
    "\n",
    "The game tree above has 8 leaf nodes that appear at the bottom of the tree.  By definition, \"leaf nodes\" in a game tree are nodes that don't have nodes below them.\n",
    "\n",
    "In the ConnectX competition, the game trees will be much larger!  \n",
    "\n",
    "To see this, consider a minimax agent that is trying to plan its first move, where all columns in the game board are  empty.  Say the agent builds a game tree of depth 3.  How many leaf nodes are in the game tree?  \n",
    "\n",
    "Use your answer to fill in the blank below."
   ]
  },
  {
   "cell_type": "code",
   "execution_count": 4,
   "id": "8bac4707",
   "metadata": {
    "execution": {
     "iopub.execute_input": "2023-02-28T04:13:13.818734Z",
     "iopub.status.busy": "2023-02-28T04:13:13.818390Z",
     "iopub.status.idle": "2023-02-28T04:13:13.825751Z",
     "shell.execute_reply": "2023-02-28T04:13:13.825021Z"
    },
    "papermill": {
     "duration": 0.015954,
     "end_time": "2023-02-28T04:13:13.828211",
     "exception": false,
     "start_time": "2023-02-28T04:13:13.812257",
     "status": "completed"
    },
    "tags": []
   },
   "outputs": [
    {
     "data": {
      "application/javascript": [
       "parent.postMessage({\"jupyterEvent\": \"custom.exercise_interaction\", \"data\": {\"outcomeType\": 1, \"valueTowardsCompletion\": 0.2, \"interactionType\": 1, \"questionType\": 1, \"questionId\": \"2_NumLeaves\", \"learnToolsVersion\": \"0.3.4\", \"failureMessage\": \"\", \"exceptionClass\": \"\", \"trace\": \"\"}}, \"*\")"
      ],
      "text/plain": [
       "<IPython.core.display.Javascript object>"
      ]
     },
     "metadata": {},
     "output_type": "display_data"
    },
    {
     "data": {
      "text/markdown": [
       "<span style=\"color:#33cc33\">Correct</span>"
      ],
      "text/plain": [
       "Correct"
      ]
     },
     "metadata": {},
     "output_type": "display_data"
    }
   ],
   "source": [
    "# Fill in the blank\n",
    "num_leaves = 7 ** 3\n",
    "\n",
    "# Check your answer\n",
    "q_2.check()"
   ]
  },
  {
   "cell_type": "code",
   "execution_count": 5,
   "id": "94146914",
   "metadata": {
    "execution": {
     "iopub.execute_input": "2023-02-28T04:13:13.840891Z",
     "iopub.status.busy": "2023-02-28T04:13:13.840344Z",
     "iopub.status.idle": "2023-02-28T04:13:13.843548Z",
     "shell.execute_reply": "2023-02-28T04:13:13.842899Z"
    },
    "papermill": {
     "duration": 0.011545,
     "end_time": "2023-02-28T04:13:13.845194",
     "exception": false,
     "start_time": "2023-02-28T04:13:13.833649",
     "status": "completed"
    },
    "tags": []
   },
   "outputs": [],
   "source": [
    "# Lines below will give you a hint or solution code\n",
    "#q_2.hint()\n",
    "#q_2.solution()"
   ]
  },
  {
   "cell_type": "markdown",
   "id": "84f28860",
   "metadata": {
    "papermill": {
     "duration": 0.004766,
     "end_time": "2023-02-28T04:13:13.855080",
     "exception": false,
     "start_time": "2023-02-28T04:13:13.850314",
     "status": "completed"
    },
    "tags": []
   },
   "source": [
    "### 3) Which move will the agent select?\n",
    "\n",
    "In this question, you'll check your understanding of the minimax algorithm.  Remember that with this algorithm, \n",
    "> The agent chooses moves to get a score that is as high as possible, and it assumes the opponent will counteract this by choosing moves to force the score to be as low as possible.\n",
    "\n",
    "Consider the toy example below of a game tree that the agent will use to select its next move.  \n",
    "<center>\n",
    "<img src=\"https://i.imgur.com/QlfWGM9.png\" width=80%><br/>\n",
    "</center>\n",
    "\n",
    "Which move will the agent select?  Use your answer to set the value of the `selected_move` variable below.  Your answer should be one of `1`, `2`, or `3`."
   ]
  },
  {
   "cell_type": "code",
   "execution_count": 6,
   "id": "f3734236",
   "metadata": {
    "execution": {
     "iopub.execute_input": "2023-02-28T04:13:13.866961Z",
     "iopub.status.busy": "2023-02-28T04:13:13.866483Z",
     "iopub.status.idle": "2023-02-28T04:13:13.872298Z",
     "shell.execute_reply": "2023-02-28T04:13:13.871679Z"
    },
    "papermill": {
     "duration": 0.013749,
     "end_time": "2023-02-28T04:13:13.873934",
     "exception": false,
     "start_time": "2023-02-28T04:13:13.860185",
     "status": "completed"
    },
    "tags": []
   },
   "outputs": [
    {
     "data": {
      "application/javascript": [
       "parent.postMessage({\"jupyterEvent\": \"custom.exercise_interaction\", \"data\": {\"outcomeType\": 1, \"valueTowardsCompletion\": 0.2, \"interactionType\": 1, \"questionType\": 2, \"questionId\": \"3_WhichMove\", \"learnToolsVersion\": \"0.3.4\", \"failureMessage\": \"\", \"exceptionClass\": \"\", \"trace\": \"\"}}, \"*\")"
      ],
      "text/plain": [
       "<IPython.core.display.Javascript object>"
      ]
     },
     "metadata": {},
     "output_type": "display_data"
    },
    {
     "data": {
      "text/markdown": [
       "<span style=\"color:#33cc33\">Correct</span>"
      ],
      "text/plain": [
       "Correct"
      ]
     },
     "metadata": {},
     "output_type": "display_data"
    }
   ],
   "source": [
    "# Fill in the blank\n",
    "selected_move = 3\n",
    "\n",
    "# Check your answer\n",
    "q_3.check()"
   ]
  },
  {
   "cell_type": "code",
   "execution_count": 7,
   "id": "eeedfd46",
   "metadata": {
    "execution": {
     "iopub.execute_input": "2023-02-28T04:13:13.886095Z",
     "iopub.status.busy": "2023-02-28T04:13:13.885617Z",
     "iopub.status.idle": "2023-02-28T04:13:13.889120Z",
     "shell.execute_reply": "2023-02-28T04:13:13.888279Z"
    },
    "papermill": {
     "duration": 0.011823,
     "end_time": "2023-02-28T04:13:13.891014",
     "exception": false,
     "start_time": "2023-02-28T04:13:13.879191",
     "status": "completed"
    },
    "tags": []
   },
   "outputs": [],
   "source": [
    "# Lines below will give you a hint or solution code\n",
    "#q_3.hint()\n",
    "#q_3.solution()"
   ]
  },
  {
   "cell_type": "markdown",
   "id": "d03abb01",
   "metadata": {
    "papermill": {
     "duration": 0.004893,
     "end_time": "2023-02-28T04:13:13.901809",
     "exception": false,
     "start_time": "2023-02-28T04:13:13.896916",
     "status": "completed"
    },
    "tags": []
   },
   "source": [
    "### 4) Examine the assumptions\n",
    "\n",
    "The minimax agent assumes that its opponent plays optimally (with respect to the heuristic, and using a game tree of limited depth).  But this is almost never the case, in practice: it's far more likely for the agent to encounter a suboptimal (that is: worse than optimal) opponent.  \n",
    "\n",
    "Say the minimax agent encounters a suboptimal opponent. Should we expect the minimax agent to still play the game well, despite the contradiction with its assumptions?  If so, why?"
   ]
  },
  {
   "cell_type": "code",
   "execution_count": 8,
   "id": "f5a366de",
   "metadata": {
    "execution": {
     "iopub.execute_input": "2023-02-28T04:13:13.913397Z",
     "iopub.status.busy": "2023-02-28T04:13:13.913089Z",
     "iopub.status.idle": "2023-02-28T04:13:13.916934Z",
     "shell.execute_reply": "2023-02-28T04:13:13.915976Z"
    },
    "papermill": {
     "duration": 0.011655,
     "end_time": "2023-02-28T04:13:13.918518",
     "exception": false,
     "start_time": "2023-02-28T04:13:13.906863",
     "status": "completed"
    },
    "tags": []
   },
   "outputs": [],
   "source": [
    "#q_4.hint()"
   ]
  },
  {
   "cell_type": "code",
   "execution_count": 9,
   "id": "9265f6a8",
   "metadata": {
    "execution": {
     "iopub.execute_input": "2023-02-28T04:13:13.931372Z",
     "iopub.status.busy": "2023-02-28T04:13:13.930514Z",
     "iopub.status.idle": "2023-02-28T04:13:13.939449Z",
     "shell.execute_reply": "2023-02-28T04:13:13.938382Z"
    },
    "papermill": {
     "duration": 0.018178,
     "end_time": "2023-02-28T04:13:13.941772",
     "exception": false,
     "start_time": "2023-02-28T04:13:13.923594",
     "status": "completed"
    },
    "tags": []
   },
   "outputs": [
    {
     "data": {
      "application/javascript": [
       "parent.postMessage({\"jupyterEvent\": \"custom.exercise_interaction\", \"data\": {\"interactionType\": 3, \"questionType\": 4, \"questionId\": \"4_Assumptions\", \"learnToolsVersion\": \"0.3.4\", \"valueTowardsCompletion\": 0.0, \"failureMessage\": \"\", \"exceptionClass\": \"\", \"trace\": \"\", \"outcomeType\": 4}}, \"*\")"
      ],
      "text/plain": [
       "<IPython.core.display.Javascript object>"
      ]
     },
     "metadata": {},
     "output_type": "display_data"
    },
    {
     "data": {
      "text/markdown": [
       "<span style=\"color:#33cc99\">Solution:</span> We can still expect the minimax agent to perform well. On a high level, assuming an optimal opponent simply overestimates the opponent, but does not break the algorithm.  The effect of overestimating the opponent is merely that the minimax agent will take longer to win, than if it had a more accurate understanding of its opponent.  For instance, the minimax agent is highly unlikely to select the same column three times in its first three moves (since it assumes an optimal opponent that will certainly block the winning play in the next move), but this is not a bad initial strategy for playing against an agent that selects columns completely at random."
      ],
      "text/plain": [
       "Solution: We can still expect the minimax agent to perform well. On a high level, assuming an optimal opponent simply overestimates the opponent, but does not break the algorithm.  The effect of overestimating the opponent is merely that the minimax agent will take longer to win, than if it had a more accurate understanding of its opponent.  For instance, the minimax agent is highly unlikely to select the same column three times in its first three moves (since it assumes an optimal opponent that will certainly block the winning play in the next move), but this is not a bad initial strategy for playing against an agent that selects columns completely at random."
      ]
     },
     "metadata": {},
     "output_type": "display_data"
    }
   ],
   "source": [
    "# Check your answer (Run this code cell to receive credit!)\n",
    "q_4.solution()"
   ]
  },
  {
   "cell_type": "markdown",
   "id": "75b0cc52",
   "metadata": {
    "papermill": {
     "duration": 0.005097,
     "end_time": "2023-02-28T04:13:13.952264",
     "exception": false,
     "start_time": "2023-02-28T04:13:13.947167",
     "status": "completed"
    },
    "tags": []
   },
   "source": [
    "### 5) Submit to the competition\n",
    "\n",
    "Now, it's time to submit an agent to the competition!  Use the next code cell to define an agent.  (You can see an example of how to write a valid agent in **[this notebook](https://www.kaggle.com/alexisbcook/create-a-connectx-agent)**.)\n",
    "\n",
    "If you decide to use the minimax code from the tutorial, you might like to add [**alpha-beta pruning**](https://en.wikipedia.org/wiki/Alpha%E2%80%93beta_pruning) to decrease the computation time (i.e., get the minimax algorithm to run much faster!).  In this case, \"alpha\" and \"beta\" to refer to two values that are maintained while the algorithm is running, that help to identify early stopping conditions.  \n",
    "\n",
    "Without alpha-beta pruning, minimax evaluates each leaf node.  With alpha-beta pruning, minimax only evaluates nodes that could provide information that affects the agent's choice of action.  Put another way, it identifies nodes that could not possibly affect the final result and avoids evaluating them."
   ]
  },
  {
   "cell_type": "code",
   "execution_count": 10,
   "id": "5b4ef3f6",
   "metadata": {
    "execution": {
     "iopub.execute_input": "2023-02-28T04:13:13.964861Z",
     "iopub.status.busy": "2023-02-28T04:13:13.963985Z",
     "iopub.status.idle": "2023-02-28T04:13:13.994108Z",
     "shell.execute_reply": "2023-02-28T04:13:13.992846Z"
    },
    "papermill": {
     "duration": 0.038496,
     "end_time": "2023-02-28T04:13:13.996036",
     "exception": false,
     "start_time": "2023-02-28T04:13:13.957540",
     "status": "completed"
    },
    "tags": []
   },
   "outputs": [],
   "source": [
    "def my_agent(obs, config):\n",
    "    # Your code here: Amend the agent!\n",
    "    import random\n",
    "    import numpy as np\n",
    "    \n",
    "    N_STEPS = 2\n",
    "    \n",
    "    A = 1000000\n",
    "    B = 100\n",
    "    C = 1\n",
    "    D = -10\n",
    "    E = -1000\n",
    "    \n",
    "    # Gets board at next step if agent drops piece in selected column\n",
    "    def drop_piece(grid, col, mark, config):\n",
    "        next_grid = grid.copy()\n",
    "        for row in range(config.rows-1, -1, -1):\n",
    "            if next_grid[row][col] == 0:\n",
    "                break\n",
    "        next_grid[row][col] = mark\n",
    "        return next_grid\n",
    "    \n",
    "    # Helper function for get_heuristic: checks if window satisfies heuristic conditions\n",
    "    def check_window(window, num_discs, piece, config):\n",
    "        return (window.count(piece) == num_discs and window.count(0) == config.inarow-num_discs)\n",
    "    \n",
    "    # Helper function for get_heuristic: counts number of windows satisfying specified heuristic conditions\n",
    "    def count_windows(grid, num_discs, piece, config):\n",
    "        num_windows = 0\n",
    "        # horizontal\n",
    "        for row in range(config.rows):\n",
    "            for col in range(config.columns-(config.inarow-1)):\n",
    "                window = list(grid[row, col:col+config.inarow])\n",
    "                if check_window(window, num_discs, piece, config):\n",
    "                    num_windows += 1\n",
    "        # vertical\n",
    "        for row in range(config.rows-(config.inarow-1)):\n",
    "            for col in range(config.columns):\n",
    "                window = list(grid[row:row+config.inarow, col])\n",
    "                if check_window(window, num_discs, piece, config):\n",
    "                    num_windows += 1\n",
    "        # positive diagonal\n",
    "        for row in range(config.rows-(config.inarow-1)):\n",
    "            for col in range(config.columns-(config.inarow-1)):\n",
    "                window = list(grid[range(row, row+config.inarow), range(col, col+config.inarow)])\n",
    "                if check_window(window, num_discs, piece, config):\n",
    "                    num_windows += 1\n",
    "        # negative diagonal\n",
    "        for row in range(config.inarow-1, config.rows):\n",
    "            for col in range(config.columns-(config.inarow-1)):\n",
    "                window = list(grid[range(row, row-config.inarow, -1), range(col, col+config.inarow)])\n",
    "                if check_window(window, num_discs, piece, config):\n",
    "                    num_windows += 1\n",
    "        return num_windows\n",
    "    \n",
    "    # Helper function for minimax: calculates value of heuristic for grid\n",
    "    def get_heuristic(grid, mark, config):\n",
    "        num_twos = count_windows(grid, 2, mark, config)\n",
    "        num_threes = count_windows(grid, 3, mark, config)\n",
    "        num_fours = count_windows(grid, 4, mark, config)\n",
    "        num_twos_opp = count_windows(grid, 2, mark%2+1, config)\n",
    "        num_threes_opp = count_windows(grid, 3, mark%2+1, config)\n",
    "        score = A*num_fours + B*num_threes + C*num_twos + D*num_twos_opp + E*num_threes_opp\n",
    "        return score\n",
    "    \n",
    "    # Helper function for minimax: checks if agent or opponent has four in a row in the window\n",
    "    def is_terminal_window(window, config):\n",
    "        return window.count(1) == config.inarow or window.count(2) == config.inarow\n",
    "    \n",
    "    # Helper function for minimax: checks if game has ended\n",
    "    def is_terminal_node(grid, config):\n",
    "        # Check for draw \n",
    "        if list(grid[0, :]).count(0) == 0:\n",
    "            return True\n",
    "        # Check for win: horizontal, vertical, or diagonal\n",
    "        # horizontal \n",
    "        for row in range(config.rows):\n",
    "            for col in range(config.columns-(config.inarow-1)):\n",
    "                window = list(grid[row, col:col+config.inarow])\n",
    "                if is_terminal_window(window, config):\n",
    "                    return True\n",
    "        # vertical\n",
    "        for row in range(config.rows-(config.inarow-1)):\n",
    "            for col in range(config.columns):\n",
    "                window = list(grid[row:row+config.inarow, col])\n",
    "                if is_terminal_window(window, config):\n",
    "                    return True\n",
    "        # positive diagonal\n",
    "        for row in range(config.rows-(config.inarow-1)):\n",
    "            for col in range(config.columns-(config.inarow-1)):\n",
    "                window = list(grid[range(row, row+config.inarow), range(col, col+config.inarow)])\n",
    "                if is_terminal_window(window, config):\n",
    "                    return True\n",
    "        # negative diagonal\n",
    "        for row in range(config.inarow-1, config.rows):\n",
    "            for col in range(config.columns-(config.inarow-1)):\n",
    "                window = list(grid[range(row, row-config.inarow, -1), range(col, col+config.inarow)])\n",
    "                if is_terminal_window(window, config):\n",
    "                    return True\n",
    "        return False\n",
    "    \n",
    "    # Uses minimax to calculate value of dropping piece in selected column\n",
    "    def score_move(grid, col, mark, config, nsteps):\n",
    "        next_grid = drop_piece(grid, col, mark, config)\n",
    "        score = fail_hard_alphabeta(next_grid, nsteps-1, -np.Inf, np.Inf, False, mark, config)\n",
    "        return score\n",
    "        \n",
    "    def fail_hard_alphabeta(node, depth, alpha, beta, maximizingPlayer, mark, config):\n",
    "        is_terminal = is_terminal_node(node, config)\n",
    "        valid_moves = [c for c in range(config.columns) if node[0][c] == 0]\n",
    "        if depth == 0 or is_terminal:\n",
    "            return get_heuristic(node, mark, config)\n",
    "        if maximizingPlayer:\n",
    "            value = -np.Inf\n",
    "            for col in valid_moves:\n",
    "                child = drop_piece(node, col, mark, config)\n",
    "                value = max(value, fail_hard_alphabeta(child, depth-1, alpha, beta, False, mark, config))\n",
    "                if value > beta:\n",
    "                    break\n",
    "                alpha = max(alpha, value)\n",
    "            return value\n",
    "        else:\n",
    "            value = np.Inf\n",
    "            for col in valid_moves:\n",
    "                child = drop_piece(node, col, mark%2+1, config)\n",
    "                value = min(value, fail_hard_alphabeta(child, depth-1, alpha, beta, True, mark, config))\n",
    "                if value < alpha:\n",
    "                    break\n",
    "                beta = min(beta, value)\n",
    "            return value\n",
    "    \n",
    "    valid_moves = [col for col in range(config.columns) if obs.board[col] == 0]\n",
    "    grid = np.asarray(obs.board).reshape(config.rows, config.columns)\n",
    "    scores = dict(zip(valid_moves, [score_move(grid, col, obs.mark, config, N_STEPS) for col in valid_moves]))\n",
    "    max_cols = [key for key in scores.keys() if scores[key] == max(scores.values())]\n",
    "    return random.choice(max_cols)"
   ]
  },
  {
   "cell_type": "code",
   "execution_count": 11,
   "id": "8604c7e6",
   "metadata": {
    "execution": {
     "iopub.execute_input": "2023-02-28T04:13:14.009504Z",
     "iopub.status.busy": "2023-02-28T04:13:14.008582Z",
     "iopub.status.idle": "2023-02-28T04:13:14.015219Z",
     "shell.execute_reply": "2023-02-28T04:13:14.014603Z"
    },
    "papermill": {
     "duration": 0.015016,
     "end_time": "2023-02-28T04:13:14.016864",
     "exception": false,
     "start_time": "2023-02-28T04:13:14.001848",
     "status": "completed"
    },
    "tags": []
   },
   "outputs": [
    {
     "data": {
      "application/javascript": [
       "parent.postMessage({\"jupyterEvent\": \"custom.exercise_interaction\", \"data\": {\"outcomeType\": 1, \"valueTowardsCompletion\": 0.2, \"interactionType\": 1, \"questionType\": 2, \"questionId\": \"5_JustSubmitEx3\", \"learnToolsVersion\": \"0.3.4\", \"failureMessage\": \"\", \"exceptionClass\": \"\", \"trace\": \"\"}}, \"*\")"
      ],
      "text/plain": [
       "<IPython.core.display.Javascript object>"
      ]
     },
     "metadata": {},
     "output_type": "display_data"
    },
    {
     "data": {
      "text/markdown": [
       "<span style=\"color:#33cc33\">Thank you for creating an agent!</span>"
      ],
      "text/plain": [
       "Thank you for creating an agent!"
      ]
     },
     "metadata": {},
     "output_type": "display_data"
    }
   ],
   "source": [
    "# Run this code cell to get credit for creating an agent\n",
    "q_5.check()"
   ]
  },
  {
   "cell_type": "code",
   "execution_count": 12,
   "id": "4df14a7d",
   "metadata": {
    "execution": {
     "iopub.execute_input": "2023-02-28T04:13:14.030005Z",
     "iopub.status.busy": "2023-02-28T04:13:14.029485Z",
     "iopub.status.idle": "2023-02-28T04:13:14.127165Z",
     "shell.execute_reply": "2023-02-28T04:13:14.126016Z"
    },
    "papermill": {
     "duration": 0.107087,
     "end_time": "2023-02-28T04:13:14.129857",
     "exception": false,
     "start_time": "2023-02-28T04:13:14.022770",
     "status": "completed"
    },
    "tags": []
   },
   "outputs": [
    {
     "name": "stdout",
     "output_type": "stream",
     "text": [
      "Loading environment lux_ai_s2 failed: No module named 'vec_noise'\n"
     ]
    },
    {
     "data": {
      "text/plain": [
       "'\\nprint(\\'FAIL_SOFT VS RANDOM\\')\\nget_win_percentages(agent1=my_agent_fail_soft, agent2=\"random\") \\n'"
      ]
     },
     "execution_count": 12,
     "metadata": {},
     "output_type": "execute_result"
    }
   ],
   "source": [
    "from kaggle_environments import evaluate, make\n",
    "import numpy as np\n",
    "import time\n",
    "\n",
    "'''\n",
    "env = make(\"connectx\", debug=True)\n",
    "env.run([my_agent, \"random\"])\n",
    "env.render(mode=\"ipython\")\n",
    "'''\n",
    "def get_win_percentages(agent1, agent2, n_rounds=30):\n",
    "    # Use default Connect Four setup\n",
    "    config = {'rows': 6, 'columns': 7, 'inarow': 4}\n",
    "    start = time.time()\n",
    "    # Agent 1 goes first (roughly) half the time          \n",
    "    outcomes = evaluate(\"connectx\", [agent1, agent2], config, [], n_rounds//2)\n",
    "    # Agent 2 goes first (roughly) half the time      \n",
    "    outcomes += [[b,a] for [a,b] in evaluate(\"connectx\", [agent2, agent1], config, [], n_rounds-n_rounds//2)]\n",
    "    end = time.time()\n",
    "    avg_time = (end - start) / n_rounds\n",
    "    print(\"Avg game runtime = \", avg_time)\n",
    "    print(\"Agent 1 Win Percentage:\", np.round(outcomes.count([1,-1])/len(outcomes), 2))\n",
    "    print(\"Agent 2 Win Percentage:\", np.round(outcomes.count([-1,1])/len(outcomes), 2))\n",
    "    print(\"Number of Invalid Plays by Agent 1:\", outcomes.count([None, 0]))\n",
    "    print(\"Number of Invalid Plays by Agent 2:\", outcomes.count([0, None]))\n",
    "    \n",
    "'''\n",
    "print('FAIL_SOFT VS RANDOM')\n",
    "get_win_percentages(agent1=my_agent_fail_soft, agent2=\"random\") \n",
    "'''"
   ]
  },
  {
   "cell_type": "code",
   "execution_count": 13,
   "id": "16fb975d",
   "metadata": {
    "execution": {
     "iopub.execute_input": "2023-02-28T04:13:14.143622Z",
     "iopub.status.busy": "2023-02-28T04:13:14.143280Z",
     "iopub.status.idle": "2023-02-28T04:13:14.159582Z",
     "shell.execute_reply": "2023-02-28T04:13:14.158043Z"
    },
    "papermill": {
     "duration": 0.026001,
     "end_time": "2023-02-28T04:13:14.162170",
     "exception": false,
     "start_time": "2023-02-28T04:13:14.136169",
     "status": "completed"
    },
    "tags": []
   },
   "outputs": [
    {
     "name": "stdout",
     "output_type": "stream",
     "text": [
      "<function my_agent at 0x7f773bae7b90> written to submission.py\n"
     ]
    }
   ],
   "source": [
    "import inspect\n",
    "import os\n",
    "\n",
    "def write_agent_to_file(function, file):\n",
    "    with open(file, \"a\" if os.path.exists(file) else \"w\") as f:\n",
    "        f.write(inspect.getsource(function))\n",
    "        print(function, \"written to\", file)\n",
    "\n",
    "write_agent_to_file(my_agent, \"submission.py\")"
   ]
  },
  {
   "cell_type": "markdown",
   "id": "5d7b157e",
   "metadata": {
    "papermill": {
     "duration": 0.005738,
     "end_time": "2023-02-28T04:13:14.174287",
     "exception": false,
     "start_time": "2023-02-28T04:13:14.168549",
     "status": "completed"
    },
    "tags": []
   },
   "source": [
    "Then, follow these steps to submit your agent to the competition:\n",
    "1. Begin by clicking on the **Save Version** button in the top right corner of the window.  This will generate a pop-up window.  \n",
    "2. Ensure that the **Save and Run All** option is selected, and then click on the **Save** button.\n",
    "3. This generates a window in the bottom left corner of the notebook.  After it has finished running, click on the number to the right of the **Save Version** button.  This pulls up a list of versions on the right of the screen.  Click on the ellipsis **(...)** to the right of the most recent version, and select **Open in Viewer**.  This brings you into view mode of the same page. You will need to scroll down to get back to these instructions.\n",
    "4. Click on the **Output** tab on the right of the screen.  Then, click on the file you would like to submit, and click on the **Submit** button to submit your results to the leaderboard.\n",
    "\n",
    "You have now successfully submitted to the competition!\n",
    "\n",
    "If you want to keep working to improve your performance, select the **Edit** button in the top right of the screen. Then you can change your code and repeat the process. There's a lot of room to improve, and you will climb up the leaderboard as you work.\n",
    "\n",
    "\n",
    "Go to **\"My Submissions\"** to view your score and episodes being played.\n",
    "\n",
    "# Keep going\n",
    "\n",
    "Move on to learn how to **[use deep reinforcement learning](https://www.kaggle.com/alexisbcook/deep-reinforcement-learning)** to develop an agent without a heuristic!"
   ]
  },
  {
   "cell_type": "markdown",
   "id": "6d12d2b6",
   "metadata": {
    "papermill": {
     "duration": 0.005701,
     "end_time": "2023-02-28T04:13:14.186006",
     "exception": false,
     "start_time": "2023-02-28T04:13:14.180305",
     "status": "completed"
    },
    "tags": []
   },
   "source": [
    "---\n",
    "\n",
    "\n",
    "\n",
    "\n",
    "*Have questions or comments? Visit the [course discussion forum](https://www.kaggle.com/learn/intro-to-game-ai-and-reinforcement-learning/discussion) to chat with other learners.*"
   ]
  }
 ],
 "metadata": {
  "kernelspec": {
   "display_name": "Python 3",
   "language": "python",
   "name": "python3"
  },
  "language_info": {
   "codemirror_mode": {
    "name": "ipython",
    "version": 3
   },
   "file_extension": ".py",
   "mimetype": "text/x-python",
   "name": "python",
   "nbconvert_exporter": "python",
   "pygments_lexer": "ipython3",
   "version": "3.7.12"
  },
  "papermill": {
   "default_parameters": {},
   "duration": 9.638188,
   "end_time": "2023-02-28T04:13:14.811781",
   "environment_variables": {},
   "exception": null,
   "input_path": "__notebook__.ipynb",
   "output_path": "__notebook__.ipynb",
   "parameters": {},
   "start_time": "2023-02-28T04:13:05.173593",
   "version": "2.4.0"
  }
 },
 "nbformat": 4,
 "nbformat_minor": 5
}
