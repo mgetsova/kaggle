{
 "cells": [
  {
   "cell_type": "markdown",
   "id": "699179e5",
   "metadata": {
    "papermill": {
     "duration": 0.004769,
     "end_time": "2023-01-03T06:01:08.065558",
     "exception": false,
     "start_time": "2023-01-03T06:01:08.060789",
     "status": "completed"
    },
    "tags": []
   },
   "source": [
    "**This notebook is an exercise in the [Intro to Deep Learning](https://www.kaggle.com/learn/intro-to-deep-learning) course.  You can reference the tutorial at [this link](https://www.kaggle.com/ryanholbrook/binary-classification).**\n",
    "\n",
    "---\n"
   ]
  },
  {
   "cell_type": "markdown",
   "id": "4fa03b74",
   "metadata": {
    "papermill": {
     "duration": 0.005092,
     "end_time": "2023-01-03T06:01:08.077264",
     "exception": false,
     "start_time": "2023-01-03T06:01:08.072172",
     "status": "completed"
    },
    "tags": []
   },
   "source": [
    "# Introduction #\n",
    "\n",
    "In this exercise, you'll build a model to predict hotel cancellations with a binary classifier."
   ]
  },
  {
   "cell_type": "code",
   "execution_count": 1,
   "id": "e125b36e",
   "metadata": {
    "execution": {
     "iopub.execute_input": "2023-01-03T06:01:08.089662Z",
     "iopub.status.busy": "2023-01-03T06:01:08.089107Z",
     "iopub.status.idle": "2023-01-03T06:01:08.135510Z",
     "shell.execute_reply": "2023-01-03T06:01:08.134588Z"
    },
    "lines_to_next_cell": 0,
    "papermill": {
     "duration": 0.055422,
     "end_time": "2023-01-03T06:01:08.137839",
     "exception": false,
     "start_time": "2023-01-03T06:01:08.082417",
     "status": "completed"
    },
    "tags": []
   },
   "outputs": [],
   "source": [
    "# Setup plotting\n",
    "import matplotlib.pyplot as plt\n",
    "plt.style.use('seaborn-whitegrid')\n",
    "# Set Matplotlib defaults\n",
    "plt.rc('figure', autolayout=True)\n",
    "plt.rc('axes', labelweight='bold', labelsize='large',\n",
    "       titleweight='bold', titlesize=18, titlepad=10)\n",
    "plt.rc('animation', html='html5')\n",
    "\n",
    "# Setup feedback system\n",
    "from learntools.core import binder\n",
    "binder.bind(globals())\n",
    "from learntools.deep_learning_intro.ex6 import *"
   ]
  },
  {
   "cell_type": "markdown",
   "id": "4e637c3e",
   "metadata": {
    "papermill": {
     "duration": 0.003394,
     "end_time": "2023-01-03T06:01:08.145696",
     "exception": false,
     "start_time": "2023-01-03T06:01:08.142302",
     "status": "completed"
    },
    "tags": []
   },
   "source": [
    "First, load the *Hotel Cancellations* dataset."
   ]
  },
  {
   "cell_type": "code",
   "execution_count": 2,
   "id": "06f702c7",
   "metadata": {
    "execution": {
     "iopub.execute_input": "2023-01-03T06:01:08.153733Z",
     "iopub.status.busy": "2023-01-03T06:01:08.153441Z",
     "iopub.status.idle": "2023-01-03T06:01:10.492483Z",
     "shell.execute_reply": "2023-01-03T06:01:10.491388Z"
    },
    "lines_to_next_cell": 2,
    "papermill": {
     "duration": 2.346069,
     "end_time": "2023-01-03T06:01:10.495009",
     "exception": false,
     "start_time": "2023-01-03T06:01:08.148940",
     "status": "completed"
    },
    "tags": []
   },
   "outputs": [],
   "source": [
    "import pandas as pd\n",
    "\n",
    "from sklearn.model_selection import train_test_split\n",
    "from sklearn.preprocessing import StandardScaler, OneHotEncoder\n",
    "from sklearn.impute import SimpleImputer\n",
    "from sklearn.pipeline import make_pipeline\n",
    "from sklearn.compose import make_column_transformer\n",
    "\n",
    "hotel = pd.read_csv('../input/dl-course-data/hotel.csv')\n",
    "\n",
    "X = hotel.copy()\n",
    "y = X.pop('is_canceled')\n",
    "\n",
    "X['arrival_date_month'] = \\\n",
    "    X['arrival_date_month'].map(\n",
    "        {'January':1, 'February': 2, 'March':3,\n",
    "         'April':4, 'May':5, 'June':6, 'July':7,\n",
    "         'August':8, 'September':9, 'October':10,\n",
    "         'November':11, 'December':12}\n",
    "    )\n",
    "\n",
    "features_num = [\n",
    "    \"lead_time\", \"arrival_date_week_number\",\n",
    "    \"arrival_date_day_of_month\", \"stays_in_weekend_nights\",\n",
    "    \"stays_in_week_nights\", \"adults\", \"children\", \"babies\",\n",
    "    \"is_repeated_guest\", \"previous_cancellations\",\n",
    "    \"previous_bookings_not_canceled\", \"required_car_parking_spaces\",\n",
    "    \"total_of_special_requests\", \"adr\",\n",
    "]\n",
    "features_cat = [\n",
    "    \"hotel\", \"arrival_date_month\", \"meal\",\n",
    "    \"market_segment\", \"distribution_channel\",\n",
    "    \"reserved_room_type\", \"deposit_type\", \"customer_type\",\n",
    "]\n",
    "\n",
    "transformer_num = make_pipeline(\n",
    "    SimpleImputer(strategy=\"constant\"), # there are a few missing values\n",
    "    StandardScaler(),\n",
    ")\n",
    "transformer_cat = make_pipeline(\n",
    "    SimpleImputer(strategy=\"constant\", fill_value=\"NA\"),\n",
    "    OneHotEncoder(handle_unknown='ignore'),\n",
    ")\n",
    "\n",
    "preprocessor = make_column_transformer(\n",
    "    (transformer_num, features_num),\n",
    "    (transformer_cat, features_cat),\n",
    ")\n",
    "\n",
    "# stratify - make sure classes are evenlly represented across splits\n",
    "X_train, X_valid, y_train, y_valid = \\\n",
    "    train_test_split(X, y, stratify=y, train_size=0.75)\n",
    "\n",
    "X_train = preprocessor.fit_transform(X_train)\n",
    "X_valid = preprocessor.transform(X_valid)\n",
    "\n",
    "input_shape = [X_train.shape[1]]"
   ]
  },
  {
   "cell_type": "markdown",
   "id": "85af9b27",
   "metadata": {
    "papermill": {
     "duration": 0.003285,
     "end_time": "2023-01-03T06:01:10.501746",
     "exception": false,
     "start_time": "2023-01-03T06:01:10.498461",
     "status": "completed"
    },
    "tags": []
   },
   "source": [
    "# 1) Define Model #\n",
    "\n",
    "The model we'll use this time will have both batch normalization and dropout layers. To ease reading we've broken the diagram into blocks, but you can define it layer by layer as usual.\n",
    "\n",
    "Define a model with an architecture given by this diagram:\n",
    "\n",
    "<figure style=\"padding: 1em;\">\n",
    "<img src=\"https://i.imgur.com/V04o59Z.png\" width=\"400\" alt=\"Diagram of network architecture: BatchNorm, Dense, BatchNorm, Dropout, Dense, BatchNorm, Dropout, Dense.\">\n",
    "<figcaption style=\"textalign: center; font-style: italic\"><center>Diagram of a binary classifier.</center></figcaption>\n",
    "</figure>\n"
   ]
  },
  {
   "cell_type": "code",
   "execution_count": 3,
   "id": "019f16a9",
   "metadata": {
    "execution": {
     "iopub.execute_input": "2023-01-03T06:01:10.509439Z",
     "iopub.status.busy": "2023-01-03T06:01:10.509133Z",
     "iopub.status.idle": "2023-01-03T06:01:18.680778Z",
     "shell.execute_reply": "2023-01-03T06:01:18.679765Z"
    },
    "lines_to_next_cell": 2,
    "papermill": {
     "duration": 8.178004,
     "end_time": "2023-01-03T06:01:18.682893",
     "exception": false,
     "start_time": "2023-01-03T06:01:10.504889",
     "status": "completed"
    },
    "tags": []
   },
   "outputs": [
    {
     "name": "stderr",
     "output_type": "stream",
     "text": [
      "2023-01-03 06:01:15.823772: I tensorflow/stream_executor/cuda/cuda_gpu_executor.cc:937] successful NUMA node read from SysFS had negative value (-1), but there must be at least one NUMA node, so returning NUMA node zero\n",
      "2023-01-03 06:01:15.919432: I tensorflow/stream_executor/cuda/cuda_gpu_executor.cc:937] successful NUMA node read from SysFS had negative value (-1), but there must be at least one NUMA node, so returning NUMA node zero\n",
      "2023-01-03 06:01:15.920178: I tensorflow/stream_executor/cuda/cuda_gpu_executor.cc:937] successful NUMA node read from SysFS had negative value (-1), but there must be at least one NUMA node, so returning NUMA node zero\n",
      "2023-01-03 06:01:15.922500: I tensorflow/core/platform/cpu_feature_guard.cc:142] This TensorFlow binary is optimized with oneAPI Deep Neural Network Library (oneDNN) to use the following CPU instructions in performance-critical operations:  AVX2 AVX512F FMA\n",
      "To enable them in other operations, rebuild TensorFlow with the appropriate compiler flags.\n",
      "2023-01-03 06:01:15.926653: I tensorflow/stream_executor/cuda/cuda_gpu_executor.cc:937] successful NUMA node read from SysFS had negative value (-1), but there must be at least one NUMA node, so returning NUMA node zero\n",
      "2023-01-03 06:01:15.927399: I tensorflow/stream_executor/cuda/cuda_gpu_executor.cc:937] successful NUMA node read from SysFS had negative value (-1), but there must be at least one NUMA node, so returning NUMA node zero\n",
      "2023-01-03 06:01:15.928211: I tensorflow/stream_executor/cuda/cuda_gpu_executor.cc:937] successful NUMA node read from SysFS had negative value (-1), but there must be at least one NUMA node, so returning NUMA node zero\n",
      "2023-01-03 06:01:18.231087: I tensorflow/stream_executor/cuda/cuda_gpu_executor.cc:937] successful NUMA node read from SysFS had negative value (-1), but there must be at least one NUMA node, so returning NUMA node zero\n",
      "2023-01-03 06:01:18.232073: I tensorflow/stream_executor/cuda/cuda_gpu_executor.cc:937] successful NUMA node read from SysFS had negative value (-1), but there must be at least one NUMA node, so returning NUMA node zero\n",
      "2023-01-03 06:01:18.232781: I tensorflow/stream_executor/cuda/cuda_gpu_executor.cc:937] successful NUMA node read from SysFS had negative value (-1), but there must be at least one NUMA node, so returning NUMA node zero\n",
      "2023-01-03 06:01:18.233366: I tensorflow/core/common_runtime/gpu/gpu_device.cc:1510] Created device /job:localhost/replica:0/task:0/device:GPU:0 with 15401 MB memory:  -> device: 0, name: Tesla P100-PCIE-16GB, pci bus id: 0000:00:04.0, compute capability: 6.0\n"
     ]
    },
    {
     "data": {
      "application/javascript": [
       "parent.postMessage({\"jupyterEvent\": \"custom.exercise_interaction\", \"data\": {\"outcomeType\": 1, \"valueTowardsCompletion\": 0.3333333333333333, \"interactionType\": 1, \"questionType\": 2, \"questionId\": \"1_Q1\", \"learnToolsVersion\": \"0.3.4\", \"failureMessage\": \"\", \"exceptionClass\": \"\", \"trace\": \"\"}}, \"*\")"
      ],
      "text/plain": [
       "<IPython.core.display.Javascript object>"
      ]
     },
     "metadata": {},
     "output_type": "display_data"
    },
    {
     "data": {
      "text/markdown": [
       "<span style=\"color:#33cc33\">Correct</span>"
      ],
      "text/plain": [
       "Correct"
      ]
     },
     "metadata": {},
     "output_type": "display_data"
    }
   ],
   "source": [
    "from tensorflow import keras\n",
    "from tensorflow.keras import layers\n",
    "\n",
    "# YOUR CODE HERE: define the model given in the diagram\n",
    "model = keras.Sequential([layers.BatchNormalization(input_shape=input_shape),\n",
    "                         layers.Dense(256, activation='relu'),\n",
    "                         layers.BatchNormalization(),\n",
    "                         layers.Dropout(0.3),\n",
    "                         layers.Dense(256, activation='relu'),\n",
    "                         layers.BatchNormalization(),\n",
    "                         layers.Dropout(0.3),\n",
    "                         layers.Dense(1, activation='sigmoid')])\n",
    "\n",
    "# Check your answer\n",
    "q_1.check()"
   ]
  },
  {
   "cell_type": "markdown",
   "id": "55060d2b",
   "metadata": {
    "papermill": {
     "duration": 0.003373,
     "end_time": "2023-01-03T06:01:18.690074",
     "exception": false,
     "start_time": "2023-01-03T06:01:18.686701",
     "status": "completed"
    },
    "tags": []
   },
   "source": [
    "# 2) Add Optimizer, Loss, and Metric #\n",
    "\n",
    "Now compile the model with the Adam optimizer and binary versions of the cross-entropy loss and accuracy metric."
   ]
  },
  {
   "cell_type": "code",
   "execution_count": 4,
   "id": "1176f5b5",
   "metadata": {
    "execution": {
     "iopub.execute_input": "2023-01-03T06:01:18.698690Z",
     "iopub.status.busy": "2023-01-03T06:01:18.698381Z",
     "iopub.status.idle": "2023-01-03T06:01:18.714086Z",
     "shell.execute_reply": "2023-01-03T06:01:18.713063Z"
    },
    "lines_to_next_cell": 0,
    "papermill": {
     "duration": 0.023109,
     "end_time": "2023-01-03T06:01:18.716880",
     "exception": false,
     "start_time": "2023-01-03T06:01:18.693771",
     "status": "completed"
    },
    "tags": []
   },
   "outputs": [
    {
     "data": {
      "application/javascript": [
       "parent.postMessage({\"jupyterEvent\": \"custom.exercise_interaction\", \"data\": {\"outcomeType\": 1, \"valueTowardsCompletion\": 0.3333333333333333, \"interactionType\": 1, \"questionType\": 2, \"questionId\": \"2_Q2\", \"learnToolsVersion\": \"0.3.4\", \"failureMessage\": \"\", \"exceptionClass\": \"\", \"trace\": \"\"}}, \"*\")"
      ],
      "text/plain": [
       "<IPython.core.display.Javascript object>"
      ]
     },
     "metadata": {},
     "output_type": "display_data"
    },
    {
     "data": {
      "text/markdown": [
       "<span style=\"color:#33cc33\">Correct</span>"
      ],
      "text/plain": [
       "Correct"
      ]
     },
     "metadata": {},
     "output_type": "display_data"
    }
   ],
   "source": [
    "# YOUR CODE HERE\n",
    "model.compile(optimizer='adam', loss='binary_crossentropy', metrics=['binary_accuracy'])\n",
    "\n",
    "# Check your answer\n",
    "q_2.check()"
   ]
  },
  {
   "cell_type": "code",
   "execution_count": 5,
   "id": "5555cc4b",
   "metadata": {
    "execution": {
     "iopub.execute_input": "2023-01-03T06:01:18.725942Z",
     "iopub.status.busy": "2023-01-03T06:01:18.725671Z",
     "iopub.status.idle": "2023-01-03T06:01:18.730331Z",
     "shell.execute_reply": "2023-01-03T06:01:18.729506Z"
    },
    "lines_to_next_cell": 0,
    "papermill": {
     "duration": 0.011821,
     "end_time": "2023-01-03T06:01:18.732653",
     "exception": false,
     "start_time": "2023-01-03T06:01:18.720832",
     "status": "completed"
    },
    "tags": []
   },
   "outputs": [],
   "source": [
    "# Lines below will give you a hint or solution code\n",
    "#q_2.hint()\n",
    "#q_2.solution()"
   ]
  },
  {
   "cell_type": "markdown",
   "id": "70eca0e2",
   "metadata": {
    "papermill": {
     "duration": 0.003703,
     "end_time": "2023-01-03T06:01:18.740128",
     "exception": false,
     "start_time": "2023-01-03T06:01:18.736425",
     "status": "completed"
    },
    "tags": []
   },
   "source": [
    "Finally, run this cell to train the model and view the learning curves. It may run for around 60 to 70 epochs, which could take a minute or two."
   ]
  },
  {
   "cell_type": "code",
   "execution_count": 6,
   "id": "49bb4772",
   "metadata": {
    "execution": {
     "iopub.execute_input": "2023-01-03T06:01:18.749227Z",
     "iopub.status.busy": "2023-01-03T06:01:18.748945Z",
     "iopub.status.idle": "2023-01-03T06:01:42.586192Z",
     "shell.execute_reply": "2023-01-03T06:01:42.585260Z"
    },
    "papermill": {
     "duration": 23.84411,
     "end_time": "2023-01-03T06:01:42.588214",
     "exception": false,
     "start_time": "2023-01-03T06:01:18.744104",
     "status": "completed"
    },
    "tags": []
   },
   "outputs": [
    {
     "name": "stderr",
     "output_type": "stream",
     "text": [
      "2023-01-03 06:01:18.876384: I tensorflow/compiler/mlir/mlir_graph_optimization_pass.cc:185] None of the MLIR Optimization Passes are enabled (registered 2)\n"
     ]
    },
    {
     "name": "stdout",
     "output_type": "stream",
     "text": [
      "Epoch 1/200\n",
      "175/175 [==============================] - 3s 6ms/step - loss: 0.4803 - binary_accuracy: 0.7708 - val_loss: 0.4497 - val_binary_accuracy: 0.8094\n",
      "Epoch 2/200\n",
      "175/175 [==============================] - 1s 4ms/step - loss: 0.4223 - binary_accuracy: 0.8013 - val_loss: 0.4030 - val_binary_accuracy: 0.8158\n",
      "Epoch 3/200\n",
      "175/175 [==============================] - 1s 4ms/step - loss: 0.4100 - binary_accuracy: 0.8082 - val_loss: 0.3947 - val_binary_accuracy: 0.8203\n",
      "Epoch 4/200\n",
      "175/175 [==============================] - 1s 4ms/step - loss: 0.4018 - binary_accuracy: 0.8118 - val_loss: 0.3895 - val_binary_accuracy: 0.8225\n",
      "Epoch 5/200\n",
      "175/175 [==============================] - 1s 5ms/step - loss: 0.3967 - binary_accuracy: 0.8145 - val_loss: 0.3884 - val_binary_accuracy: 0.8226\n",
      "Epoch 6/200\n",
      "175/175 [==============================] - 1s 7ms/step - loss: 0.3926 - binary_accuracy: 0.8177 - val_loss: 0.3810 - val_binary_accuracy: 0.8250\n",
      "Epoch 7/200\n",
      "175/175 [==============================] - 1s 5ms/step - loss: 0.3880 - binary_accuracy: 0.8191 - val_loss: 0.3818 - val_binary_accuracy: 0.8248\n",
      "Epoch 8/200\n",
      "175/175 [==============================] - 1s 5ms/step - loss: 0.3848 - binary_accuracy: 0.8213 - val_loss: 0.3756 - val_binary_accuracy: 0.8303\n",
      "Epoch 9/200\n",
      "175/175 [==============================] - 1s 5ms/step - loss: 0.3813 - binary_accuracy: 0.8226 - val_loss: 0.3744 - val_binary_accuracy: 0.8280\n",
      "Epoch 10/200\n",
      "175/175 [==============================] - 1s 4ms/step - loss: 0.3784 - binary_accuracy: 0.8245 - val_loss: 0.3733 - val_binary_accuracy: 0.8306\n",
      "Epoch 11/200\n",
      "175/175 [==============================] - 1s 4ms/step - loss: 0.3755 - binary_accuracy: 0.8271 - val_loss: 0.3706 - val_binary_accuracy: 0.8321\n",
      "Epoch 12/200\n",
      "175/175 [==============================] - 1s 4ms/step - loss: 0.3733 - binary_accuracy: 0.8268 - val_loss: 0.3720 - val_binary_accuracy: 0.8279\n",
      "Epoch 13/200\n",
      "175/175 [==============================] - 1s 4ms/step - loss: 0.3704 - binary_accuracy: 0.8289 - val_loss: 0.3650 - val_binary_accuracy: 0.8344\n",
      "Epoch 14/200\n",
      "175/175 [==============================] - 1s 6ms/step - loss: 0.3682 - binary_accuracy: 0.8297 - val_loss: 0.3648 - val_binary_accuracy: 0.8353\n",
      "Epoch 15/200\n",
      "175/175 [==============================] - 1s 4ms/step - loss: 0.3663 - binary_accuracy: 0.8306 - val_loss: 0.3669 - val_binary_accuracy: 0.8327\n",
      "Epoch 16/200\n",
      "175/175 [==============================] - 1s 5ms/step - loss: 0.3652 - binary_accuracy: 0.8303 - val_loss: 0.3635 - val_binary_accuracy: 0.8324\n",
      "Epoch 17/200\n",
      "175/175 [==============================] - 1s 4ms/step - loss: 0.3642 - binary_accuracy: 0.8312 - val_loss: 0.3617 - val_binary_accuracy: 0.8353\n",
      "Epoch 18/200\n",
      "175/175 [==============================] - 1s 5ms/step - loss: 0.3605 - binary_accuracy: 0.8331 - val_loss: 0.3587 - val_binary_accuracy: 0.8368\n",
      "Epoch 19/200\n",
      "175/175 [==============================] - 1s 4ms/step - loss: 0.3590 - binary_accuracy: 0.8349 - val_loss: 0.3621 - val_binary_accuracy: 0.8337\n",
      "Epoch 20/200\n",
      "175/175 [==============================] - 1s 5ms/step - loss: 0.3588 - binary_accuracy: 0.8343 - val_loss: 0.3608 - val_binary_accuracy: 0.8363\n",
      "Epoch 21/200\n",
      "175/175 [==============================] - 1s 4ms/step - loss: 0.3563 - binary_accuracy: 0.8353 - val_loss: 0.3569 - val_binary_accuracy: 0.8384\n",
      "Epoch 22/200\n",
      "175/175 [==============================] - 1s 4ms/step - loss: 0.3556 - binary_accuracy: 0.8348 - val_loss: 0.3566 - val_binary_accuracy: 0.8380\n",
      "Epoch 23/200\n",
      "175/175 [==============================] - 1s 4ms/step - loss: 0.3546 - binary_accuracy: 0.8363 - val_loss: 0.3599 - val_binary_accuracy: 0.8342\n",
      "Epoch 24/200\n",
      "175/175 [==============================] - 1s 5ms/step - loss: 0.3548 - binary_accuracy: 0.8362 - val_loss: 0.3562 - val_binary_accuracy: 0.8398\n",
      "Epoch 25/200\n",
      "175/175 [==============================] - 1s 4ms/step - loss: 0.3519 - binary_accuracy: 0.8378 - val_loss: 0.3566 - val_binary_accuracy: 0.8367\n",
      "Epoch 26/200\n",
      "175/175 [==============================] - 1s 4ms/step - loss: 0.3519 - binary_accuracy: 0.8371 - val_loss: 0.3560 - val_binary_accuracy: 0.8377\n"
     ]
    },
    {
     "data": {
      "text/plain": [
       "<AxesSubplot:title={'center':'Accuracy'}>"
      ]
     },
     "execution_count": 6,
     "metadata": {},
     "output_type": "execute_result"
    },
    {
     "data": {
      "image/png": "[encoded data removed]",
      "text/plain": [
       "<Figure size 432x288 with 1 Axes>"
      ]
     },
     "metadata": {},
     "output_type": "display_data"
    },
    {
     "data": {
      "image/png": "[encoded data removed]",
      "text/plain": [
       "<Figure size 432x288 with 1 Axes>"
      ]
     },
     "metadata": {},
     "output_type": "display_data"
    }
   ],
   "source": [
    "early_stopping = keras.callbacks.EarlyStopping(\n",
    "    patience=5,\n",
    "    min_delta=0.001,\n",
    "    restore_best_weights=True,\n",
    ")\n",
    "history = model.fit(\n",
    "    X_train, y_train,\n",
    "    validation_data=(X_valid, y_valid),\n",
    "    batch_size=512,\n",
    "    epochs=200,\n",
    "    callbacks=[early_stopping],\n",
    ")\n",
    "\n",
    "history_df = pd.DataFrame(history.history)\n",
    "history_df.loc[:, ['loss', 'val_loss']].plot(title=\"Cross-entropy\")\n",
    "history_df.loc[:, ['binary_accuracy', 'val_binary_accuracy']].plot(title=\"Accuracy\")"
   ]
  },
  {
   "cell_type": "markdown",
   "id": "b0b8eae3",
   "metadata": {
    "papermill": {
     "duration": 0.024111,
     "end_time": "2023-01-03T06:01:42.638101",
     "exception": false,
     "start_time": "2023-01-03T06:01:42.613990",
     "status": "completed"
    },
    "tags": []
   },
   "source": [
    "# 3) Train and Evaluate #\n",
    "\n",
    "\n",
    "What do you think about the learning curves? Does it look like the model underfit or overfit? Was the cross-entropy loss a good stand-in for accuracy?"
   ]
  },
  {
   "cell_type": "code",
   "execution_count": 7,
   "id": "a9cbf606",
   "metadata": {
    "execution": {
     "iopub.execute_input": "2023-01-03T06:01:42.686948Z",
     "iopub.status.busy": "2023-01-03T06:01:42.686589Z",
     "iopub.status.idle": "2023-01-03T06:01:42.694774Z",
     "shell.execute_reply": "2023-01-03T06:01:42.693764Z"
    },
    "papermill": {
     "duration": 0.035064,
     "end_time": "2023-01-03T06:01:42.696832",
     "exception": false,
     "start_time": "2023-01-03T06:01:42.661768",
     "status": "completed"
    },
    "tags": []
   },
   "outputs": [
    {
     "data": {
      "application/javascript": [
       "parent.postMessage({\"jupyterEvent\": \"custom.exercise_interaction\", \"data\": {\"outcomeType\": 1, \"valueTowardsCompletion\": 0.3333333333333333, \"interactionType\": 1, \"questionType\": 4, \"questionId\": \"3_Q3\", \"learnToolsVersion\": \"0.3.4\", \"failureMessage\": \"\", \"exceptionClass\": \"\", \"trace\": \"\"}}, \"*\")"
      ],
      "text/plain": [
       "<IPython.core.display.Javascript object>"
      ]
     },
     "metadata": {},
     "output_type": "display_data"
    },
    {
     "data": {
      "text/markdown": [
       "<span style=\"color:#33cc33\">Correct:</span> \n",
       "\n",
       "Though we can see the training loss continuing to fall, the early stopping callback prevented any overfitting. Moreover, the accuracy rose at the same rate as the cross-entropy fell, so it appears that minimizing cross-entropy was a good stand-in. All in all, it looks like this training was a success!"
      ],
      "text/plain": [
       "Correct: \n",
       "\n",
       "Though we can see the training loss continuing to fall, the early stopping callback prevented any overfitting. Moreover, the accuracy rose at the same rate as the cross-entropy fell, so it appears that minimizing cross-entropy was a good stand-in. All in all, it looks like this training was a success!"
      ]
     },
     "metadata": {},
     "output_type": "display_data"
    }
   ],
   "source": [
    "# View the solution (Run this cell to receive credit!)\n",
    "q_3.check()"
   ]
  },
  {
   "cell_type": "markdown",
   "id": "1cae0c2c",
   "metadata": {
    "papermill": {
     "duration": 0.047832,
     "end_time": "2023-01-03T06:01:42.778656",
     "exception": false,
     "start_time": "2023-01-03T06:01:42.730824",
     "status": "completed"
    },
    "tags": []
   },
   "source": [
    "# Conclusion #\n",
    "\n",
    "Congratulations! You've completed Kaggle's *Introduction to Deep Learning* course!\n",
    "\n",
    "With your new skills you're ready to take on more advanced applications like computer vision and sentiment classification. What would you like to do next?\n",
    "\n",
    "Why not try one of our *Getting Started* competitions?\n",
    "\n",
    "- Classify images with TPUs in [**Petals to the Metal**](https://www.kaggle.com/c/tpu-getting-started)\n",
    "- Create art with GANs in [**I'm Something of a Painter Myself**](https://www.kaggle.com/c/gan-getting-started)\n",
    "- Classify Tweets in [**Real or Not? NLP with Disaster Tweets**](https://www.kaggle.com/c/nlp-getting-started)\n",
    "- Detect contradiction and entailment in [**Contradictory, My Dear Watson**](https://www.kaggle.com/c/contradictory-my-dear-watson)\n",
    "\n",
    "Until next time, Kagglers!"
   ]
  },
  {
   "cell_type": "markdown",
   "id": "696193e4",
   "metadata": {
    "papermill": {
     "duration": 0.041878,
     "end_time": "2023-01-03T06:01:42.873421",
     "exception": false,
     "start_time": "2023-01-03T06:01:42.831543",
     "status": "completed"
    },
    "tags": []
   },
   "source": [
    "---\n",
    "\n",
    "\n",
    "\n",
    "\n",
    "*Have questions or comments? Visit the [course discussion forum](https://www.kaggle.com/learn/intro-to-deep-learning/discussion) to chat with other learners.*"
   ]
  }
 ],
 "metadata": {
  "kernelspec": {
   "display_name": "Python 3",
   "language": "python",
   "name": "python3"
  },
  "language_info": {
   "codemirror_mode": {
    "name": "ipython",
    "version": 3
   },
   "file_extension": ".py",
   "mimetype": "text/x-python",
   "name": "python",
   "nbconvert_exporter": "python",
   "pygments_lexer": "ipython3",
   "version": "3.7.12"
  },
  "papermill": {
   "default_parameters": {},
   "duration": 46.348906,
   "end_time": "2023-01-03T06:01:46.560054",
   "environment_variables": {},
   "exception": null,
   "input_path": "__notebook__.ipynb",
   "output_path": "__notebook__.ipynb",
   "parameters": {},
   "start_time": "2023-01-03T06:01:00.211148",
   "version": "2.3.4"
  }
 },
 "nbformat": 4,
 "nbformat_minor": 5
}
