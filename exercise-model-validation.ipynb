{
 "cells": [
  {
   "cell_type": "markdown",
   "id": "57344811",
   "metadata": {
    "papermill": {
     "duration": 0.006149,
     "end_time": "2022-12-07T02:01:49.523383",
     "exception": false,
     "start_time": "2022-12-07T02:01:49.517234",
     "status": "completed"
    },
    "tags": []
   },
   "source": [
    "**This notebook is an exercise in the [Introduction to Machine Learning](https://www.kaggle.com/learn/intro-to-machine-learning) course.  You can reference the tutorial at [this link](https://www.kaggle.com/dansbecker/model-validation).**\n",
    "\n",
    "---\n"
   ]
  },
  {
   "cell_type": "markdown",
   "id": "73a773d0",
   "metadata": {
    "papermill": {
     "duration": 0.004989,
     "end_time": "2022-12-07T02:01:49.534150",
     "exception": false,
     "start_time": "2022-12-07T02:01:49.529161",
     "status": "completed"
    },
    "tags": []
   },
   "source": [
    "## Recap\n",
    "You've built a model. In this exercise you will test how good your model is.\n",
    "\n",
    "Run the cell below to set up your coding environment where the previous exercise left off."
   ]
  },
  {
   "cell_type": "code",
   "execution_count": 1,
   "id": "c17de568",
   "metadata": {
    "execution": {
     "iopub.execute_input": "2022-12-07T02:01:49.547073Z",
     "iopub.status.busy": "2022-12-07T02:01:49.546533Z",
     "iopub.status.idle": "2022-12-07T02:01:51.243977Z",
     "shell.execute_reply": "2022-12-07T02:01:51.242780Z"
    },
    "papermill": {
     "duration": 1.70682,
     "end_time": "2022-12-07T02:01:51.246630",
     "exception": false,
     "start_time": "2022-12-07T02:01:49.539810",
     "status": "completed"
    },
    "tags": []
   },
   "outputs": [
    {
     "name": "stdout",
     "output_type": "stream",
     "text": [
      "First in-sample predictions: [208500. 181500. 223500. 140000. 250000.]\n",
      "Actual target values for those homes: [208500, 181500, 223500, 140000, 250000]\n",
      "Setup Complete\n"
     ]
    }
   ],
   "source": [
    "# Code you have previously used to load data\n",
    "import pandas as pd\n",
    "from sklearn.tree import DecisionTreeRegressor\n",
    "\n",
    "# Path of the file to read\n",
    "iowa_file_path = '../input/home-data-for-ml-course/train.csv'\n",
    "\n",
    "home_data = pd.read_csv(iowa_file_path)\n",
    "y = home_data.SalePrice\n",
    "feature_columns = ['LotArea', 'YearBuilt', '1stFlrSF', '2ndFlrSF', 'FullBath', 'BedroomAbvGr', 'TotRmsAbvGrd']\n",
    "X = home_data[feature_columns]\n",
    "\n",
    "# Specify Model\n",
    "iowa_model = DecisionTreeRegressor()\n",
    "# Fit Model\n",
    "iowa_model.fit(X, y)\n",
    "\n",
    "print(\"First in-sample predictions:\", iowa_model.predict(X.head()))\n",
    "print(\"Actual target values for those homes:\", y.head().tolist())\n",
    "\n",
    "# Set up code checking\n",
    "from learntools.core import binder\n",
    "binder.bind(globals())\n",
    "from learntools.machine_learning.ex4 import *\n",
    "print(\"Setup Complete\")"
   ]
  },
  {
   "cell_type": "markdown",
   "id": "0aa01a18",
   "metadata": {
    "papermill": {
     "duration": 0.004874,
     "end_time": "2022-12-07T02:01:51.256998",
     "exception": false,
     "start_time": "2022-12-07T02:01:51.252124",
     "status": "completed"
    },
    "tags": []
   },
   "source": [
    "# Exercises\n",
    "\n",
    "## Step 1: Split Your Data\n",
    "Use the `train_test_split` function to split up your data.\n",
    "\n",
    "Give it the argument `random_state=1` so the `check` functions know what to expect when verifying your code.\n",
    "\n",
    "Recall, your features are loaded in the DataFrame **X** and your target is loaded in **y**.\n"
   ]
  },
  {
   "cell_type": "code",
   "execution_count": 2,
   "id": "716fa5dd",
   "metadata": {
    "execution": {
     "iopub.execute_input": "2022-12-07T02:01:51.269685Z",
     "iopub.status.busy": "2022-12-07T02:01:51.269010Z",
     "iopub.status.idle": "2022-12-07T02:01:51.284642Z",
     "shell.execute_reply": "2022-12-07T02:01:51.283679Z"
    },
    "papermill": {
     "duration": 0.025261,
     "end_time": "2022-12-07T02:01:51.287522",
     "exception": false,
     "start_time": "2022-12-07T02:01:51.262261",
     "status": "completed"
    },
    "tags": []
   },
   "outputs": [
    {
     "data": {
      "application/javascript": [
       "parent.postMessage({\"jupyterEvent\": \"custom.exercise_interaction\", \"data\": {\"outcomeType\": 1, \"valueTowardsCompletion\": 0.25, \"interactionType\": 1, \"questionType\": 2, \"questionId\": \"1_SplitData\", \"learnToolsVersion\": \"0.3.4\", \"failureMessage\": \"\", \"exceptionClass\": \"\", \"trace\": \"\"}}, \"*\")"
      ],
      "text/plain": [
       "<IPython.core.display.Javascript object>"
      ]
     },
     "metadata": {},
     "output_type": "display_data"
    },
    {
     "data": {
      "text/markdown": [
       "<span style=\"color:#33cc33\">Correct</span>"
      ],
      "text/plain": [
       "Correct"
      ]
     },
     "metadata": {},
     "output_type": "display_data"
    }
   ],
   "source": [
    "from sklearn.model_selection import train_test_split\n",
    "train_X, val_X, train_y, val_y = train_test_split(X, y, random_state = 1)\n",
    "step_1.check()"
   ]
  },
  {
   "cell_type": "code",
   "execution_count": 3,
   "id": "e28b4b77",
   "metadata": {
    "execution": {
     "iopub.execute_input": "2022-12-07T02:01:51.300349Z",
     "iopub.status.busy": "2022-12-07T02:01:51.299839Z",
     "iopub.status.idle": "2022-12-07T02:01:51.310384Z",
     "shell.execute_reply": "2022-12-07T02:01:51.308629Z"
    },
    "papermill": {
     "duration": 0.02136,
     "end_time": "2022-12-07T02:01:51.314064",
     "exception": false,
     "start_time": "2022-12-07T02:01:51.292704",
     "status": "completed"
    },
    "tags": []
   },
   "outputs": [
    {
     "data": {
      "application/javascript": [
       "parent.postMessage({\"jupyterEvent\": \"custom.exercise_interaction\", \"data\": {\"interactionType\": 2, \"questionType\": 2, \"questionId\": \"1_SplitData\", \"learnToolsVersion\": \"0.3.4\", \"valueTowardsCompletion\": 0.0, \"failureMessage\": \"\", \"exceptionClass\": \"\", \"trace\": \"\", \"outcomeType\": 4}}, \"*\")"
      ],
      "text/plain": [
       "<IPython.core.display.Javascript object>"
      ]
     },
     "metadata": {},
     "output_type": "display_data"
    },
    {
     "data": {
      "text/markdown": [
       "<span style=\"color:#3366cc\">Hint:</span> The function you need to import is part of sklearn. When calling the function, the arguments are X and y. Ensure you set the random_state to 1."
      ],
      "text/plain": [
       "Hint: The function you need to import is part of sklearn. When calling the function, the arguments are X and y. Ensure you set the random_state to 1."
      ]
     },
     "metadata": {},
     "output_type": "display_data"
    }
   ],
   "source": [
    "# The lines below will show you a hint or the solution.\n",
    "step_1.hint() \n",
    "# step_1.solution()\n"
   ]
  },
  {
   "cell_type": "markdown",
   "id": "c6f573e1",
   "metadata": {
    "papermill": {
     "duration": 0.004846,
     "end_time": "2022-12-07T02:01:51.324448",
     "exception": false,
     "start_time": "2022-12-07T02:01:51.319602",
     "status": "completed"
    },
    "tags": []
   },
   "source": [
    "## Step 2: Specify and Fit the Model\n",
    "\n",
    "Create a `DecisionTreeRegressor` model and fit it to the relevant data.\n",
    "Set `random_state` to 1 again when creating the model."
   ]
  },
  {
   "cell_type": "code",
   "execution_count": 4,
   "id": "98c18934",
   "metadata": {
    "execution": {
     "iopub.execute_input": "2022-12-07T02:01:51.337945Z",
     "iopub.status.busy": "2022-12-07T02:01:51.337442Z",
     "iopub.status.idle": "2022-12-07T02:01:51.368106Z",
     "shell.execute_reply": "2022-12-07T02:01:51.366963Z"
    },
    "papermill": {
     "duration": 0.040056,
     "end_time": "2022-12-07T02:01:51.370709",
     "exception": false,
     "start_time": "2022-12-07T02:01:51.330653",
     "status": "completed"
    },
    "tags": []
   },
   "outputs": [
    {
     "name": "stdout",
     "output_type": "stream",
     "text": [
      "[186500. 184000. 130000.  92000. 164500. 220000. 335000. 144152. 215000.\n",
      " 262000.]\n",
      "[186500. 184000. 130000.  92000. 164500. 220000. 335000. 144152. 215000.\n",
      " 262000.]\n"
     ]
    },
    {
     "data": {
      "application/javascript": [
       "parent.postMessage({\"jupyterEvent\": \"custom.exercise_interaction\", \"data\": {\"outcomeType\": 1, \"valueTowardsCompletion\": 0.25, \"interactionType\": 1, \"questionType\": 2, \"questionId\": \"2_FitModelWithTrain\", \"learnToolsVersion\": \"0.3.4\", \"failureMessage\": \"\", \"exceptionClass\": \"\", \"trace\": \"\"}}, \"*\")"
      ],
      "text/plain": [
       "<IPython.core.display.Javascript object>"
      ]
     },
     "metadata": {},
     "output_type": "display_data"
    },
    {
     "data": {
      "text/markdown": [
       "<span style=\"color:#33cc33\">Correct</span>"
      ],
      "text/plain": [
       "Correct"
      ]
     },
     "metadata": {},
     "output_type": "display_data"
    }
   ],
   "source": [
    "# You imported DecisionTreeRegressor in your last exercise\n",
    "# and that code has been copied to the setup code above. So, no need to\n",
    "# import it again\n",
    "\n",
    "# Specify the model\n",
    "iowa_model = DecisionTreeRegressor(random_state = 1)\n",
    "\n",
    "# Fit iowa_model with the training data.\n",
    "iowa_model.fit(train_X, train_y)\n",
    "\n",
    "# Check your answer\n",
    "step_2.check()"
   ]
  },
  {
   "cell_type": "code",
   "execution_count": 5,
   "id": "6630d6c1",
   "metadata": {
    "execution": {
     "iopub.execute_input": "2022-12-07T02:01:51.384777Z",
     "iopub.status.busy": "2022-12-07T02:01:51.384270Z",
     "iopub.status.idle": "2022-12-07T02:01:51.389909Z",
     "shell.execute_reply": "2022-12-07T02:01:51.388461Z"
    },
    "papermill": {
     "duration": 0.016038,
     "end_time": "2022-12-07T02:01:51.392764",
     "exception": false,
     "start_time": "2022-12-07T02:01:51.376726",
     "status": "completed"
    },
    "tags": []
   },
   "outputs": [],
   "source": [
    "# step_2.hint()\n",
    "# step_2.solution()"
   ]
  },
  {
   "cell_type": "markdown",
   "id": "02522703",
   "metadata": {
    "papermill": {
     "duration": 0.005634,
     "end_time": "2022-12-07T02:01:51.404253",
     "exception": false,
     "start_time": "2022-12-07T02:01:51.398619",
     "status": "completed"
    },
    "tags": []
   },
   "source": [
    "## Step 3: Make Predictions with Validation data\n"
   ]
  },
  {
   "cell_type": "code",
   "execution_count": 6,
   "id": "291eb54a",
   "metadata": {
    "execution": {
     "iopub.execute_input": "2022-12-07T02:01:51.419182Z",
     "iopub.status.busy": "2022-12-07T02:01:51.418703Z",
     "iopub.status.idle": "2022-12-07T02:01:51.433821Z",
     "shell.execute_reply": "2022-12-07T02:01:51.432342Z"
    },
    "papermill": {
     "duration": 0.025823,
     "end_time": "2022-12-07T02:01:51.436457",
     "exception": false,
     "start_time": "2022-12-07T02:01:51.410634",
     "status": "completed"
    },
    "tags": []
   },
   "outputs": [
    {
     "data": {
      "application/javascript": [
       "parent.postMessage({\"jupyterEvent\": \"custom.exercise_interaction\", \"data\": {\"outcomeType\": 1, \"valueTowardsCompletion\": 0.25, \"interactionType\": 1, \"questionType\": 2, \"questionId\": \"3_ValPreds\", \"learnToolsVersion\": \"0.3.4\", \"failureMessage\": \"\", \"exceptionClass\": \"\", \"trace\": \"\"}}, \"*\")"
      ],
      "text/plain": [
       "<IPython.core.display.Javascript object>"
      ]
     },
     "metadata": {},
     "output_type": "display_data"
    },
    {
     "data": {
      "text/markdown": [
       "<span style=\"color:#33cc33\">Correct</span>"
      ],
      "text/plain": [
       "Correct"
      ]
     },
     "metadata": {},
     "output_type": "display_data"
    }
   ],
   "source": [
    "# Predict with all validation observations\n",
    "val_predictions = iowa_model.predict(val_X)\n",
    "\n",
    "# Check your answer\n",
    "step_3.check()"
   ]
  },
  {
   "cell_type": "code",
   "execution_count": 7,
   "id": "63e41e0f",
   "metadata": {
    "execution": {
     "iopub.execute_input": "2022-12-07T02:01:51.450484Z",
     "iopub.status.busy": "2022-12-07T02:01:51.450035Z",
     "iopub.status.idle": "2022-12-07T02:01:51.455489Z",
     "shell.execute_reply": "2022-12-07T02:01:51.454212Z"
    },
    "papermill": {
     "duration": 0.016048,
     "end_time": "2022-12-07T02:01:51.458570",
     "exception": false,
     "start_time": "2022-12-07T02:01:51.442522",
     "status": "completed"
    },
    "tags": []
   },
   "outputs": [],
   "source": [
    "# step_3.hint()\n",
    "# step_3.solution()"
   ]
  },
  {
   "cell_type": "markdown",
   "id": "2b84ae8f",
   "metadata": {
    "papermill": {
     "duration": 0.005545,
     "end_time": "2022-12-07T02:01:51.470040",
     "exception": false,
     "start_time": "2022-12-07T02:01:51.464495",
     "status": "completed"
    },
    "tags": []
   },
   "source": [
    "Inspect your predictions and actual values from validation data."
   ]
  },
  {
   "cell_type": "code",
   "execution_count": 8,
   "id": "355e5aeb",
   "metadata": {
    "execution": {
     "iopub.execute_input": "2022-12-07T02:01:51.485672Z",
     "iopub.status.busy": "2022-12-07T02:01:51.485242Z",
     "iopub.status.idle": "2022-12-07T02:01:51.492689Z",
     "shell.execute_reply": "2022-12-07T02:01:51.491289Z"
    },
    "papermill": {
     "duration": 0.018945,
     "end_time": "2022-12-07T02:01:51.496438",
     "exception": false,
     "start_time": "2022-12-07T02:01:51.477493",
     "status": "completed"
    },
    "tags": []
   },
   "outputs": [
    {
     "name": "stdout",
     "output_type": "stream",
     "text": [
      "[186500. 184000. 130000.  92000. 164500.]\n",
      "258     231500\n",
      "267     179500\n",
      "288     122000\n",
      "649      84500\n",
      "1233    142000\n",
      "Name: SalePrice, dtype: int64\n"
     ]
    }
   ],
   "source": [
    "# print the top few validation predictions\n",
    "print(val_predictions[0:5])\n",
    "# print the top few actual prices from validation data\n",
    "print(val_y.head())"
   ]
  },
  {
   "cell_type": "markdown",
   "id": "b730737d",
   "metadata": {
    "papermill": {
     "duration": 0.005745,
     "end_time": "2022-12-07T02:01:51.509837",
     "exception": false,
     "start_time": "2022-12-07T02:01:51.504092",
     "status": "completed"
    },
    "tags": []
   },
   "source": [
    "What do you notice that is different from what you saw with in-sample predictions (which are printed after the top code cell in this page).\n",
    "\n",
    "Do you remember why validation predictions differ from in-sample (or training) predictions? This is an important idea from the last lesson.\n",
    "\n",
    "## Step 4: Calculate the Mean Absolute Error in Validation Data\n"
   ]
  },
  {
   "cell_type": "code",
   "execution_count": 9,
   "id": "7c20e5fb",
   "metadata": {
    "execution": {
     "iopub.execute_input": "2022-12-07T02:01:51.523685Z",
     "iopub.status.busy": "2022-12-07T02:01:51.523200Z",
     "iopub.status.idle": "2022-12-07T02:01:51.537627Z",
     "shell.execute_reply": "2022-12-07T02:01:51.535327Z"
    },
    "papermill": {
     "duration": 0.024686,
     "end_time": "2022-12-07T02:01:51.540444",
     "exception": false,
     "start_time": "2022-12-07T02:01:51.515758",
     "status": "completed"
    },
    "tags": []
   },
   "outputs": [
    {
     "name": "stdout",
     "output_type": "stream",
     "text": [
      "29652.931506849316\n"
     ]
    },
    {
     "data": {
      "application/javascript": [
       "parent.postMessage({\"jupyterEvent\": \"custom.exercise_interaction\", \"data\": {\"outcomeType\": 1, \"valueTowardsCompletion\": 0.25, \"interactionType\": 1, \"questionType\": 1, \"questionId\": \"4_MAE\", \"learnToolsVersion\": \"0.3.4\", \"failureMessage\": \"\", \"exceptionClass\": \"\", \"trace\": \"\"}}, \"*\")"
      ],
      "text/plain": [
       "<IPython.core.display.Javascript object>"
      ]
     },
     "metadata": {},
     "output_type": "display_data"
    },
    {
     "data": {
      "text/markdown": [
       "<span style=\"color:#33cc33\">Correct</span>"
      ],
      "text/plain": [
       "Correct"
      ]
     },
     "metadata": {},
     "output_type": "display_data"
    }
   ],
   "source": [
    "from sklearn.metrics import mean_absolute_error\n",
    "val_mae = mean_absolute_error(val_y, val_predictions)\n",
    "\n",
    "# uncomment following line to see the validation_mae\n",
    "print(val_mae)\n",
    "\n",
    "# Check your answer\n",
    "step_4.check()"
   ]
  },
  {
   "cell_type": "code",
   "execution_count": 10,
   "id": "b54edbfa",
   "metadata": {
    "execution": {
     "iopub.execute_input": "2022-12-07T02:01:51.555643Z",
     "iopub.status.busy": "2022-12-07T02:01:51.555087Z",
     "iopub.status.idle": "2022-12-07T02:01:51.560335Z",
     "shell.execute_reply": "2022-12-07T02:01:51.559218Z"
    },
    "papermill": {
     "duration": 0.015936,
     "end_time": "2022-12-07T02:01:51.562750",
     "exception": false,
     "start_time": "2022-12-07T02:01:51.546814",
     "status": "completed"
    },
    "tags": []
   },
   "outputs": [],
   "source": [
    "# step_4.hint()\n",
    "# step_4.solution()"
   ]
  },
  {
   "cell_type": "markdown",
   "id": "90d72136",
   "metadata": {
    "papermill": {
     "duration": 0.005827,
     "end_time": "2022-12-07T02:01:51.574882",
     "exception": false,
     "start_time": "2022-12-07T02:01:51.569055",
     "status": "completed"
    },
    "tags": []
   },
   "source": [
    "Is that MAE good?  There isn't a general rule for what values are good that applies across applications. But you'll see how to use (and improve) this number in the next step.\n",
    "\n",
    "# Keep Going\n",
    "\n",
    "You are ready for **[Underfitting and Overfitting](https://www.kaggle.com/dansbecker/underfitting-and-overfitting).**\n"
   ]
  },
  {
   "cell_type": "markdown",
   "id": "ae3be4d6",
   "metadata": {
    "papermill": {
     "duration": 0.005863,
     "end_time": "2022-12-07T02:01:51.587170",
     "exception": false,
     "start_time": "2022-12-07T02:01:51.581307",
     "status": "completed"
    },
    "tags": []
   },
   "source": [
    "---\n",
    "\n",
    "\n",
    "\n",
    "\n",
    "*Have questions or comments? Visit the [course discussion forum](https://www.kaggle.com/learn/intro-to-machine-learning/discussion) to chat with other learners.*"
   ]
  }
 ],
 "metadata": {
  "kernelspec": {
   "display_name": "Python 3",
   "language": "python",
   "name": "python3"
  },
  "language_info": {
   "codemirror_mode": {
    "name": "ipython",
    "version": 3
   },
   "file_extension": ".py",
   "mimetype": "text/x-python",
   "name": "python",
   "nbconvert_exporter": "python",
   "pygments_lexer": "ipython3",
   "version": "3.7.12"
  },
  "papermill": {
   "default_parameters": {},
   "duration": 16.028932,
   "end_time": "2022-12-07T02:01:52.618884",
   "environment_variables": {},
   "exception": null,
   "input_path": "__notebook__.ipynb",
   "output_path": "__notebook__.ipynb",
   "parameters": {},
   "start_time": "2022-12-07T02:01:36.589952",
   "version": "2.3.4"
  }
 },
 "nbformat": 4,
 "nbformat_minor": 5
}
