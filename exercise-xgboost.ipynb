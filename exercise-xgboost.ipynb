{
 "cells": [
  {
   "cell_type": "markdown",
   "id": "616beb90",
   "metadata": {
    "papermill": {
     "duration": 0.00656,
     "end_time": "2022-12-07T01:41:40.209628",
     "exception": false,
     "start_time": "2022-12-07T01:41:40.203068",
     "status": "completed"
    },
    "tags": []
   },
   "source": [
    "**This notebook is an exercise in the [Intermediate Machine Learning](https://www.kaggle.com/learn/intermediate-machine-learning) course.  You can reference the tutorial at [this link](https://www.kaggle.com/alexisbcook/xgboost).**\n",
    "\n",
    "---\n"
   ]
  },
  {
   "cell_type": "markdown",
   "id": "37662ffa",
   "metadata": {
    "papermill": {
     "duration": 0.004961,
     "end_time": "2022-12-07T01:41:40.219846",
     "exception": false,
     "start_time": "2022-12-07T01:41:40.214885",
     "status": "completed"
    },
    "tags": []
   },
   "source": [
    "In this exercise, you will use your new knowledge to train a model with **gradient boosting**.\n",
    "\n",
    "# Setup\n",
    "\n",
    "The questions below will give you feedback on your work. Run the following cell to set up the feedback system."
   ]
  },
  {
   "cell_type": "code",
   "execution_count": 1,
   "id": "18785c93",
   "metadata": {
    "execution": {
     "iopub.execute_input": "2022-12-07T01:41:40.231869Z",
     "iopub.status.busy": "2022-12-07T01:41:40.231335Z",
     "iopub.status.idle": "2022-12-07T01:41:42.717213Z",
     "shell.execute_reply": "2022-12-07T01:41:42.716294Z"
    },
    "papermill": {
     "duration": 2.495292,
     "end_time": "2022-12-07T01:41:42.720041",
     "exception": false,
     "start_time": "2022-12-07T01:41:40.224749",
     "status": "completed"
    },
    "tags": []
   },
   "outputs": [
    {
     "name": "stdout",
     "output_type": "stream",
     "text": [
      "Setup Complete\n"
     ]
    }
   ],
   "source": [
    "# Set up code checking\n",
    "import os\n",
    "if not os.path.exists(\"../input/train.csv\"):\n",
    "    os.symlink(\"../input/home-data-for-ml-course/train.csv\", \"../input/train.csv\")  \n",
    "    os.symlink(\"../input/home-data-for-ml-course/test.csv\", \"../input/test.csv\") \n",
    "from learntools.core import binder\n",
    "binder.bind(globals())\n",
    "from learntools.ml_intermediate.ex6 import *\n",
    "print(\"Setup Complete\")"
   ]
  },
  {
   "cell_type": "markdown",
   "id": "8d9ca482",
   "metadata": {
    "papermill": {
     "duration": 0.004822,
     "end_time": "2022-12-07T01:41:42.730685",
     "exception": false,
     "start_time": "2022-12-07T01:41:42.725863",
     "status": "completed"
    },
    "tags": []
   },
   "source": [
    "You will work with the [Housing Prices Competition for Kaggle Learn Users](https://www.kaggle.com/c/home-data-for-ml-course) dataset from the previous exercise. \n",
    "\n",
    "![Ames Housing dataset image](https://i.imgur.com/lTJVG4e.png)\n",
    "\n",
    "Run the next code cell without changes to load the training and validation sets in `X_train`, `X_valid`, `y_train`, and `y_valid`.  The test set is loaded in `X_test`."
   ]
  },
  {
   "cell_type": "code",
   "execution_count": 2,
   "id": "391d1778",
   "metadata": {
    "execution": {
     "iopub.execute_input": "2022-12-07T01:41:42.742211Z",
     "iopub.status.busy": "2022-12-07T01:41:42.741816Z",
     "iopub.status.idle": "2022-12-07T01:41:42.929016Z",
     "shell.execute_reply": "2022-12-07T01:41:42.927717Z"
    },
    "papermill": {
     "duration": 0.197124,
     "end_time": "2022-12-07T01:41:42.932690",
     "exception": false,
     "start_time": "2022-12-07T01:41:42.735566",
     "status": "completed"
    },
    "tags": []
   },
   "outputs": [],
   "source": [
    "import pandas as pd\n",
    "from sklearn.model_selection import train_test_split\n",
    "\n",
    "# Read the data\n",
    "X = pd.read_csv('../input/train.csv', index_col='Id')\n",
    "X_test_full = pd.read_csv('../input/test.csv', index_col='Id')\n",
    "\n",
    "# Remove rows with missing target, separate target from predictors\n",
    "X.dropna(axis=0, subset=['SalePrice'], inplace=True)\n",
    "y = X.SalePrice              \n",
    "X.drop(['SalePrice'], axis=1, inplace=True)\n",
    "\n",
    "# Break off validation set from training data\n",
    "X_train_full, X_valid_full, y_train, y_valid = train_test_split(X, y, train_size=0.8, test_size=0.2,\n",
    "                                                                random_state=0)\n",
    "\n",
    "# \"Cardinality\" means the number of unique values in a column\n",
    "# Select categorical columns with relatively low cardinality (convenient but arbitrary)\n",
    "low_cardinality_cols = [cname for cname in X_train_full.columns if X_train_full[cname].nunique() < 10 and \n",
    "                        X_train_full[cname].dtype == \"object\"]\n",
    "\n",
    "# Select numeric columns\n",
    "numeric_cols = [cname for cname in X_train_full.columns if X_train_full[cname].dtype in ['int64', 'float64']]\n",
    "\n",
    "# Keep selected columns only\n",
    "my_cols = low_cardinality_cols + numeric_cols\n",
    "X_train = X_train_full[my_cols].copy()\n",
    "X_valid = X_valid_full[my_cols].copy()\n",
    "X_test = X_test_full[my_cols].copy()\n",
    "\n",
    "# One-hot encode the data (to shorten the code, we use pandas)\n",
    "X_train = pd.get_dummies(X_train)\n",
    "X_valid = pd.get_dummies(X_valid)\n",
    "X_test = pd.get_dummies(X_test)\n",
    "X_train, X_valid = X_train.align(X_valid, join='left', axis=1)\n",
    "X_train, X_test = X_train.align(X_test, join='left', axis=1)"
   ]
  },
  {
   "cell_type": "markdown",
   "id": "b5ecd9ce",
   "metadata": {
    "papermill": {
     "duration": 0.006009,
     "end_time": "2022-12-07T01:41:42.946913",
     "exception": false,
     "start_time": "2022-12-07T01:41:42.940904",
     "status": "completed"
    },
    "tags": []
   },
   "source": [
    "# Step 1: Build model\n",
    "\n",
    "### Part A\n",
    "\n",
    "In this step, you'll build and train your first model with gradient boosting.\n",
    "\n",
    "- Begin by setting `my_model_1` to an XGBoost model.  Use the [XGBRegressor](https://xgboost.readthedocs.io/en/latest/python/python_api.html#xgboost.XGBRegressor) class, and set the random seed to 0 (`random_state=0`).  **Leave all other parameters as default.**\n",
    "- Then, fit the model to the training data in `X_train` and `y_train`."
   ]
  },
  {
   "cell_type": "code",
   "execution_count": 3,
   "id": "a4060845",
   "metadata": {
    "execution": {
     "iopub.execute_input": "2022-12-07T01:41:42.962114Z",
     "iopub.status.busy": "2022-12-07T01:41:42.961275Z",
     "iopub.status.idle": "2022-12-07T01:41:43.963486Z",
     "shell.execute_reply": "2022-12-07T01:41:43.962671Z"
    },
    "papermill": {
     "duration": 1.011212,
     "end_time": "2022-12-07T01:41:43.965617",
     "exception": false,
     "start_time": "2022-12-07T01:41:42.954405",
     "status": "completed"
    },
    "tags": []
   },
   "outputs": [
    {
     "data": {
      "application/javascript": [
       "parent.postMessage({\"jupyterEvent\": \"custom.exercise_interaction\", \"data\": {\"outcomeType\": 1, \"valueTowardsCompletion\": 0.5, \"interactionType\": 1, \"questionType\": 2, \"questionId\": \"1.1_Model1A\", \"learnToolsVersion\": \"0.3.4\", \"failureMessage\": \"\", \"exceptionClass\": \"\", \"trace\": \"\"}}, \"*\")"
      ],
      "text/plain": [
       "<IPython.core.display.Javascript object>"
      ]
     },
     "metadata": {},
     "output_type": "display_data"
    },
    {
     "data": {
      "text/markdown": [
       "<span style=\"color:#33cc33\">Correct</span>"
      ],
      "text/plain": [
       "Correct"
      ]
     },
     "metadata": {},
     "output_type": "display_data"
    }
   ],
   "source": [
    "from xgboost import XGBRegressor\n",
    "\n",
    "# Define the model\n",
    "my_model_1 =XGBRegressor(random_state=0)\n",
    "\n",
    "# Fit the model\n",
    "my_model_1.fit(X_train, y_train)\n",
    "\n",
    "# Check your answer\n",
    "step_1.a.check()"
   ]
  },
  {
   "cell_type": "code",
   "execution_count": 4,
   "id": "7b791c60",
   "metadata": {
    "execution": {
     "iopub.execute_input": "2022-12-07T01:41:43.978407Z",
     "iopub.status.busy": "2022-12-07T01:41:43.977853Z",
     "iopub.status.idle": "2022-12-07T01:41:43.982358Z",
     "shell.execute_reply": "2022-12-07T01:41:43.981309Z"
    },
    "papermill": {
     "duration": 0.013414,
     "end_time": "2022-12-07T01:41:43.984565",
     "exception": false,
     "start_time": "2022-12-07T01:41:43.971151",
     "status": "completed"
    },
    "tags": []
   },
   "outputs": [],
   "source": [
    "# Lines below will give you a hint or solution code\n",
    "#step_1.a.hint()\n",
    "#step_1.a.solution()"
   ]
  },
  {
   "cell_type": "markdown",
   "id": "1195e58b",
   "metadata": {
    "papermill": {
     "duration": 0.005028,
     "end_time": "2022-12-07T01:41:43.994981",
     "exception": false,
     "start_time": "2022-12-07T01:41:43.989953",
     "status": "completed"
    },
    "tags": []
   },
   "source": [
    "### Part B\n",
    "\n",
    "Set `predictions_1` to the model's predictions for the validation data.  Recall that the validation features are stored in `X_valid`."
   ]
  },
  {
   "cell_type": "code",
   "execution_count": 5,
   "id": "136510ad",
   "metadata": {
    "execution": {
     "iopub.execute_input": "2022-12-07T01:41:44.009309Z",
     "iopub.status.busy": "2022-12-07T01:41:44.008499Z",
     "iopub.status.idle": "2022-12-07T01:41:44.030143Z",
     "shell.execute_reply": "2022-12-07T01:41:44.029037Z"
    },
    "papermill": {
     "duration": 0.030825,
     "end_time": "2022-12-07T01:41:44.032707",
     "exception": false,
     "start_time": "2022-12-07T01:41:44.001882",
     "status": "completed"
    },
    "tags": []
   },
   "outputs": [
    {
     "data": {
      "application/javascript": [
       "parent.postMessage({\"jupyterEvent\": \"custom.exercise_interaction\", \"data\": {\"outcomeType\": 1, \"valueTowardsCompletion\": 0.5, \"interactionType\": 1, \"questionType\": 2, \"questionId\": \"1.2_Model1B\", \"learnToolsVersion\": \"0.3.4\", \"failureMessage\": \"\", \"exceptionClass\": \"\", \"trace\": \"\"}}, \"*\")"
      ],
      "text/plain": [
       "<IPython.core.display.Javascript object>"
      ]
     },
     "metadata": {},
     "output_type": "display_data"
    },
    {
     "data": {
      "text/markdown": [
       "<span style=\"color:#33cc33\">Correct</span>"
      ],
      "text/plain": [
       "Correct"
      ]
     },
     "metadata": {},
     "output_type": "display_data"
    }
   ],
   "source": [
    "from sklearn.metrics import mean_absolute_error\n",
    "\n",
    "# Get predictions\n",
    "predictions_1 = my_model_1.predict(X_valid)\n",
    "\n",
    "# Check your answer\n",
    "step_1.b.check()"
   ]
  },
  {
   "cell_type": "code",
   "execution_count": 6,
   "id": "afc8c927",
   "metadata": {
    "execution": {
     "iopub.execute_input": "2022-12-07T01:41:44.047320Z",
     "iopub.status.busy": "2022-12-07T01:41:44.046875Z",
     "iopub.status.idle": "2022-12-07T01:41:44.051742Z",
     "shell.execute_reply": "2022-12-07T01:41:44.050729Z"
    },
    "papermill": {
     "duration": 0.014315,
     "end_time": "2022-12-07T01:41:44.054040",
     "exception": false,
     "start_time": "2022-12-07T01:41:44.039725",
     "status": "completed"
    },
    "tags": []
   },
   "outputs": [],
   "source": [
    "# Lines below will give you a hint or solution code\n",
    "#step_1.b.hint()\n",
    "#step_1.b.solution()"
   ]
  },
  {
   "cell_type": "markdown",
   "id": "8b56cf1c",
   "metadata": {
    "papermill": {
     "duration": 0.005346,
     "end_time": "2022-12-07T01:41:44.065080",
     "exception": false,
     "start_time": "2022-12-07T01:41:44.059734",
     "status": "completed"
    },
    "tags": []
   },
   "source": [
    "### Part C\n",
    "\n",
    "Finally, use the `mean_absolute_error()` function to calculate the mean absolute error (MAE) corresponding to the predictions for the validation set.  Recall that the labels for the validation data are stored in `y_valid`."
   ]
  },
  {
   "cell_type": "code",
   "execution_count": 7,
   "id": "7095eabb",
   "metadata": {
    "execution": {
     "iopub.execute_input": "2022-12-07T01:41:44.079564Z",
     "iopub.status.busy": "2022-12-07T01:41:44.078300Z",
     "iopub.status.idle": "2022-12-07T01:41:44.088966Z",
     "shell.execute_reply": "2022-12-07T01:41:44.088101Z"
    },
    "papermill": {
     "duration": 0.020063,
     "end_time": "2022-12-07T01:41:44.091225",
     "exception": false,
     "start_time": "2022-12-07T01:41:44.071162",
     "status": "completed"
    },
    "tags": []
   },
   "outputs": [
    {
     "data": {
      "application/javascript": [
       "parent.postMessage({\"jupyterEvent\": \"custom.exercise_interaction\", \"data\": {\"outcomeType\": 1, \"valueTowardsCompletion\": 0.5, \"interactionType\": 1, \"questionType\": 2, \"questionId\": \"1.3_Model1C\", \"learnToolsVersion\": \"0.3.4\", \"failureMessage\": \"\", \"exceptionClass\": \"\", \"trace\": \"\"}}, \"*\")"
      ],
      "text/plain": [
       "<IPython.core.display.Javascript object>"
      ]
     },
     "metadata": {},
     "output_type": "display_data"
    },
    {
     "data": {
      "text/markdown": [
       "<span style=\"color:#33cc33\">Correct</span>"
      ],
      "text/plain": [
       "Correct"
      ]
     },
     "metadata": {},
     "output_type": "display_data"
    }
   ],
   "source": [
    "# Calculate MAE\n",
    "mae_1 = mean_absolute_error(predictions_1, y_valid)\n",
    "\n",
    "# Uncomment to print MAE\n",
    "# print(\"Mean Absolute Error:\" , mae_1)\n",
    "\n",
    "# Check your answer\n",
    "step_1.c.check()"
   ]
  },
  {
   "cell_type": "code",
   "execution_count": 8,
   "id": "46c1df4c",
   "metadata": {
    "execution": {
     "iopub.execute_input": "2022-12-07T01:41:44.105394Z",
     "iopub.status.busy": "2022-12-07T01:41:44.104394Z",
     "iopub.status.idle": "2022-12-07T01:41:44.109744Z",
     "shell.execute_reply": "2022-12-07T01:41:44.108863Z"
    },
    "papermill": {
     "duration": 0.014912,
     "end_time": "2022-12-07T01:41:44.112017",
     "exception": false,
     "start_time": "2022-12-07T01:41:44.097105",
     "status": "completed"
    },
    "tags": []
   },
   "outputs": [],
   "source": [
    "# Lines below will give you a hint or solution code\n",
    "#step_1.c.hint()\n",
    "#step_1.c.solution()"
   ]
  },
  {
   "cell_type": "markdown",
   "id": "a59f5a14",
   "metadata": {
    "papermill": {
     "duration": 0.005542,
     "end_time": "2022-12-07T01:41:44.123498",
     "exception": false,
     "start_time": "2022-12-07T01:41:44.117956",
     "status": "completed"
    },
    "tags": []
   },
   "source": [
    "# Step 2: Improve the model\n",
    "\n",
    "Now that you've trained a default model as baseline, it's time to tinker with the parameters, to see if you can get better performance!\n",
    "- Begin by setting `my_model_2` to an XGBoost model, using the [XGBRegressor](https://xgboost.readthedocs.io/en/latest/python/python_api.html#xgboost.XGBRegressor) class.  Use what you learned in the previous tutorial to figure out how to change the default parameters (like `n_estimators` and `learning_rate`) to get better results.\n",
    "- Then, fit the model to the training data in `X_train` and `y_train`.\n",
    "- Set `predictions_2` to the model's predictions for the validation data.  Recall that the validation features are stored in `X_valid`.\n",
    "- Finally, use the `mean_absolute_error()` function to calculate the mean absolute error (MAE) corresponding to the predictions on the validation set.  Recall that the labels for the validation data are stored in `y_valid`.\n",
    "\n",
    "In order for this step to be marked correct, your model in `my_model_2` must attain lower MAE than the model in `my_model_1`. "
   ]
  },
  {
   "cell_type": "code",
   "execution_count": 9,
   "id": "53bfad0f",
   "metadata": {
    "execution": {
     "iopub.execute_input": "2022-12-07T01:41:44.137805Z",
     "iopub.status.busy": "2022-12-07T01:41:44.136603Z",
     "iopub.status.idle": "2022-12-07T01:41:46.833608Z",
     "shell.execute_reply": "2022-12-07T01:41:46.832724Z"
    },
    "papermill": {
     "duration": 2.706584,
     "end_time": "2022-12-07T01:41:46.836053",
     "exception": false,
     "start_time": "2022-12-07T01:41:44.129469",
     "status": "completed"
    },
    "tags": []
   },
   "outputs": [
    {
     "name": "stderr",
     "output_type": "stream",
     "text": [
      "/opt/conda/lib/python3.7/site-packages/xgboost/sklearn.py:797: UserWarning: `early_stopping_rounds` in `fit` method is deprecated for better compatibility with scikit-learn, use `early_stopping_rounds` in constructor or`set_params` instead.\n",
      "  UserWarning,\n"
     ]
    },
    {
     "data": {
      "application/javascript": [
       "parent.postMessage({\"jupyterEvent\": \"custom.exercise_interaction\", \"data\": {\"outcomeType\": 1, \"valueTowardsCompletion\": 0.5, \"interactionType\": 1, \"questionType\": 2, \"questionId\": \"2_Model2\", \"learnToolsVersion\": \"0.3.4\", \"failureMessage\": \"\", \"exceptionClass\": \"\", \"trace\": \"\"}}, \"*\")"
      ],
      "text/plain": [
       "<IPython.core.display.Javascript object>"
      ]
     },
     "metadata": {},
     "output_type": "display_data"
    },
    {
     "data": {
      "text/markdown": [
       "<span style=\"color:#33cc33\">Correct</span>"
      ],
      "text/plain": [
       "Correct"
      ]
     },
     "metadata": {},
     "output_type": "display_data"
    }
   ],
   "source": [
    "# Define the model\n",
    "my_model_2 = XGBRegressor(n_estimators = 1000, learning_rate = 0.05)\n",
    "\n",
    "# Fit the model\n",
    "my_model_2.fit(X_train, y_train, early_stopping_rounds = 5, eval_set=[(X_valid, y_valid)], verbose = False)\n",
    "\n",
    "# Get predictions\n",
    "predictions_2 = my_model_2.predict(X_valid)\n",
    "\n",
    "# Calculate MAE\n",
    "mae_2 = mean_absolute_error(predictions_2, y_valid)\n",
    "\n",
    "# Uncomment to print MAE\n",
    "# print(\"Mean Absolute Error:\" , mae_2)\n",
    "\n",
    "# Check your answer\n",
    "step_2.check()"
   ]
  },
  {
   "cell_type": "code",
   "execution_count": 10,
   "id": "5825debc",
   "metadata": {
    "execution": {
     "iopub.execute_input": "2022-12-07T01:41:46.851237Z",
     "iopub.status.busy": "2022-12-07T01:41:46.850811Z",
     "iopub.status.idle": "2022-12-07T01:41:46.855033Z",
     "shell.execute_reply": "2022-12-07T01:41:46.854200Z"
    },
    "papermill": {
     "duration": 0.013832,
     "end_time": "2022-12-07T01:41:46.856964",
     "exception": false,
     "start_time": "2022-12-07T01:41:46.843132",
     "status": "completed"
    },
    "tags": []
   },
   "outputs": [],
   "source": [
    "# Lines below will give you a hint or solution code\n",
    "#step_2.hint()\n",
    "#step_2.solution()"
   ]
  },
  {
   "cell_type": "markdown",
   "id": "a2695947",
   "metadata": {
    "papermill": {
     "duration": 0.005814,
     "end_time": "2022-12-07T01:41:46.868900",
     "exception": false,
     "start_time": "2022-12-07T01:41:46.863086",
     "status": "completed"
    },
    "tags": []
   },
   "source": [
    "# Step 3: Break the model\n",
    "\n",
    "In this step, you will create a model that performs worse than the original model in Step 1.  This will help you to develop your intuition for how to set parameters.  You might even find that you accidentally get better performance, which is ultimately a nice problem to have and a valuable learning experience!\n",
    "- Begin by setting `my_model_3` to an XGBoost model, using the [XGBRegressor](https://xgboost.readthedocs.io/en/latest/python/python_api.html#xgboost.XGBRegressor) class.  Use what you learned in the previous tutorial to figure out how to change the default parameters (like `n_estimators` and `learning_rate`) to design a model to get high MAE.\n",
    "- Then, fit the model to the training data in `X_train` and `y_train`.\n",
    "- Set `predictions_3` to the model's predictions for the validation data.  Recall that the validation features are stored in `X_valid`.\n",
    "- Finally, use the `mean_absolute_error()` function to calculate the mean absolute error (MAE) corresponding to the predictions on the validation set.  Recall that the labels for the validation data are stored in `y_valid`.\n",
    "\n",
    "In order for this step to be marked correct, your model in `my_model_3` must attain higher MAE than the model in `my_model_1`. "
   ]
  },
  {
   "cell_type": "code",
   "execution_count": 11,
   "id": "e8c284ee",
   "metadata": {
    "execution": {
     "iopub.execute_input": "2022-12-07T01:41:46.882889Z",
     "iopub.status.busy": "2022-12-07T01:41:46.882128Z",
     "iopub.status.idle": "2022-12-07T01:41:47.494977Z",
     "shell.execute_reply": "2022-12-07T01:41:47.494024Z"
    },
    "papermill": {
     "duration": 0.62263,
     "end_time": "2022-12-07T01:41:47.497444",
     "exception": false,
     "start_time": "2022-12-07T01:41:46.874814",
     "status": "completed"
    },
    "tags": []
   },
   "outputs": [
    {
     "name": "stderr",
     "output_type": "stream",
     "text": [
      "/opt/conda/lib/python3.7/site-packages/xgboost/sklearn.py:797: UserWarning: `early_stopping_rounds` in `fit` method is deprecated for better compatibility with scikit-learn, use `early_stopping_rounds` in constructor or`set_params` instead.\n",
      "  UserWarning,\n"
     ]
    },
    {
     "data": {
      "application/javascript": [
       "parent.postMessage({\"jupyterEvent\": \"custom.exercise_interaction\", \"data\": {\"outcomeType\": 1, \"valueTowardsCompletion\": 0.5, \"interactionType\": 1, \"questionType\": 2, \"questionId\": \"3_Model3\", \"learnToolsVersion\": \"0.3.4\", \"failureMessage\": \"\", \"exceptionClass\": \"\", \"trace\": \"\"}}, \"*\")"
      ],
      "text/plain": [
       "<IPython.core.display.Javascript object>"
      ]
     },
     "metadata": {},
     "output_type": "display_data"
    },
    {
     "data": {
      "text/markdown": [
       "<span style=\"color:#33cc33\">Correct</span>"
      ],
      "text/plain": [
       "Correct"
      ]
     },
     "metadata": {},
     "output_type": "display_data"
    }
   ],
   "source": [
    "# Define the model\n",
    "my_model_3 = XGBRegressor(n_estimators = 500)\n",
    "\n",
    "\n",
    "# Fit the model\n",
    "my_model_3.fit(X_train, y_train, early_stopping_rounds = 5, eval_set=[(X_valid, y_valid)], verbose = False)\n",
    "\n",
    "# Get predictions\n",
    "predictions_3 = my_model_3.predict(X_valid)\n",
    "\n",
    "# Calculate MAE\n",
    "mae_3 = mean_absolute_error(predictions_3, y_valid)\n",
    "\n",
    "# Uncomment to print MAE\n",
    "# print(\"Mean Absolute Error:\" , mae_3)\n",
    "\n",
    "# Check your answer\n",
    "step_3.check()"
   ]
  },
  {
   "cell_type": "code",
   "execution_count": 12,
   "id": "c2691cdb",
   "metadata": {
    "execution": {
     "iopub.execute_input": "2022-12-07T01:41:47.513127Z",
     "iopub.status.busy": "2022-12-07T01:41:47.512710Z",
     "iopub.status.idle": "2022-12-07T01:41:47.517443Z",
     "shell.execute_reply": "2022-12-07T01:41:47.516358Z"
    },
    "papermill": {
     "duration": 0.014781,
     "end_time": "2022-12-07T01:41:47.519762",
     "exception": false,
     "start_time": "2022-12-07T01:41:47.504981",
     "status": "completed"
    },
    "tags": []
   },
   "outputs": [],
   "source": [
    "# Lines below will give you a hint or solution code\n",
    "#step_3.hint()\n",
    "#step_3.solution()"
   ]
  },
  {
   "cell_type": "markdown",
   "id": "2abfcbe0",
   "metadata": {
    "papermill": {
     "duration": 0.006162,
     "end_time": "2022-12-07T01:41:47.532628",
     "exception": false,
     "start_time": "2022-12-07T01:41:47.526466",
     "status": "completed"
    },
    "tags": []
   },
   "source": [
    "# Keep going\n",
    "\n",
    "Continue to learn about **[data leakage](https://www.kaggle.com/alexisbcook/data-leakage)**.  This is an important issue for a data scientist to understand, and it has the potential to ruin your models in subtle and dangerous ways!"
   ]
  },
  {
   "cell_type": "markdown",
   "id": "7ec1b92a",
   "metadata": {
    "papermill": {
     "duration": 0.005992,
     "end_time": "2022-12-07T01:41:47.544914",
     "exception": false,
     "start_time": "2022-12-07T01:41:47.538922",
     "status": "completed"
    },
    "tags": []
   },
   "source": [
    "---\n",
    "\n",
    "\n",
    "\n",
    "\n",
    "*Have questions or comments? Visit the [course discussion forum](https://www.kaggle.com/learn/intermediate-machine-learning/discussion) to chat with other learners.*"
   ]
  }
 ],
 "metadata": {
  "kernelspec": {
   "display_name": "Python 3",
   "language": "python",
   "name": "python3"
  },
  "language_info": {
   "codemirror_mode": {
    "name": "ipython",
    "version": 3
   },
   "file_extension": ".py",
   "mimetype": "text/x-python",
   "name": "python",
   "nbconvert_exporter": "python",
   "pygments_lexer": "ipython3",
   "version": "3.7.12"
  },
  "papermill": {
   "default_parameters": {},
   "duration": 16.464709,
   "end_time": "2022-12-07T01:41:48.272017",
   "environment_variables": {},
   "exception": null,
   "input_path": "__notebook__.ipynb",
   "output_path": "__notebook__.ipynb",
   "parameters": {},
   "start_time": "2022-12-07T01:41:31.807308",
   "version": "2.3.4"
  }
 },
 "nbformat": 4,
 "nbformat_minor": 5
}
